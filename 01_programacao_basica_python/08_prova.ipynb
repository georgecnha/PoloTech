{
 "cells": [
  {
   "cell_type": "markdown",
   "id": "b3debb91",
   "metadata": {},
   "source": [
    "## Prova"
   ]
  },
  {
   "cell_type": "markdown",
   "id": "1f00fc89",
   "metadata": {},
   "source": [
    "__1) Cadastro de uma Empresa__ (3 pontos)\n",
    "\n",
    "Uma empresa de tecnologia teve problemas com o armazenamento das informações dos funcionários. Dessa forma, a empresa solicitou a você criar um formulário onde registre algumas das principais informações sobre o usuário como:\n",
    "\n",
    "- Nome Completo\n",
    "- Idade\n",
    "- Estado\n",
    "- Setor de Atuação (Dados, Engenharia, Dev, UX)\n",
    "- Tempo de Empresa\n",
    "- Salário\n",
    "\n",
    "Crie uma função chamada `formulario`, onde o objetivo dela é pedir essas informações como _inputs_ do Usuário (a função não vai receber parâmetros, apenas os _inputs_) (1 ponto)"
   ]
  },
  {
   "cell_type": "code",
   "execution_count": 9,
   "id": "7d218411",
   "metadata": {},
   "outputs": [],
   "source": [
    "def formulario ():\n",
    "    print(30*'-', 'FORMULÁRIO_DE_INFORMAÇÕES_PESSOAIS', 30*'-')\n",
    "    nome_completo = input('Nome Completo: ')\n",
    "    idade = input('Idade: ')\n",
    "    estado = input('Estado: ')\n",
    "    setor = input('Setor de Atuação: ')\n",
    "    tempo_de_empresa = input('Tempo de empresa: ')\n",
    "    salario = input('Salário: ')\n",
    "    return [nome_completo,idade,estado,setor,tempo_de_empresa,salario]"
   ]
  },
  {
   "cell_type": "markdown",
   "id": "b3ffccd8",
   "metadata": {},
   "source": [
    "Após criar a função `formulario`, crie uma função chamada de `armazenamento` onde essa função chamada a função `formulario` para receber os _inputs_ e depois armazena essas informações em um dicionário pré-criado (este dicionário deve servir de parâmetro para a função armazenamento) (1 ponto)"
   ]
  },
  {
   "cell_type": "code",
   "execution_count": 10,
   "id": "f94b7a69",
   "metadata": {},
   "outputs": [],
   "source": [
    "def armazenamento():\n",
    "    informacoes = formulario()\n",
    "    dicionario = dict(zip(['nome_completo', 'idade', 'estado', 'setor', 'tempo_de_empresa', 'salario'], informacoes))\n",
    "    return dicionario"
   ]
  },
  {
   "cell_type": "code",
   "execution_count": 11,
   "id": "4b073e4a",
   "metadata": {},
   "outputs": [
    {
     "name": "stdout",
     "output_type": "stream",
     "text": [
      "------------------------------ FORMULÁRIO_DE_INFORMAÇÕES_PESSOAIS ------------------------------\n",
      "Nome Completo: Felix Felicis\n",
      "Idade: 200\n",
      "Estado: PE\n",
      "Setor de Atuação: RH\n",
      "Tempo de empresa: 10\n",
      "Salário: 10000\n",
      "{'nome_completo': 'Felix Felicis', 'idade': '200', 'estado': 'PE', 'setor': 'RH', 'tempo_de_empresa': '10', 'salario': '10000'}\n"
     ]
    }
   ],
   "source": [
    "print(armazenamento())"
   ]
  },
  {
   "cell_type": "markdown",
   "id": "a7b7216f",
   "metadata": {},
   "source": [
    "Gere o dicionário com o registro de 4 funcionários (crie os dados dos funcionários!) (1 ponto)"
   ]
  },
  {
   "cell_type": "code",
   "execution_count": 8,
   "id": "a0a9835b",
   "metadata": {},
   "outputs": [
    {
     "name": "stdout",
     "output_type": "stream",
     "text": [
      "------------------------------ FORMULÁRIO_DE_INFORMAÇÕES_PESSOAIS ------------------------------\n",
      "Nome Completo: George\n",
      "Idade: 200\n",
      "Estado: CE\n",
      "Setor de Atuação: TI\n",
      "Tempo de empresa: 5\n",
      "salario: 5600\n",
      "------------------------------ FORMULÁRIO_DE_INFORMAÇÕES_PESSOAIS ------------------------------\n",
      "Nome Completo: Maria\n",
      "Idade: 150\n",
      "Estado: PE\n",
      "Setor de Atuação: RH\n",
      "Tempo de empresa: 10\n",
      "salario: 8000\n",
      "------------------------------ FORMULÁRIO_DE_INFORMAÇÕES_PESSOAIS ------------------------------\n",
      "Nome Completo: Lima Barreto\n",
      "Idade: 300\n",
      "Estado: SP\n",
      "Setor de Atuação: 20\n",
      "Tempo de empresa: 20\n",
      "salario: 10000\n",
      "------------------------------ FORMULÁRIO_DE_INFORMAÇÕES_PESSOAIS ------------------------------\n",
      "Nome Completo: Papagaio Apollo\n",
      "Idade: 10\n",
      "Estado: AC\n",
      "Setor de Atuação: RH\n",
      "Tempo de empresa: 10\n",
      "salario: 20000\n",
      "{'id_1': {'nome_completo': 'George', 'idade': '200', 'estado': 'CE', 'setor': 'TI', 'tempo_de_empresa': '5', 'salario': '5600'}, 'id_2': {'nome_completo': 'Maria', 'idade': '150', 'estado': 'PE', 'setor': 'RH', 'tempo_de_empresa': '10', 'salario': '8000'}, 'id_3': {'nome_completo': 'Lima Barreto', 'idade': '300', 'estado': 'SP', 'setor': '20', 'tempo_de_empresa': '20', 'salario': '10000'}, 'id_4': {'nome_completo': 'Papagaio Apollo', 'idade': '10', 'estado': 'AC', 'setor': 'RH', 'tempo_de_empresa': '10', 'salario': '20000'}}\n"
     ]
    }
   ],
   "source": [
    "funcionarios = {}\n",
    "for i in range(4):\n",
    "    funcionarios [f'id_{i+1}']=armazenamento()\n",
    "print(funcionarios)"
   ]
  },
  {
   "cell_type": "markdown",
   "id": "03051e48",
   "metadata": {},
   "source": [
    "__2) Holerite - INSS__ (1 ponto)\n",
    "\n",
    "Para quem trabalha com carteira assinada é extremamente importante que saba como funciona as contribuições sobre o salário para o INSS e o IRRF (imposto de renda). No caso para o cálculo do INSS temos como referência a tabela abaixo:\n",
    "\n",
    "<br>\n",
    "\n",
    "|    **Salário (R$)**    | **% de Contribuição na faixa** |\n",
    "|:----------------------:|:------------------------------:|\n",
    "|      Até 1.212,00      |              7,5%              |\n",
    "| de 1.212,01 a 2.427,35 |              9,0%              |\n",
    "| de 2.427,36 a 3.641,03 |               12%              |\n",
    "| de 3.641,04 a 7.087,22 |               !4%              |\n",
    "\n",
    "<br>\n",
    "\n",
    "Mas note que o cálculo é um pouco mais complexo devido a ser __calculada sobre a faixa__, conforme alguns exemplos:\n",
    "\n",
    "- Exemplo  1 - Salário R$ 1.100,00\n",
    "\n",
    "$$ INSS = 7,5\\% * 1.100,00 = R\\$ 82,50 $$\n",
    "\n",
    "<br>\n",
    "\n",
    "- Exemplo  2 - Salário R$ 3.500,00:\n",
    "\n",
    "Como este salário encontra-se na 3 faixa, a contribuição será igual ao teto da 1ª faixa + teto da 2ª faixa + diferença na 3ª faixa, conforme o exemplo:\n",
    "\n",
    "$$ INSS = max(1ª faixa) + max(2ª faixa) + diff(3ª faixa) = 7,5\\% * (1.212,00 - 0,00) + 9,0\\% * (2.427,35 - 1.212,01) + 12\\% * (3.500,00 - 2.427,36) = 90,90 + 109,38 + 128,72 = R\\$ 328,98 $$\n",
    "\n",
    "- Exemplo 3 - Salário R$ 10.000,00\n",
    "\n",
    "Note que para salários maiores que R$ 7.087,22, o valor da contribuição será igual ao teto de todas as faixas:\n",
    "\n",
    "$$ INSS = max(1ª faixa) + max(2ª faixa) + max(3ª faixa) + max(4ª faixa) = 7,5\\% * (1.212,00 - 0,00) + 9,0\\% * (2.427,35 - 1.212,01) + 12\\% * (3.641,03 - 2.427,36) + 14\\% * (7.087,22 - 3.641,04) = 90,90 + 109,38 + 145,64 + 482,47 = R\\$ 828,39 $$\n",
    "\n",
    "O objetivo deste exercício e montar uma função nomeada como `inss` que dado o valor do salário devolva qual vai ser a contribuição salarial para o INSS.  (1 ponto)"
   ]
  },
  {
   "cell_type": "code",
   "execution_count": 24,
   "id": "c940ba92",
   "metadata": {},
   "outputs": [],
   "source": [
    "def inss (salario:float)->float:\n",
    "    if salario <=1212.00:\n",
    "        inss = salario*(0.075)\n",
    "    elif 1212.01 <=salario<=2427.35:\n",
    "        inss = 0.075*(1212.00-0.00) + 0.09*(salario - 1212.01)\n",
    "    elif 2427.36 <=salario<= 3641.03:\n",
    "        inss  = 0.075*(1212.00-0.00) + 0.09*(2427.35 - 1212.01) + 0.12*(salario - 2427.36)\n",
    "    elif 3641.04<= salario<=7082.22:\n",
    "        inss  = 0.075*(1212.00-0.00) + 0.09*(2427.35 - 1212.01) + 0.12*(3641.03 - 2427.36) + 0.14*(salario -3641.04)\n",
    "    elif salario>7087.22:\n",
    "        inss  = 0.075*(1212.00-0.00) + 0.09*(2427.35 - 1212.01) + 0.12*(3641.03 - 2427.36) + 0.14*(7087.22 -3641.04)\n",
    "    return round(inss,2)"
   ]
  },
  {
   "cell_type": "code",
   "execution_count": 25,
   "id": "8fbdd081",
   "metadata": {},
   "outputs": [
    {
     "data": {
      "text/plain": [
       "828.39"
      ]
     },
     "execution_count": 25,
     "metadata": {},
     "output_type": "execute_result"
    }
   ],
   "source": [
    "inss(10000)"
   ]
  },
  {
   "cell_type": "markdown",
   "id": "af01ce84",
   "metadata": {},
   "source": [
    "__3) Holerite - IRRF__ (1 ponto)\n",
    "\n",
    "Para quem trabalha com carteira assinada é extremamente importante que saba como funciona as contribuições sobre o salário para o INSS e o IRRF (imposto de renda). Após conhecer como que funciona a contribuição ao INSS, agora vamos desenvolver algo em relação ao imposto de renda (IRRF). Par este cálculo também precisaremos de uma tabela de referência:\n",
    "\n",
    "<br>\n",
    "\n",
    "|       **Salário**      | **% de Contribuição** | **Desconto** |\n",
    "|:----------------------:|:---------------------:|:------------:|\n",
    "|      Até 1.903,98      |           0%          |     0,00     |\n",
    "| de 1.903,99 a 2.826,65 |         7,50%         |    142,80    |\n",
    "| de 2.826,66 a 3.751,05 |         15,00%        |    354,80    |\n",
    "| de 3.751,06 a 4.664,68 |         22,50%        |    636,13    |\n",
    "|    Acima de 4.664,68   |         27,50%        |    869,36    |\n",
    "\n",
    "<br>\n",
    "\n",
    "No caso do imposto de renda, a regra é um pouco diferente pois o percentual é calculado encima de todo o salário bruto menos alguns descontos, diferente do INSS que tinha contribuição por faixas. Além disso, no caso no imposto de renda a pessoa pode declarar dependentes e a cada dependente declarado recebe um desconto de 189,59. Para definir de fato o salário a ser considerado imposto deve descontar __o valor do INSS__ e o desconto de __dependentes__. Conforme os exemplos a seguir:\n",
    "\n",
    "\n",
    "##### Exemplo  1 - Salário 1.100,00 - nenhum dependente\n",
    "\n",
    "- Salário Bruto: 1.100,00\n",
    "- INSS: 82,50\n",
    "- Dependentes: 0,00\n",
    "- Salário considerado no IRRF = 1100 - 82,50 - 0 = 1.017,50\n",
    "\n",
    "- Faixa do IRRF - Primeira Faixa\n",
    "- Contribuição IRRF: 0,00\n",
    "- Salário Líquido: 1100 - 82,50 = 1.017,50\n",
    "\n",
    "<br>\n",
    "\n",
    "##### Exemplo  2 - Salário 3.500,00 - 1 dependente\n",
    "\n",
    "- Salário Bruto: 3.500,00\n",
    "- INSS: 328,98\n",
    "- Dependentes: 1*189,59 = 189,59\n",
    "- Salário considerado no IRRF = 3500 - 328,98 - 189,59 = 2.981,43\n",
    "\n",
    "- Faixa do IRRF - Terceira Faixa (15%)\n",
    "- Contribuição IRRF: 0.15*2981,43 - 354,80 = 92,41\n",
    "- Salário Líquido: 3500 - 328,92 - 92,41 = 3.078,67\n",
    "\n",
    "<br>\n",
    "\n",
    "##### Exemplo  3 - Salário 10.000,00 - 3 dependentes\n",
    "\n",
    "- Salário Bruto: 10.000,00\n",
    "- INSS: 828,39\n",
    "- Dependentes: 3*189,59 = 568,77\n",
    "- Salário considerado no IRRF = 10000 - 828,39 - 568,77 = 8.602,84\n",
    "\n",
    "- Faixa do IRRF - Última faixa (27,5%)\n",
    "- Contribuição IRRF: 0.275*8602,84 - 869,36 = 1.496,42\n",
    "- Salário Líquido: 10000 - 828,39 - 1496,42 = 7.675,19\n",
    "\n",
    "De senvolva a função nomeada como `irrf` onde irá receber o salario bruto (sem o desconto do INSS) e a quantidade de dependentes que a pessoa tiver. E a função deve devolver respectivamente o __valor da contribuição de imposto__ e o __salário líquido__. (1 ponto)\n"
   ]
  },
  {
   "cell_type": "code",
   "execution_count": 57,
   "id": "54f0117e",
   "metadata": {},
   "outputs": [],
   "source": [
    "def inss (salario:float)->float:\n",
    "    if salario <=1212.00:\n",
    "        inss = salario*(0.075)\n",
    "    elif 1212.01 <=salario<=2427.35:\n",
    "        inss = 0.075*(1212.00-0.00) + 0.09*(salario - 1212.01)\n",
    "    elif 2427.36 <=salario<= 3641.03:\n",
    "        inss  = 0.075*(1212.00-0.00) + 0.09*(2427.35 - 1212.01) + 0.12*(salario - 2427.36)\n",
    "    elif 3641.04<= salario<=7082.22:\n",
    "        inss  = 0.075*(1212.00-0.00) + 0.09*(2427.35 - 1212.01) + 0.12*(3641.03 - 2427.36) + 0.14*(salario -3641.04)\n",
    "    elif salario>7087.22:\n",
    "        inss  = 0.075*(1212.00-0.00) + 0.09*(2427.35 - 1212.01) + 0.12*(3641.03 - 2427.36) + 0.14*(7087.22 -3641.04)\n",
    "    return round(inss,2)\n",
    "\n",
    "def irrf (salario_bruto:float, n_dependentes:int)->float:\n",
    "    desconto_dep= n_dependentes*189.59\n",
    "    inss_val = inss(salario_bruto)\n",
    "    base_irrf= (salario_bruto - inss_val - desconto_dep)\n",
    "    desconto = 0\n",
    "    if base_irrf <=1903.98:\n",
    "        desconto = 0\n",
    "        taxa = 0\n",
    "        \n",
    "    elif 1903.99<=base_irrf<=2826.65:\n",
    "        desconto=142.80\n",
    "        taxa = 0.075\n",
    "        \n",
    "    elif 2826.66<= base_irrf<= 3751.05:\n",
    "        desconto= 354.80\n",
    "        taxa = 0.15\n",
    "        \n",
    "    \n",
    "    elif 3751.06<=base_irrf<= 4664.68:\n",
    "        desconto= 636.13\n",
    "        taxa= 0.225\n",
    "    \n",
    "    elif base_irrf>4664.68:\n",
    "        desconto= 869.36\n",
    "        taxa= 0.275 \n",
    "    \n",
    "    irrf = round((((base_irrf)  * taxa) -desconto),2)\n",
    "    salario_liquido = round((salario_bruto - inss_val - irrf),2)\n",
    "    \n",
    "    return (irrf, salario_liquido)\n",
    "    "
   ]
  },
  {
   "cell_type": "code",
   "execution_count": 60,
   "id": "af876283",
   "metadata": {},
   "outputs": [
    {
     "data": {
      "text/plain": [
       "(1496.42, 7675.19)"
      ]
     },
     "execution_count": 60,
     "metadata": {},
     "output_type": "execute_result"
    }
   ],
   "source": [
    "irrf(10000,3)"
   ]
  },
  {
   "cell_type": "markdown",
   "id": "11ebde57",
   "metadata": {},
   "source": [
    "__4) Média Harmônica__ (2 pontos)\n",
    "\n",
    "A __média harmônica__ é dada pela média de um conjunto de dados quaisquer utilizando da seguinte fórmula:\n",
    "\n",
    "$$\\frac{n}{\\frac{1}{x_1} + \\frac{1}{x_2} + \\frac{1}{x_3} + ... + \\frac{1}{x_n}}$$\n",
    "\n",
    "Note para qualquer valor de X que fique cada vez mais próximo de zero, a tendência é que a media harmônica caia rapidamente para zero.\n",
    "\n",
    "O objetvo desse exercício será dividido em duas partes partes:"
   ]
  },
  {
   "cell_type": "markdown",
   "id": "20575075",
   "metadata": {},
   "source": [
    "- Desenvolva uma função para calcular a __média aritmética__, __média geométrica__ e __média harmonica__ dado como parâmetro uma lista de números inteiros: (1 ponto)"
   ]
  },
  {
   "cell_type": "code",
   "execution_count": 61,
   "id": "b8ccaa35",
   "metadata": {},
   "outputs": [],
   "source": [
    "def media_aritmetica(lista: list)->float:\n",
    "    \"\"\"Recebe uma lista com pelo menos um número e retorna a média aritmética daquela lista\"\"\"\n",
    "    media=sum(lista)/(len(lista))\n",
    "    return media\n",
    "\n",
    "def media_geometrica(lista:list)->float:\n",
    "    \"\"\"Recebe uma lista com pelo menos um número e retorna a média geométrica daquela lista\"\"\"    \n",
    "    media_n=1\n",
    "    n=len(lista)\n",
    "    for item in lista:\n",
    "        media_n*=item\n",
    "    media_g=media_n**(1/n)\n",
    "    return media_g\n",
    "\n",
    "def media_harmonica(lista:list)->float:\n",
    "    \"\"\"Recebe uma lista com pelo menos um número e retorna a média harmônica daquela lista\"\"\"\n",
    "    n = len(lista)\n",
    "    denominador = 0\n",
    "    for i in range (n):\n",
    "        denominador+= 1/(lista[i])\n",
    "    media_h= n/denominador\n",
    "    return media_h\n",
    "    "
   ]
  },
  {
   "cell_type": "markdown",
   "id": "dea22f1c",
   "metadata": {},
   "source": [
    "- Crie uma lista aleatória com 10 elementos variando eles entre 1 e 10 (utilize a biblioteca random). Após isso, avalie como cada uma das médias evolui ao longo da quntidade de elementos que utilizar. Então crie uma malha de repetição que irá calcular ambas as médias e mostrar os resultados utilizando inicialmente os dois primeiros números e ir aumentando progressivamente até utilizar todos eles: (1 ponto)"
   ]
  },
  {
   "cell_type": "code",
   "execution_count": 68,
   "id": "62285812",
   "metadata": {},
   "outputs": [
    {
     "name": "stdout",
     "output_type": "stream",
     "text": [
      "Quantidade de elementos: 2\n",
      "Lista utilizada: [4, 4, 6, 7, 4, 4, 3, 6, 2, 7]\n",
      "Média Aritmética: 4.7\n",
      "Média Geométrica: 4.39834183857579\n",
      "Média Harmônica: 4.077669902912622\n",
      "--------------------------------------------\n",
      "Quantidade de elementos: 3\n",
      "Lista utilizada: [4, 4, 6, 7, 4, 4, 3, 6, 2, 7]\n",
      "Média Aritmética: 4.7\n",
      "Média Geométrica: 4.39834183857579\n",
      "Média Harmônica: 4.077669902912622\n",
      "--------------------------------------------\n",
      "Quantidade de elementos: 4\n",
      "Lista utilizada: [4, 4, 6, 7, 4, 4, 3, 6, 2, 7]\n",
      "Média Aritmética: 4.7\n",
      "Média Geométrica: 4.39834183857579\n",
      "Média Harmônica: 4.077669902912622\n",
      "--------------------------------------------\n",
      "Quantidade de elementos: 5\n",
      "Lista utilizada: [4, 4, 6, 7, 4, 4, 3, 6, 2, 7]\n",
      "Média Aritmética: 4.7\n",
      "Média Geométrica: 4.39834183857579\n",
      "Média Harmônica: 4.077669902912622\n",
      "--------------------------------------------\n",
      "Quantidade de elementos: 6\n",
      "Lista utilizada: [4, 4, 6, 7, 4, 4, 3, 6, 2, 7]\n",
      "Média Aritmética: 4.7\n",
      "Média Geométrica: 4.39834183857579\n",
      "Média Harmônica: 4.077669902912622\n",
      "--------------------------------------------\n",
      "Quantidade de elementos: 7\n",
      "Lista utilizada: [4, 4, 6, 7, 4, 4, 3, 6, 2, 7]\n",
      "Média Aritmética: 4.7\n",
      "Média Geométrica: 4.39834183857579\n",
      "Média Harmônica: 4.077669902912622\n",
      "--------------------------------------------\n",
      "Quantidade de elementos: 8\n",
      "Lista utilizada: [4, 4, 6, 7, 4, 4, 3, 6, 2, 7]\n",
      "Média Aritmética: 4.7\n",
      "Média Geométrica: 4.39834183857579\n",
      "Média Harmônica: 4.077669902912622\n",
      "--------------------------------------------\n",
      "Quantidade de elementos: 9\n",
      "Lista utilizada: [4, 4, 6, 7, 4, 4, 3, 6, 2, 7]\n",
      "Média Aritmética: 4.7\n",
      "Média Geométrica: 4.39834183857579\n",
      "Média Harmônica: 4.077669902912622\n",
      "--------------------------------------------\n",
      "Quantidade de elementos: 10\n",
      "Lista utilizada: [4, 4, 6, 7, 4, 4, 3, 6, 2, 7]\n",
      "Média Aritmética: 4.7\n",
      "Média Geométrica: 4.39834183857579\n",
      "Média Harmônica: 4.077669902912622\n",
      "--------------------------------------------\n"
     ]
    }
   ],
   "source": [
    "from random import randint\n",
    "lista_aleatoria=[]\n",
    "\n",
    "for i in range(10):\n",
    "    lista_aleatoria.append(randint(1,10))\n",
    "    \n",
    "for i in range(2, len(lista_aleatoria)+1):\n",
    "    print(f'Quantidade de elementos: {i}')\n",
    "    print(f'Lista utilizada: {lista_aleatoria}')\n",
    "    print(f'Média Aritmética: {media_aritmetica(lista_aleatoria)}')\n",
    "    print(f'Média Geométrica: {media_geometrica(lista_aleatoria)}')\n",
    "    print(f'Média Harmônica: {media_harmonica(lista_aleatoria)}')\n",
    "    print(44*'-')"
   ]
  },
  {
   "cell_type": "markdown",
   "id": "a9dc00f9",
   "metadata": {},
   "source": [
    "__5) Progressão Geométrica__ (1 ponto)\n",
    "\n",
    "A progressão geométrica (PG) é uma sequência de números onde a diferença entre dois consecutivos é sempre a mesma. Um exemplo de uma PG pode ser dado pela base de múltiplos de 2 , onde temos que (2, 4, 8, 16, ...)\n",
    "\n",
    "Uma PG segue a seguinte equação:\n",
    "\n",
    "$$ a_n = a_1 * q^{n - 1} $$\n",
    "\n",
    "onde, $ a_n$ é o n-ésimo elemento da PA, $a_1$ é o primeiro elemento da sequência, n é a quantidade de elementos considerada e $q$ a razão ou ordem de grandeza que aumenta de um elemento ao outro.\n",
    "\n",
    "O Objetivo do exercício será desenvolver uma função nomeada `progressao_geometrica` onde receberá como parâmetros $a_1$, $n$ e $q$ e a função deve devolvar o elemento $a_n$ e printar todos os elementos da PG em $a_1$ e $a_n$"
   ]
  },
  {
   "cell_type": "code",
   "execution_count": 69,
   "id": "3f1fc13a",
   "metadata": {},
   "outputs": [
    {
     "name": "stdout",
     "output_type": "stream",
     "text": [
      "an = 9765625\n",
      "Sequência = [5, 25, 125, 625, 3125, 15625, 78125, 390625, 1953125, 9765625]\n"
     ]
    },
    {
     "data": {
      "text/plain": [
       "9765625"
      ]
     },
     "execution_count": 69,
     "metadata": {},
     "output_type": "execute_result"
    }
   ],
   "source": [
    "def progressao_geometrica(a1:float, n:float, q:float)->float:\n",
    "    \"\"\"recebe três inteiros (a1, n e q) e retorna an, \"\"\"\n",
    "    an = a1 * (q**(n-1))\n",
    "    sequencia=[]\n",
    "    print(f'an = {an}')\n",
    "    \n",
    "    ani=a1\n",
    "    for i in range(1,n+1):\n",
    "        ani=a1 * (q**(i-1))\n",
    "        sequencia.append(ani)\n",
    "        \n",
    "    print(f'Sequência = {sequencia}')\n",
    "    return(an)\n",
    "        \n",
    "progressao_geometrica(a1 = 5, n = 10, q = 5) \n",
    "        "
   ]
  },
  {
   "cell_type": "markdown",
   "id": "c806c6d3",
   "metadata": {},
   "source": [
    "__6) Conversor DNA e RNA__ (1 ponto)\n",
    "\n",
    "O código genético formado pelo DNA e RNA são compostos de alguns aminoácidos como Adenina (A), Guanina (G), Citosina (C), Timina(T) e Uracila(U). A cadeia do DNA é composto pelos aminoácidos AGCT e do RNA seria AGCU, pois ao copiar do DNA ele substitui o aminoácido Timina (T) pela Uracila (U). O objetivo deste exercício será desenvlver uma função que chamada de `tradutor_dna_to_rna` onde como entrada irá receber uma `string`com o código do DNA e deve-se devolver o código traduzido pelo RNA."
   ]
  },
  {
   "cell_type": "code",
   "execution_count": 97,
   "id": "7079323b",
   "metadata": {},
   "outputs": [],
   "source": [
    "def tradutor_dna_to_rna (dna: str)->str:\n",
    "    rna_list=[]\n",
    "    for caracter in (dna):\n",
    "        if caracter=='A':\n",
    "            rna_list.append(caracter)\n",
    "        elif caracter=='G':\n",
    "            rna_list.append(caracter)\n",
    "        elif caracter=='C':\n",
    "            rna_list.append(caracter)\n",
    "        elif caracter=='T':\n",
    "            rna_list.append('U')\n",
    "        rna=''.join(rna_list)\n",
    "    return rna"
   ]
  },
  {
   "cell_type": "code",
   "execution_count": 98,
   "id": "15f28182",
   "metadata": {},
   "outputs": [
    {
     "data": {
      "text/plain": [
       "'AGCU'"
      ]
     },
     "execution_count": 98,
     "metadata": {},
     "output_type": "execute_result"
    }
   ],
   "source": [
    "tradutor_dna_to_rna(\"AGCT\")"
   ]
  },
  {
   "cell_type": "markdown",
   "id": "3854cfed",
   "metadata": {},
   "source": [
    "__7) Conversor Binario para Numero__ (2 pontos)\n",
    "\n",
    "O Sistema binário é uma representação da matemática onde a base de referência para a construção dos números é o 2 ao invés do 10 comum na base decimal. Por exemplo o binário `1001` na base decimal será igual $ 1001 = 1*2^3 + 0*2^2 + 0*2^1 + 1*2^0 = 9 $. O objetivo deste exercício é desenvolver uma função nomeada como `conversor_binario`, onde irá receber uma `string` com o número binário correspondente e a função deve devolver o respectivo número na base decimal."
   ]
  },
  {
   "cell_type": "code",
   "execution_count": 101,
   "id": "aa084073",
   "metadata": {},
   "outputs": [],
   "source": [
    "def conversor_binario (binario:str)->int:\n",
    "    \"\"\"Recebe uma string com o número binário correspondente e retorna o respectivo número na base decimal.\"\"\"\n",
    "    decimal=0\n",
    "    n=len(binario)\n",
    "    magico=1\n",
    "    for caracter in binario:\n",
    "        decimal+=int(caracter)*(2**(n-magico))\n",
    "        magico+=1\n",
    "    return decimal"
   ]
  },
  {
   "cell_type": "code",
   "execution_count": null,
   "id": "d7199711",
   "metadata": {},
   "outputs": [],
   "source": []
  }
 ],
 "metadata": {
  "kernelspec": {
   "display_name": "Python 3 (ipykernel)",
   "language": "python",
   "name": "python3"
  },
  "language_info": {
   "codemirror_mode": {
    "name": "ipython",
    "version": 3
   },
   "file_extension": ".py",
   "mimetype": "text/x-python",
   "name": "python",
   "nbconvert_exporter": "python",
   "pygments_lexer": "ipython3",
   "version": "3.9.12"
  }
 },
 "nbformat": 4,
 "nbformat_minor": 5
}
