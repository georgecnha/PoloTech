{
 "cells": [
  {
   "cell_type": "markdown",
   "id": "17ada4d0",
   "metadata": {},
   "source": [
    "## Aula 08 - Exercícios de Revisão\n",
    "\n",
    "\n",
    "A aula será exclusivamente para realizar exercícios de revisão para a prova. Vocês terão 2h para desenvolver com calma os exercícios e na hora final da aula o professor irá resolvê-los em sala.\n",
    "\n",
    "<br>"
   ]
  },
  {
   "cell_type": "markdown",
   "id": "63078723",
   "metadata": {},
   "source": [
    "## __Progressão Aritmética__"
   ]
  },
  {
   "cell_type": "markdown",
   "id": "06dd3b6e",
   "metadata": {},
   "source": [
    "A progressão aritmética (PA) é uma sequência de números onde a diferença entre dois consecutivos é sempre a mesma. Um exemplo de uma PA pode ser dada com a sequência de números impares ou pares no exemplo (1, 3, 5, 7,..) e (2, 4, 6, ...) respectivamente.\n",
    "\n",
    "Uma PA segue a seguinte equação:\n",
    "\n",
    "$$ a_n = a_1 + (n - 1)r $$\n",
    "\n",
    "onde, $ a_n$ é o n-ésimo elemento da PA, $a_1$ é o primeiro elemento da sequência, n é a quantidade de elementos considerada e $r$ a razão ou ordem de grandeza que aumenta de um elemento ao outro.\n",
    "\n",
    "O Objetivo do exercício será desenvolver uma função nomeada `progressao_aritmetica` onde receberá como parâmetros $a_1$, $n$ e $r$ e a função deve printar o elemento $a_n$ e printar todos os elementos da PA em $a_1$ e $a_n$"
   ]
  },
  {
   "cell_type": "code",
   "execution_count": 1,
   "id": "7014e86d",
   "metadata": {},
   "outputs": [
    {
     "name": "stdout",
     "output_type": "stream",
     "text": [
      "an = 50\n",
      "Sequência = [5, 10, 15, 20, 25, 30, 35, 40, 45, 50]\n"
     ]
    }
   ],
   "source": [
    "def progressao_aritmetica(a1:int, n:int, r:int)->int:\n",
    "    \"\"\"recebe três inteiros (a1, n e r) e retorna an, \"\"\"\n",
    "    an = a1 + (n-1)*r\n",
    "    sequencia=[]\n",
    "    print(f'an = {an}')\n",
    "    for i in range(a1, an+r, r):\n",
    "        an=i\n",
    "        sequencia.append(an)\n",
    "        \n",
    "    print(f'Sequência = {sequencia}')\n",
    "        \n",
    "progressao_aritmetica(a1 = 5, n = 10, r = 5) \n",
    "        \n"
   ]
  },
  {
   "cell_type": "code",
   "execution_count": 2,
   "id": "df960e95",
   "metadata": {},
   "outputs": [],
   "source": [
    "# Exemplo\n",
    "#progressao_aritmetica(a1 = 5, n = 10, r = 5))\n",
    "\n",
    "# Resultado\n",
    "# an = 50\n",
    "# Sequencia = [5, 10, 15, 20, 25, 30, 35, 40, 45, 50]"
   ]
  },
  {
   "cell_type": "markdown",
   "id": "13b1ec40",
   "metadata": {},
   "source": [
    "## "
   ]
  },
  {
   "cell_type": "markdown",
   "id": "f7410e45",
   "metadata": {},
   "source": [
    "## Média Geométrica"
   ]
  },
  {
   "cell_type": "markdown",
   "id": "60b2fa62",
   "metadata": {},
   "source": [
    "A __média geométrica__ é dada pela média de um conjunto de dados quaisquer utilizando da seguinte fórmula:\n",
    "\n",
    "$$\\sqrt[n]{x_1 * x_2 * x_3 * ... *x_n}$$\n",
    "\n",
    "Note que para a média geométrica, será necessário pelo menos um conjunto de dados com 2 elementos até $n$ elementos que queira usar.\n",
    "\n",
    "O objetvo desse exercício será dividido em algumas partes:"
   ]
  },
  {
   "cell_type": "markdown",
   "id": "c41be8bc",
   "metadata": {},
   "source": [
    "- Desenvolva uma função para calcular a __média aritmética__ e outra para __média geométrica__ dado como parâmetro uma lista de números inteiros:"
   ]
  },
  {
   "cell_type": "code",
   "execution_count": 20,
   "id": "9799c797",
   "metadata": {},
   "outputs": [],
   "source": [
    "def media_aritmetica(lista: list)->float:\n",
    "    media=sum(lista)/(len(lista))\n",
    "    return media\n",
    "\n",
    "def media_geometrica(lista:list)->float:\n",
    "    median=1\n",
    "    n=len(lista)\n",
    "    for item in lista:\n",
    "        median*=item\n",
    "    media_g=median**(1/n)\n",
    "    return media_g"
   ]
  },
  {
   "cell_type": "markdown",
   "id": "32700a56",
   "metadata": {},
   "source": [
    "- Crie uma lista aleatória com 10 elementos variando eles entre 10 e 40 (utilize a biblioteca random):"
   ]
  },
  {
   "cell_type": "code",
   "execution_count": 21,
   "id": "a695c5b5",
   "metadata": {},
   "outputs": [
    {
     "name": "stdout",
     "output_type": "stream",
     "text": [
      "[16, 27, 29, 10, 40, 36, 20, 21, 30, 32]\n"
     ]
    }
   ],
   "source": [
    "from random import randint\n",
    "lista=[]\n",
    "for i in range (10):\n",
    "    n=randint(10,40)\n",
    "    lista.append(n)\n",
    "print(lista)"
   ]
  },
  {
   "cell_type": "markdown",
   "id": "3d6a043e",
   "metadata": {},
   "source": [
    "- Vamos avaliar a como cada uma das médias evolui ao longo da quntidade de elementos que utilizar. Então crie uma malha de repetição que irá calcular ambas as médias e mostrar os resultados utilizando inicialmente os dois primeiros números e ir aumentando progressivamente até utilizar todos eles:"
   ]
  },
  {
   "cell_type": "code",
   "execution_count": 22,
   "id": "e1f08cda",
   "metadata": {},
   "outputs": [],
   "source": [
    "def evolution(lista:list):\n",
    "    for i in range(2, len(lista)+1):\n",
    "        lista_temp=[]                      #lista temporária para cada progressão\n",
    "        for n in range (i):\n",
    "            lista_temp.append(lista[n])\n",
    "        print(f'Quantidade de elementos: {i}')\n",
    "        print(f'Lista utilizada: {lista_temp}')\n",
    "        print(f'Média Aritmética: {media_aritmetica(lista_temp)}')\n",
    "        print(f'Média Geométrica: {media_geometrica(lista_temp)}')\n",
    "        print(44*'-')\n",
    "              \n",
    "    \n",
    "    "
   ]
  },
  {
   "cell_type": "code",
   "execution_count": 23,
   "id": "55d12051",
   "metadata": {},
   "outputs": [
    {
     "name": "stdout",
     "output_type": "stream",
     "text": [
      "Quantidade de elementos: 2\n",
      "Lista utilizada: [21, 17]\n",
      "Média Aritmética: 19.0\n",
      "Média Geométrica: 18.894443627691185\n",
      "--------------------------------------------\n",
      "Quantidade de elementos: 3\n",
      "Lista utilizada: [21, 17, 23]\n",
      "Média Aritmética: 20.333333333333332\n",
      "Média Geométrica: 20.174309725802953\n",
      "--------------------------------------------\n",
      "Quantidade de elementos: 4\n",
      "Lista utilizada: [21, 17, 23, 35]\n",
      "Média Aritmética: 24.0\n",
      "Média Geométrica: 23.153466607816682\n",
      "--------------------------------------------\n",
      "Quantidade de elementos: 5\n",
      "Lista utilizada: [21, 17, 23, 35, 34]\n",
      "Média Aritmética: 26.0\n",
      "Média Geométrica: 25.002797453870095\n",
      "--------------------------------------------\n",
      "Quantidade de elementos: 6\n",
      "Lista utilizada: [21, 17, 23, 35, 34, 15]\n",
      "Média Aritmética: 24.166666666666668\n",
      "Média Geométrica: 22.961788486078166\n",
      "--------------------------------------------\n",
      "Quantidade de elementos: 7\n",
      "Lista utilizada: [21, 17, 23, 35, 34, 15, 21]\n",
      "Média Aritmética: 23.714285714285715\n",
      "Média Geométrica: 22.670692970970943\n",
      "--------------------------------------------\n",
      "Quantidade de elementos: 8\n",
      "Lista utilizada: [21, 17, 23, 35, 34, 15, 21, 36]\n",
      "Média Aritmética: 25.25\n",
      "Média Geométrica: 24.019806723491527\n",
      "--------------------------------------------\n",
      "Quantidade de elementos: 9\n",
      "Lista utilizada: [21, 17, 23, 35, 34, 15, 21, 36, 14]\n",
      "Média Aritmética: 24.0\n",
      "Média Geométrica: 22.621450879554683\n",
      "--------------------------------------------\n",
      "Quantidade de elementos: 10\n",
      "Lista utilizada: [21, 17, 23, 35, 34, 15, 21, 36, 14, 26]\n",
      "Média Aritmética: 24.2\n",
      "Média Geométrica: 22.93853856604068\n",
      "--------------------------------------------\n"
     ]
    }
   ],
   "source": [
    "evolution([21, 17, 23, 35, 34, 15, 21, 36, 14, 26])"
   ]
  },
  {
   "cell_type": "code",
   "execution_count": 24,
   "id": "fe81e4da",
   "metadata": {},
   "outputs": [
    {
     "name": "stdout",
     "output_type": "stream",
     "text": [
      "Quantidade de elementos: 2\n",
      "Lista utilizada: [21, 17]\n",
      "Média Aritmética: 19.0\n",
      "Média Geométrica: 18.894443627691185\n",
      "--------------------------------------------\n",
      "Quantidade de elementos: 3\n",
      "Lista utilizada: [21, 17, 23]\n",
      "Média Aritmética: 20.333333333333332\n",
      "Média Geométrica: 20.174309725802953\n",
      "--------------------------------------------\n",
      "Quantidade de elementos: 4\n",
      "Lista utilizada: [21, 17, 23, 35]\n",
      "Média Aritmética: 24.0\n",
      "Média Geométrica: 23.153466607816682\n",
      "--------------------------------------------\n",
      "Quantidade de elementos: 5\n",
      "Lista utilizada: [21, 17, 23, 35, 34]\n",
      "Média Aritmética: 26.0\n",
      "Média Geométrica: 25.002797453870095\n",
      "--------------------------------------------\n",
      "Quantidade de elementos: 6\n",
      "Lista utilizada: [21, 17, 23, 35, 34, 15]\n",
      "Média Aritmética: 24.166666666666668\n",
      "Média Geométrica: 22.961788486078166\n",
      "--------------------------------------------\n",
      "Quantidade de elementos: 7\n",
      "Lista utilizada: [21, 17, 23, 35, 34, 15, 21]\n",
      "Média Aritmética: 23.714285714285715\n",
      "Média Geométrica: 22.670692970970943\n",
      "--------------------------------------------\n",
      "Quantidade de elementos: 8\n",
      "Lista utilizada: [21, 17, 23, 35, 34, 15, 21, 36]\n",
      "Média Aritmética: 25.25\n",
      "Média Geométrica: 24.019806723491527\n",
      "--------------------------------------------\n",
      "Quantidade de elementos: 9\n",
      "Lista utilizada: [21, 17, 23, 35, 34, 15, 21, 36, 14]\n",
      "Média Aritmética: 24.0\n",
      "Média Geométrica: 22.621450879554683\n",
      "--------------------------------------------\n",
      "Quantidade de elementos: 10\n",
      "Lista utilizada: [21, 17, 23, 35, 34, 15, 21, 36, 14, 26]\n",
      "Média Aritmética: 24.2\n",
      "Média Geométrica: 22.93853856604068\n",
      "--------------------------------------------\n"
     ]
    }
   ],
   "source": [
    "def evolution(lista:list):\n",
    "    for i in range(2, len(lista)+1):\n",
    "        lista_temp=lista[:i]\n",
    "        print(f'Quantidade de elementos: {i}')\n",
    "        print(f'Lista utilizada: {lista_temp}')\n",
    "        print(f'Média Aritmética: {media_aritmetica(lista_temp)}')\n",
    "        print(f'Média Geométrica: {media_geometrica(lista_temp)}')\n",
    "        print(44*'-')\n",
    "              \n",
    "    \n",
    "evolution([21, 17, 23, 35, 34, 15, 21, 36, 14, 26])   "
   ]
  },
  {
   "cell_type": "code",
   "execution_count": 25,
   "id": "f40b76da",
   "metadata": {},
   "outputs": [],
   "source": [
    "# Exemplo\n",
    "# Lista = [21, 17, 23, 35, 34, 15, 21, 36, 14, 26]\n",
    "\n",
    "# Resultado:\n",
    "#Quantidade de elementos:  2\n",
    "#Lista utilizada:  [21, 17]\n",
    "#Média Aritmética:  19.0\n",
    "#Media Geométrica:  18.894443627691185\n",
    "#----------------------------------\n",
    "#Quantidade de elementos:  3\n",
    "#Lista utilizada:  [21, 17, 23]\n",
    "#Média Aritmética:  20.333333333333332\n",
    "#Media Geométrica:  20.174309725802953\n",
    "# e assim or diante até o 10"
   ]
  },
  {
   "cell_type": "markdown",
   "id": "48f81750",
   "metadata": {},
   "source": [
    "## "
   ]
  },
  {
   "cell_type": "markdown",
   "id": "cede3e34",
   "metadata": {},
   "source": [
    "## Frequência de Notas\n",
    "\n",
    "Após aplicar a prova para 40 alunos do módulo de técnicas de programação, o professor gostaria de avaliar qual foi a nota mais frequente e quantos alunos tiraram essa nota. Para isso, você deve desenvolver uma função nomeada `nota_mais_frequente`, onde será recebido uma __lista com 40 notas de alunos__ e a função deve retornar uma __lista__ com respectivamente a indicação de __qual é a nota mais frequente__ e o valor de __quantas vezes ocorreu essa nota__.\n",
    "\n",
    "Importante destacar que as notas são valores positivos e inteiros que variam entre 0 e 10. Além disso, caso 2 ou mais notas sejam a mais frequente, o retorno da função deve ser a __menor nota__."
   ]
  },
  {
   "cell_type": "code",
   "execution_count": 26,
   "id": "4aa43a51",
   "metadata": {},
   "outputs": [],
   "source": [
    "def nota_mais_frequente(x:list):\n",
    "    x.sort()\n",
    "#Criar lista de coisas a se verificar o count()\n",
    "    lista_resumida =[]\n",
    "    contagem=[]\n",
    "    multimoda=[]\n",
    "    for i in x:\n",
    "        if i not in lista_resumida:\n",
    "            lista_resumida.append(i)\n",
    "    lista_resumida.sort()\n",
    "#Contar cada item\n",
    "    for valor in lista_resumida:\n",
    "        contagem.append(x.count(valor))\n",
    "    \n",
    "#CASO SEM MODA\n",
    "#Se não houver moda, interromper o programa\n",
    "    if max(contagem)<=1:\n",
    "        return None\n",
    "\n",
    "#CASO MULTIMODAL     \n",
    "#Se houver moda, verificar se existe mais de uma\n",
    "    elif contagem.count(max(contagem))>1:\n",
    "        #Se sim, cada moda será armazenada\n",
    "        for valor in lista_resumida:\n",
    "            if x.count(valor)==max(contagem):\n",
    "                multimoda.append(valor)\n",
    "        if len(multimoda)>1:\n",
    "            return min(multimoda), x.count(min(multimoda)) #O menor valor de moda será retorndo\n",
    "#CASO UNIMODAL    \n",
    "    if contagem.count(max(contagem))==1:\n",
    "        for valor in lista_resumida:\n",
    "            if (x.count(valor))== max(contagem):\n",
    "                return valor, x.count(valor)\n",
    "    "
   ]
  },
  {
   "cell_type": "code",
   "execution_count": 27,
   "id": "5ceaafab",
   "metadata": {},
   "outputs": [
    {
     "name": "stdout",
     "output_type": "stream",
     "text": [
      "[8, 10, 7, 9, 1, 5, 5, 8, 7, 4]\n"
     ]
    }
   ],
   "source": [
    "from random import randint\n",
    "lista=[]\n",
    "for i in range (10):\n",
    "    n=randint(0,10)\n",
    "    lista.append(n)\n",
    "print(lista)"
   ]
  },
  {
   "cell_type": "code",
   "execution_count": 28,
   "id": "310d570a",
   "metadata": {},
   "outputs": [
    {
     "data": {
      "text/plain": [
       "(1, 2)"
      ]
     },
     "execution_count": 28,
     "metadata": {},
     "output_type": "execute_result"
    }
   ],
   "source": [
    "nota_mais_frequente([2, 1, 2, 4, 8, 7, 10, 10, 0, 1])"
   ]
  },
  {
   "cell_type": "code",
   "execution_count": 31,
   "id": "84bf81ab",
   "metadata": {},
   "outputs": [
    {
     "name": "stdout",
     "output_type": "stream",
     "text": [
      "0  |  1\n",
      "1  |  2\n",
      "2  |  2\n",
      "3  |  0\n",
      "4  |  1\n",
      "5  |  0\n",
      "6  |  0\n",
      "7  |  1\n",
      "8  |  1\n",
      "9  |  0\n",
      "10  |  2\n",
      "--------------\n",
      "1  |  2\n"
     ]
    },
    {
     "data": {
      "text/plain": [
       "[1, 2]"
      ]
     },
     "execution_count": 31,
     "metadata": {},
     "output_type": "execute_result"
    }
   ],
   "source": [
    "#Versão do prof\n",
    "\n",
    "def nota_mais_frequente(lista):\n",
    "    most_freq = 0\n",
    "    freq_count = 0\n",
    "    \n",
    "    for i in range(0, 11):\n",
    "        cnt = 0\n",
    "        for num in lista:\n",
    "            if num == i:\n",
    "                cnt += 1\n",
    "        print(i, ' | ', cnt)\n",
    "        if cnt > freq_count:\n",
    "            most_freq = i\n",
    "            freq_count = cnt\n",
    "            \n",
    "    print('--------------')\n",
    "    print(most_freq, ' | ', freq_count)\n",
    "    \n",
    "    return [most_freq, freq_count]\n",
    "\n",
    "nota_mais_frequente([2, 1, 2, 4, 8, 7, 10, 10, 0, 1])"
   ]
  },
  {
   "cell_type": "code",
   "execution_count": 33,
   "id": "8e5a695b",
   "metadata": {},
   "outputs": [
    {
     "data": {
      "text/plain": [
       "[1, 2]"
      ]
     },
     "execution_count": 33,
     "metadata": {},
     "output_type": "execute_result"
    }
   ],
   "source": [
    "#Versão com Counter\n",
    "\n",
    "def nota_mais_frequente(lista):\n",
    "    dict_freq = dict(Counter(lista))\n",
    "    \n",
    "    dict_val = sorted(dict_freq.items())\n",
    "    \n",
    "    most_freq = 0\n",
    "    freq_count = 0\n",
    "\n",
    "    for key, vlr in dict_val:\n",
    "        if vlr > freq_count:\n",
    "            most_freq = key\n",
    "            freq_count = vlr\n",
    "    \n",
    "    return [most_freq, freq_count]\n",
    "\n",
    "nota_mais_frequente([2, 1, 2, 4, 8, 7, 10, 10, 0, 1])"
   ]
  },
  {
   "cell_type": "markdown",
   "id": "13151ae9",
   "metadata": {},
   "source": [
    "## "
   ]
  },
  {
   "cell_type": "markdown",
   "id": "ef26b258",
   "metadata": {},
   "source": [
    "## Palindromo"
   ]
  },
  {
   "cell_type": "markdown",
   "id": "45b191d1",
   "metadata": {},
   "source": [
    "Palíndromo é a característica de uma palavra ser igualmente escrita na ordem normal e reversa, como por exemplo ana e arara. O objetivo deste exercício é criar uma função nomeada `palindromo`, onde a função recebe uma lista de palavras e a saída será a __quantidade de palindromos dentro da lista__."
   ]
  },
  {
   "cell_type": "code",
   "execution_count": 12,
   "id": "0dc714ac",
   "metadata": {},
   "outputs": [],
   "source": [
    "def palindromo(palavras:list)->int:\n",
    "    n=0\n",
    "    for palavra in palavras:\n",
    "        invertida=palavra[::-1]\n",
    "        if palavra==invertida:\n",
    "            n+=1\n",
    "    return n"
   ]
  },
  {
   "cell_type": "code",
   "execution_count": 13,
   "id": "cb263361",
   "metadata": {},
   "outputs": [],
   "source": [
    "lista = [\"reler\", \"reter\", \"ovo\", \"oco\", \"mirim\", \"sopapos\"]\n",
    "\n",
    "# palindromos = 6"
   ]
  },
  {
   "cell_type": "code",
   "execution_count": 14,
   "id": "1cc052e6",
   "metadata": {},
   "outputs": [
    {
     "data": {
      "text/plain": [
       "6"
      ]
     },
     "execution_count": 14,
     "metadata": {},
     "output_type": "execute_result"
    }
   ],
   "source": [
    "palindromo(lista)"
   ]
  },
  {
   "cell_type": "markdown",
   "id": "355a9991",
   "metadata": {},
   "source": [
    "## "
   ]
  },
  {
   "cell_type": "markdown",
   "id": "f4c1f511",
   "metadata": {},
   "source": [
    "## Conversão de Número para Binário\n",
    "\n",
    "O Sistema binário é uma representação da matemática onde a base de referência para a construção dos números é o 2 ao invés do 10 comum na base decimal. Por exemplo o binário `1001` na base decimal será igual $ 1001 = 1*2^3 + 0*2^2 + 0*2^1 + 1*2^0 = 9 $. O objetivo deste exercício é desenvolver uma função nomeada como `conversor_numero`, onde irá receber um valor númerico inteiro na base decimal e converter para um valor na base binária."
   ]
  },
  {
   "cell_type": "code",
   "execution_count": 15,
   "id": "eddb66ec",
   "metadata": {},
   "outputs": [],
   "source": [
    "# Formula geral do binario para numero decimal\n",
    "# binario -> numero = (0 ou 1)*2^(n-1)\n",
    "# 9 |___2\n",
    "# 1  4  |___2\n",
    "#    0   2   |__ 2\n",
    "#        0    1   |__ 2\n",
    "#             1    0"
   ]
  },
  {
   "cell_type": "code",
   "execution_count": 16,
   "id": "9e31fa00",
   "metadata": {},
   "outputs": [],
   "source": [
    "def conversor_numero (num_decimal:int)->int:\n",
    "    num_temp= num_decimal\n",
    "    while (num_temp//2) != 1:\n",
    "        num_temp=num_temp%2\n",
    "        \n",
    "        \n",
    "    \n",
    "    "
   ]
  },
  {
   "cell_type": "code",
   "execution_count": 34,
   "id": "e759d94e",
   "metadata": {},
   "outputs": [],
   "source": [
    "def conversor_numero(num):\n",
    "    quoc = 1\n",
    "    div = num\n",
    "    bins = []\n",
    "    \n",
    "    while quoc >= 1:\n",
    "        resto = div % 2\n",
    "        bins.insert(0, resto)\n",
    "        quoc = div // 2\n",
    "        div = quoc\n",
    "    \n",
    "    return ''.join([str(n) for n in bins])"
   ]
  },
  {
   "cell_type": "markdown",
   "id": "0dd5fc83",
   "metadata": {},
   "source": [
    "## "
   ]
  }
 ],
 "metadata": {
  "kernelspec": {
   "display_name": "Python 3 (ipykernel)",
   "language": "python",
   "name": "python3"
  },
  "language_info": {
   "codemirror_mode": {
    "name": "ipython",
    "version": 3
   },
   "file_extension": ".py",
   "mimetype": "text/x-python",
   "name": "python",
   "nbconvert_exporter": "python",
   "pygments_lexer": "ipython3",
   "version": "3.9.12"
  }
 },
 "nbformat": 4,
 "nbformat_minor": 5
}
