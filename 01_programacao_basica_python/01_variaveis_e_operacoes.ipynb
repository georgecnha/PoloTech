{
 "cells": [
  {
   "cell_type": "markdown",
   "metadata": {},
   "source": [
    "# Aula 01 - Variáveis, Input e Outputs, Operações Aritméticas\n",
    "\n",
    "Nesta aula, serão discutidos os seguintes tópicos:\n",
    "- Variáveis;\n",
    "- Tipos de Variáveis;\n",
    "- Entradas e Saídas;\n",
    "- Conversão de Dados ou Coerção de Tipo;\n",
    "- Operações Aritméticas."
   ]
  },
  {
   "cell_type": "markdown",
   "metadata": {},
   "source": [
    "## "
   ]
  },
  {
   "cell_type": "markdown",
   "metadata": {},
   "source": [
    "## 1. Variáveis\n",
    "\n",
    "<br>\n",
    "\n",
    "As __variáveis__ são objetos muito comum na programação onde pode-se armazenar um dado qualquer, ou seja, algum tipo de informação útil. Este tipo de informação é armazenada temporariamente na __memória do computador__ durante a execução do código, pois se fechar o programa ou mesmo desligar/reiniciar o computador, esta informação acaba se perdendo.\n",
    "\n",
    "A definição de uma variável é dada sempre atribuindo um __nome__ ao valor que será armazenado:\n",
    "\n",
    "<br>\n",
    "\n",
    "```python\n",
    "media = 6\n",
    "```\n",
    "<br>"
   ]
  },
  {
   "cell_type": "code",
   "execution_count": 1,
   "metadata": {
    "id": "9C2_7SvD4a5v"
   },
   "outputs": [],
   "source": [
    "media = 6"
   ]
  },
  {
   "cell_type": "markdown",
   "metadata": {},
   "source": [
    "No exemplo acima, criou uma variável chamada de __media__ onde foi atribuido e armazenado o valor 6 a variável.\n",
    "\n",
    "<br>\n",
    "\n",
    "Importante ressaltar que para definir os nomes das variáveis é permitido utilizar de letras (MAIUSCÚLAS e minuscúlas), número e o simbolo _underscore_ ( _ ), mas não podem começar por números.\n",
    "\n",
    "Não existem regras para a nomeação de variáveis, mas algumas convenções costumam ser utilizadas como por exemplo o __camel case__ e o __snake case__:\n",
    "\n",
    "<br>\n",
    "\n",
    "```python\n",
    "# Variáveis em Camel Case\n",
    "mediaDaProva\n",
    "numeroAlunos\n",
    "qntdeTransacoes\n",
    "\n",
    "# Variáveis em Snake Case\n",
    "media_da_prova\n",
    "numero_alunos\n",
    "qntde_transacoes\n",
    "```\n"
   ]
  },
  {
   "cell_type": "markdown",
   "metadata": {},
   "source": [
    "## "
   ]
  },
  {
   "cell_type": "markdown",
   "metadata": {
    "id": "n529v0Sy46Zr"
   },
   "source": [
    "## 2. Tipos de Variáveis\n",
    "\n",
    "Os tipos das variáveis está relacionado a qual informmação ela irá armazenar e o quanto de memória será utilizada. Os principais tipos de variáveis utilizadas em _Python_ são as descritas a seguir:\n",
    "\n",
    "<br>\n",
    "\n",
    "* **int**: números inteiros, ou seja, números sem parte decimal: 1, 2, 3, -50, -100, 100000\n",
    "* **float**: números reais, ou seja, números com parte decimal: 3.14, -1., 2.52\n",
    "* **str**: cadeias de caracteres (_strings_), ou seja, dados textuais: \"Hello World\", \"Esse é o meu primeiro programa em Python\"\n",
    "* **bool**: valores lógicos (booleanos), ou seja, apenas um entre dois valores possíveis: True ou False\n",
    "\n",
    "<br>"
   ]
  },
  {
   "cell_type": "code",
   "execution_count": 2,
   "metadata": {},
   "outputs": [
    {
     "data": {
      "text/plain": [
       "str"
      ]
     },
     "execution_count": 2,
     "metadata": {},
     "output_type": "execute_result"
    }
   ],
   "source": [
    "endereco = 'Avenida Brigadeiro Faria Lima 1306'\n",
    "# Retorna o tipo de variavel utilizado\n",
    "type(endereco)"
   ]
  },
  {
   "cell_type": "code",
   "execution_count": 3,
   "metadata": {},
   "outputs": [
    {
     "data": {
      "text/plain": [
       "int"
      ]
     },
     "execution_count": 3,
     "metadata": {},
     "output_type": "execute_result"
    }
   ],
   "source": [
    "idade = 30\n",
    "type(idade)"
   ]
  },
  {
   "cell_type": "code",
   "execution_count": 4,
   "metadata": {},
   "outputs": [
    {
     "data": {
      "text/plain": [
       "float"
      ]
     },
     "execution_count": 4,
     "metadata": {},
     "output_type": "execute_result"
    }
   ],
   "source": [
    "salario = 18769.15\n",
    "type(salario)"
   ]
  },
  {
   "cell_type": "code",
   "execution_count": 5,
   "metadata": {},
   "outputs": [
    {
     "data": {
      "text/plain": [
       "bool"
      ]
     },
     "execution_count": 5,
     "metadata": {},
     "output_type": "execute_result"
    }
   ],
   "source": [
    "hoje_e_segunda = True\n",
    "type(hoje_e_segunda)"
   ]
  },
  {
   "cell_type": "markdown",
   "metadata": {},
   "source": [
    "## "
   ]
  },
  {
   "cell_type": "markdown",
   "metadata": {
    "id": "XrMoRqDH5Ya2"
   },
   "source": [
    "## 3. Entradas e Saídas\n",
    "\n",
    "As entradas são o tipo de informações que são fornecidas pelo usuário e armazenada no código. Para que o solicite e armazene a informação de entrada, utiliza-se a função __input__:\n",
    "\n",
    "<br>\n",
    "\n",
    "```python\n",
    "\n",
    "nome = input('Escreva o seu primeiro nome: ')\n",
    "\n",
    "```\n",
    "\n",
    "<br>"
   ]
  },
  {
   "cell_type": "code",
   "execution_count": 6,
   "metadata": {},
   "outputs": [
    {
     "name": "stdout",
     "output_type": "stream",
     "text": [
      "Escreva o seu primeiro nome: Sandro\n"
     ]
    }
   ],
   "source": [
    "nome = input('Escreva o seu primeiro nome: ')"
   ]
  },
  {
   "cell_type": "code",
   "execution_count": 7,
   "metadata": {},
   "outputs": [
    {
     "data": {
      "text/plain": [
       "str"
      ]
     },
     "execution_count": 7,
     "metadata": {},
     "output_type": "execute_result"
    }
   ],
   "source": [
    "type(nome)"
   ]
  },
  {
   "cell_type": "markdown",
   "metadata": {},
   "source": [
    "Já no caso das __saídas__ do nosso programa, as informações geradas e processadas pelo código podem ser fornecidas ao usuário também. A função em _Python_ utilizada para isso é o __print__:\n",
    "\n",
    "<br>\n",
    "\n",
    "```python\n",
    "nome = input('Escreva o seu primeiro nome: ')\n",
    "print('O seu primeiro nome é ', nome)\n",
    "```\n",
    "\n",
    "<br>"
   ]
  },
  {
   "cell_type": "code",
   "execution_count": 8,
   "metadata": {},
   "outputs": [
    {
     "name": "stdout",
     "output_type": "stream",
     "text": [
      "Escreva o seu primeiro nome: Rafael\n",
      "O seu primeiro nome é  Rafael\n"
     ]
    }
   ],
   "source": [
    "nome = input('Escreva o seu primeiro nome: ')\n",
    "print('O seu primeiro nome é ', nome)"
   ]
  },
  {
   "cell_type": "markdown",
   "metadata": {},
   "source": [
    "Outros exemplos do retorno dos dados pelo código: "
   ]
  },
  {
   "cell_type": "code",
   "execution_count": 13,
   "metadata": {},
   "outputs": [
    {
     "name": "stdout",
     "output_type": "stream",
     "text": [
      "Digite o seu nome:Sandro\n",
      "Digite a sua idade:30\n",
      "Digite a linguagem de programação que está aprendendo:Python\n",
      "\n",
      "\n",
      "Seu nome é  Sandro\n",
      "Você tem  30  anos\n",
      "E você está aprendendo a programar em  Python\n"
     ]
    }
   ],
   "source": [
    "# Solicitar algumas informações\n",
    "nome = input('Digite o seu nome:')\n",
    "idade = input('Digite a sua idade:')\n",
    "lingprog = input('Digite a linguagem de programação que está aprendendo:')\n",
    "\n",
    "# Retornando as informações\n",
    "print('\\n') # Pula uma linha no print\n",
    "print('Seu nome é ', nome)\n",
    "print('Você tem ', idade, ' anos')\n",
    "print('E você está aprendendo a programar em ', lingprog)"
   ]
  },
  {
   "cell_type": "markdown",
   "metadata": {},
   "source": [
    "No caso da função __print__ existem algumas variações de como pode-se utilizar:\n",
    "\n",
    "<br>\n",
    "\n",
    "```python\n",
    "# Utilizando a variável no final do preenchimento\n",
    "print(\"Seu nome é \", nome)\n",
    "\n",
    "# Inserção no meio de uma frase ou string\n",
    "print(\"Seu nome é \", nome, \" e você têm \", idade, \" anos\")\n",
    "\n",
    "# Inserção no meio de uma frase ou string utilizando a f-string\n",
    "print(f'Seu nome é {nome} e você tem {idade} anos')\n",
    "```\n",
    "    \n",
    "<br>"
   ]
  },
  {
   "cell_type": "code",
   "execution_count": 14,
   "metadata": {},
   "outputs": [
    {
     "name": "stdout",
     "output_type": "stream",
     "text": [
      "Seu nome é Sandro\n",
      "Seu nome é Sandro  e você tem  30 anos\n",
      "Seu nome é Sandro e você tem 30 anos\n"
     ]
    }
   ],
   "source": [
    "print('Seu nome é', nome)\n",
    "print('Seu nome é', nome, ' e você tem ', idade, 'anos')\n",
    "print(f'Seu nome é {nome} e você tem {idade} anos')"
   ]
  },
  {
   "cell_type": "markdown",
   "metadata": {
    "id": "0YL3ebb05-F5"
   },
   "source": [
    "Note que os dados aparecem com um espaçamento autom´tico, além de ao utilizar dois _prints_ seguidos ocorre uma quebra de linha entre eles.Pode passar alguns parâmetros para a função _print_ como o **sep** e **end** que ajudam a ajustar a forma de saída de um determinado _print_, conforme o exemplo a seguir:"
   ]
  },
  {
   "cell_type": "code",
   "execution_count": 15,
   "metadata": {
    "colab": {
     "base_uri": "https://localhost:8080/"
    },
    "executionInfo": {
     "elapsed": 298,
     "status": "ok",
     "timestamp": 1667349852070,
     "user": {
      "displayName": "Rafael Moreira",
      "userId": "12447638074552125322"
     },
     "user_tz": 180
    },
    "id": "RaxN-o8y6AEx",
    "outputId": "d79b635a-e7f7-4318-8cc3-f81c488578e3"
   },
   "outputs": [
    {
     "name": "stdout",
     "output_type": "stream",
     "text": [
      "Digite o seu nome: Sandro\n",
      "Digite o nome da linguagem de programação: Python\n",
      "Olá! Meu nome é_Sandro%E estou no Polo Tech aprendendo*Python\n"
     ]
    }
   ],
   "source": [
    "nome_aluno = input('Digite o seu nome: ')\n",
    "nome_linguagem = input('Digite o nome da linguagem de programação: ')\n",
    "print('Olá! Meu nome é', nome_aluno, sep = '_', end = '%')\n",
    "print('E estou no Polo Tech aprendendo', nome_linguagem, sep = '*')"
   ]
  },
  {
   "cell_type": "code",
   "execution_count": 16,
   "metadata": {},
   "outputs": [
    {
     "name": "stdout",
     "output_type": "stream",
     "text": [
      "Olá! Meu nome é Sandro\n",
      "E estou no Polo Tech aprendendo Python\n"
     ]
    }
   ],
   "source": [
    "print('Olá! Meu nome é', nome_aluno, sep = ' ', end = '\\n')\n",
    "print('E estou no Polo Tech aprendendo', nome_linguagem, sep = ' ')"
   ]
  },
  {
   "cell_type": "markdown",
   "metadata": {},
   "source": [
    "## "
   ]
  },
  {
   "cell_type": "markdown",
   "metadata": {
    "id": "dMJAxUrH6Oft"
   },
   "source": [
    "## 4. Conversão de Dados ou Coerção de Tipo\n",
    "\n",
    "Ao trabalhar com valores de entrada dados pelo usuário é importante observar a adequação do tipo de variável a utilidade proposta. Por exemplo, monte um programa onde será dado o dia de hoje e ele calcula quantos dias faltam para a véspera de Natal:"
   ]
  },
  {
   "cell_type": "code",
   "execution_count": 17,
   "metadata": {},
   "outputs": [
    {
     "name": "stdout",
     "output_type": "stream",
     "text": [
      "Digite a data de hoje (apenas o dia): 5\n"
     ]
    },
    {
     "ename": "TypeError",
     "evalue": "unsupported operand type(s) for -: 'int' and 'str'",
     "output_type": "error",
     "traceback": [
      "\u001b[1;31m---------------------------------------------------------------------------\u001b[0m",
      "\u001b[1;31mTypeError\u001b[0m                                 Traceback (most recent call last)",
      "Input \u001b[1;32mIn [17]\u001b[0m, in \u001b[0;36m<cell line: 2>\u001b[1;34m()\u001b[0m\n\u001b[0;32m      1\u001b[0m hoje \u001b[38;5;241m=\u001b[39m \u001b[38;5;28minput\u001b[39m(\u001b[38;5;124m'\u001b[39m\u001b[38;5;124mDigite a data de hoje (apenas o dia): \u001b[39m\u001b[38;5;124m'\u001b[39m)\n\u001b[1;32m----> 2\u001b[0m dias_para_natal \u001b[38;5;241m=\u001b[39m \u001b[38;5;241;43m24\u001b[39;49m\u001b[43m \u001b[49m\u001b[38;5;241;43m-\u001b[39;49m\u001b[43m \u001b[49m\u001b[43mhoje\u001b[49m\n\u001b[0;32m      3\u001b[0m \u001b[38;5;28mprint\u001b[39m(\u001b[38;5;124m'\u001b[39m\u001b[38;5;124mFaltam\u001b[39m\u001b[38;5;124m'\u001b[39m, dias_para_natal, \u001b[38;5;124m'\u001b[39m\u001b[38;5;124mdias para o Natal.\u001b[39m\u001b[38;5;124m'\u001b[39m)\n",
      "\u001b[1;31mTypeError\u001b[0m: unsupported operand type(s) for -: 'int' and 'str'"
     ]
    }
   ],
   "source": [
    "hoje = input('Digite a data de hoje (apenas o dia): ')\n",
    "dias_para_natal = 24 - hoje\n",
    "print('Faltam', dias_para_natal, 'dias para o Natal.')"
   ]
  },
  {
   "cell_type": "markdown",
   "metadata": {},
   "source": [
    "Todo o tipo de informação fornecida pelo usuário é entendida pelo código na forma de texto, ou seja, _strings_. Dessa forma, para evitar erros de inadequação da variável é necessário especificar para qual tipo de variável será transforada a entrada:"
   ]
  },
  {
   "cell_type": "code",
   "execution_count": 18,
   "metadata": {},
   "outputs": [
    {
     "name": "stdout",
     "output_type": "stream",
     "text": [
      "Digite a data de hoje (apenas o dia): 5\n",
      "Faltam 19 dias para o Natal.\n"
     ]
    }
   ],
   "source": [
    "hoje = int(input('Digite a data de hoje (apenas o dia): '))\n",
    "dias_para_natal = 24 - hoje\n",
    "print('Faltam', dias_para_natal, 'dias para o Natal.')"
   ]
  },
  {
   "cell_type": "code",
   "execution_count": 19,
   "metadata": {},
   "outputs": [
    {
     "name": "stdout",
     "output_type": "stream",
     "text": [
      "Digite uma data: 5\n",
      "Digite uma data: 15\n",
      "515\n"
     ]
    }
   ],
   "source": [
    "data1 = input('Digite uma data: ')\n",
    "data2 = input('Digite uma data: ')\n",
    "soma_datas = data1 + data2\n",
    "print(soma_datas)"
   ]
  },
  {
   "cell_type": "markdown",
   "metadata": {},
   "source": [
    "Este processo de especificar o tipo de variável é chamado de __coerção de tipo__ ou conversão de dados. Este é um tópico importante pois, ao programar utilizando informações oferecidas pelo usuário, é necessário garantir que os dados que foram fornecidos sejam adequados, pois no exemplo acima pode-se digitar qualquer outra tipo de informação:"
   ]
  },
  {
   "cell_type": "code",
   "execution_count": 20,
   "metadata": {},
   "outputs": [
    {
     "name": "stdout",
     "output_type": "stream",
     "text": [
      "Digite a data de hoje (apenas o dia): vai brasil\n"
     ]
    },
    {
     "ename": "ValueError",
     "evalue": "invalid literal for int() with base 10: 'vai brasil'",
     "output_type": "error",
     "traceback": [
      "\u001b[1;31m---------------------------------------------------------------------------\u001b[0m",
      "\u001b[1;31mValueError\u001b[0m                                Traceback (most recent call last)",
      "Input \u001b[1;32mIn [20]\u001b[0m, in \u001b[0;36m<cell line: 1>\u001b[1;34m()\u001b[0m\n\u001b[1;32m----> 1\u001b[0m hoje \u001b[38;5;241m=\u001b[39m \u001b[38;5;28;43mint\u001b[39;49m\u001b[43m(\u001b[49m\u001b[38;5;28;43minput\u001b[39;49m\u001b[43m(\u001b[49m\u001b[38;5;124;43m'\u001b[39;49m\u001b[38;5;124;43mDigite a data de hoje (apenas o dia): \u001b[39;49m\u001b[38;5;124;43m'\u001b[39;49m\u001b[43m)\u001b[49m\u001b[43m)\u001b[49m\n\u001b[0;32m      2\u001b[0m dias_para_natal \u001b[38;5;241m=\u001b[39m \u001b[38;5;241m24\u001b[39m \u001b[38;5;241m-\u001b[39m hoje\n\u001b[0;32m      3\u001b[0m \u001b[38;5;28mprint\u001b[39m(\u001b[38;5;124m'\u001b[39m\u001b[38;5;124mFaltam\u001b[39m\u001b[38;5;124m'\u001b[39m, dias_para_natal, \u001b[38;5;124m'\u001b[39m\u001b[38;5;124mdias para o Natal.\u001b[39m\u001b[38;5;124m'\u001b[39m)\n",
      "\u001b[1;31mValueError\u001b[0m: invalid literal for int() with base 10: 'vai brasil'"
     ]
    }
   ],
   "source": [
    "hoje = int(input('Digite a data de hoje (apenas o dia): '))\n",
    "dias_para_natal = 24 - hoje\n",
    "print('Faltam', dias_para_natal, 'dias para o Natal.')"
   ]
  },
  {
   "cell_type": "markdown",
   "metadata": {},
   "source": [
    "Por enquanto, ainda não temos ferramenta e nem vamos nos preocupar com isso neste momento, mas é importante deixar em mente que o usuário pode ser imprevisível.\n",
    "\n",
    "Outro ponto na coerção de dados é quando converte-se dados númericos para diferentes formatos:"
   ]
  },
  {
   "cell_type": "code",
   "execution_count": 21,
   "metadata": {},
   "outputs": [
    {
     "name": "stdout",
     "output_type": "stream",
     "text": [
      "Número decimal:  4.9\n",
      "Número inteiro:  4\n"
     ]
    }
   ],
   "source": [
    "num_float = 4.9\n",
    "print('Número decimal: ', num_float)\n",
    "num_int = int(num_float)\n",
    "print('Número inteiro: ', num_int)"
   ]
  },
  {
   "cell_type": "markdown",
   "metadata": {},
   "source": [
    "No caso da conversão de tipos numéricos de _float_ para _int_, note-se que não há arredondamento, na verdade a parte decimal é ignorada e removida na conversão. Então deve-se tomar bastante cuidado ao utilizar estes tipos de conversões."
   ]
  },
  {
   "cell_type": "markdown",
   "metadata": {},
   "source": [
    "## "
   ]
  },
  {
   "cell_type": "markdown",
   "metadata": {
    "id": "hrzwoNpN6xtA"
   },
   "source": [
    "## 5. Operações Aritméticas\n",
    "\n",
    "A programação em _Python_ funciona de maneira bem intuitiva, onde consegue-se realizar operações aritméticas de forma bem simples e direta. As operações que são suportadas pelo _Python_ e o seu respectivo símbolo estão destacadas a seguir:\n",
    "\n",
    "* __Soma__: +\n",
    "* __Subtração__: -\n",
    "* __Multiplicação__: *\n",
    "* __Divisão__: /\n",
    "* __Divisão inteira__: //\n",
    "* __Resto da divisão__: %\n",
    "* __Potência__: **"
   ]
  },
  {
   "cell_type": "code",
   "execution_count": 22,
   "metadata": {},
   "outputs": [
    {
     "name": "stdout",
     "output_type": "stream",
     "text": [
      "Digite um número: 42\n",
      "Digite outro número: 15\n"
     ]
    }
   ],
   "source": [
    "# receba dois numeros\n",
    "num1 = int(input('Digite um número: '))\n",
    "num2 = int(input(\"Digite outro número: \"))"
   ]
  },
  {
   "cell_type": "code",
   "execution_count": 23,
   "metadata": {},
   "outputs": [
    {
     "name": "stdout",
     "output_type": "stream",
     "text": [
      "Soma:  57\n",
      "Subtração:  27\n",
      "Multiplicação:  630\n",
      "Divisão:  2.8\n",
      "Divisão inteira:  2\n",
      "Resto da divisão:  12\n",
      "Potência:  2232232135326160725639168\n"
     ]
    }
   ],
   "source": [
    "# Operações\n",
    "soma = num1 + num2\n",
    "print(\"Soma: \", soma)\n",
    "\n",
    "subtracao = num1 - num2\n",
    "print(\"Subtração: \", subtracao)\n",
    "\n",
    "multiplicacao = num1 * num2\n",
    "print(\"Multiplicação: \", multiplicacao)\n",
    "\n",
    "divisao = num1 / num2\n",
    "print(\"Divisão: \", divisao)\n",
    "\n",
    "divisao_int = num1 // num2\n",
    "print(\"Divisão inteira: \", divisao_int)\n",
    "\n",
    "resto_divisao = num1 % num2\n",
    "print(\"Resto da divisão: \", resto_divisao)\n",
    "\n",
    "potencia = num1**num2\n",
    "print(\"Potência: \", potencia)"
   ]
  },
  {
   "cell_type": "markdown",
   "metadata": {},
   "source": [
    "## "
   ]
  },
  {
   "cell_type": "markdown",
   "metadata": {
    "id": "fvI4BCOy7Mes"
   },
   "source": [
    "### Revisão sobre operadores de Divisão\n",
    "\n",
    "Note que temos 3 operadores de divisão. O que seria cada um deles? Vamos supor que numero1 seja 15 e numero2 seja 6.\n",
    "```\n",
    "15 |__ 6\n",
    "```\n",
    "Quantas vezes o número 6 cabe dentro do 15? Um bom primeiro \"chute\" é 2:\n",
    "```\n",
    " 15 |__ 6\n",
    "     2\n",
    "```\n",
    "Podemos multiplicar 6 por 2, que dará 12. E então subtraímos esse valor de 15:\n",
    "\n",
    "```\n",
    " 15 |__ 6\n",
    "-12     2\n",
    "---\n",
    " 03\n",
    " ```\n",
    "\n",
    "Note que, considerando apenas números inteiros, não conseguimos mais prosseguir com a divisão. Neste caso, a **divisão inteira** (`numero1 // numero2`) dará 2. Já o **resto da divisão** (`numero1 % numero2`) dará 3.\n",
    "\n",
    "Porém, considerando casas decimais é possível prosseguir com a divisão:\n",
    "\n",
    "```\n",
    "15 |__ 6 \n",
    "-12     2.5\n",
    "---\n",
    " 03\n",
    "  30\n",
    "- 30\n",
    "----\n",
    "   0\n",
    "```\n",
    "\n",
    "Portanto, a **divisão real** (`numero1 / numero2`) dará 2.5.\n",
    "\n",
    "> **Atenção**: números reais em Python usam ponto para separar as casas decimais, não vírgula:\n",
    "> \n",
    "> * **Errado**: 2,5\n",
    "> * **Correto**: 2.5"
   ]
  },
  {
   "cell_type": "markdown",
   "metadata": {},
   "source": [
    "## "
   ]
  },
  {
   "cell_type": "markdown",
   "metadata": {},
   "source": [
    "## Lista de Exercícios\n",
    "\n",
    "Os exercícios a seguir devem ser desenvolvidos e entregue as soluções através do Class. Utilize apenas o conteúdo visto em aula para resolver os exercícios!"
   ]
  },
  {
   "cell_type": "markdown",
   "metadata": {},
   "source": [
    "__1)__ Crie um código que receba o __nome do aluno__, o ano de nascimento, o dia de hoje e a cidade onde mora. E o programa deve retornar o nome, a __idade__ em 2022, quantos dias faltam para o Natal (25), quantos dias que faltam para a véspera de ano novo (31) e a cidade."
   ]
  },
  {
   "cell_type": "code",
   "execution_count": 1,
   "metadata": {},
   "outputs": [
    {
     "name": "stdout",
     "output_type": "stream",
     "text": [
      "Digite seu nome: George\n",
      "Digite o ano do seu nascimento: 1994\n",
      "Digite apenas o dia de hoje: 5\n",
      "Digite sua cidade: Fortaleza\n",
      "\n",
      "George\n",
      "Você tem 28 anos em 2022.\n",
      "Faltam 20 dias para a véspera de natal.\n",
      "Faltam 26 dias para a véspera de natal.\n",
      "Sua cidade é Fortaleza\n"
     ]
    }
   ],
   "source": [
    "nome=input('Digite seu nome: ')\n",
    "ano_nascimento=int(input('Digite o ano do seu nascimento: '))\n",
    "hoje=int(input('Digite apenas o dia de hoje: '))\n",
    "cidade=input('Digite sua cidade: ')\n",
    "print('')\n",
    "print(nome)\n",
    "print(f'Você tem {2022-ano_nascimento} anos em 2022.')\n",
    "print(f'Faltam {25-hoje} dias para a véspera de natal.')\n",
    "print(f'Faltam {31-hoje} dias para a véspera de natal.')\n",
    "print(f'Sua cidade é {cidade}')"
   ]
  },
  {
   "cell_type": "markdown",
   "metadata": {},
   "source": [
    "__2)__ Crie um código onde irá receber do usuário a nota de 5 provas realizadas (as notas variam entre 0 e 10 podendo ser um número decimal) e retorne o valor da média nas provas."
   ]
  },
  {
   "cell_type": "code",
   "execution_count": 2,
   "metadata": {},
   "outputs": [
    {
     "name": "stdout",
     "output_type": "stream",
     "text": [
      "digite a nota 1: 5\n",
      "digite a nota 2: 6.5\n",
      "digite a nota 3: 7\n",
      "digite a nota 4: 10\n",
      "digite a nota 5: 0.5\n",
      "A média é: 5.8\n"
     ]
    }
   ],
   "source": [
    "# Teste\n",
    "# nota1 = 5\n",
    "# nota2 = 6.5\n",
    "# nota3 =  7\n",
    "# nota4 = 10\n",
    "# nota5 = 0.5\n",
    "\n",
    "# Resposta\n",
    "# Média = 5.8\n",
    "\n",
    "notas=[]\n",
    "for i in range(5):\n",
    "    nota=float(input(f'digite a nota {i+1}: '))\n",
    "    notas.append(nota)\n",
    "    \n",
    "print(f'A média é: {(sum(notas))/len(notas)}')"
   ]
  },
  {
   "cell_type": "markdown",
   "metadata": {},
   "source": [
    "__3)__ A __média ponderada__ funciona de forma parecida a média aritmética, as levando em consideração o peso de cada número utilizado no cálculo. O objetivo do exercício será montar um código para o cálculo da média ponderada conforme a equação abaixo:\n",
    "\n",
    "<br>\n",
    "\n",
    "$$ \\bar{x} = \\frac{w1*P + w2*L + w3*T}{w1 + w2 + w3}$$\n",
    "\n",
    "<br>\n",
    "\n",
    "Onde $P$ é a média de 3 provas, L é a nota em relção a entrega das Listas de exercicios (onde cada lista entregue conta como 1 ponto sendo um total de 10 listas) e T é a nota do Trabalho, onde w1, w2 e w3 são os respectivos pesos. Você deve desenvolver um código onde irá receber as notas das 3 provas (e calcular a média), irá receber quantas listas o aluno entegou entre as 10 totais e receber a nota do Trabalho. Por fim para os pesos $w1 = 0.4$, $w2 = 0.1$ e $w3 = 0.5$, devolva o valor da média ponderada do aluno."
   ]
  },
  {
   "cell_type": "code",
   "execution_count": 6,
   "metadata": {},
   "outputs": [
    {
     "name": "stdout",
     "output_type": "stream",
     "text": [
      "MÉDIA PONDERADA\n",
      ".......................................................................................\n",
      "Digite as seguintes notas: \n",
      "Prova 1: 8\n",
      "Prova 2: 7.5\n",
      "Prova 3: 6.5\n",
      "Quantas listas você entregou? 8\n",
      "Digite a nota do trabalho: 6.5\n",
      "A média ponderada é: 6.983333333333333\n"
     ]
    }
   ],
   "source": [
    "# para a prova, serão 3 inputs cada um com uma nota\n",
    "# para a lista, o input vai ser quantas listas ele fez\n",
    "# para o trabalho, o input vai dar o valor da nota no trabalho\n",
    "\n",
    "# Teste\n",
    "# prova1 = 8\n",
    "# prova2 = 7.5\n",
    "# prova3 = 6.5\n",
    "# qtndes de listas = 8\n",
    "# trabalho = 6.5\n",
    "\n",
    "# resultado\n",
    "# media ponderada = 6.98333333333\n",
    "\n",
    "\n",
    "print('MÉDIA PONDERADA')\n",
    "print(\".......................................................................................\")\n",
    "print('Digite as seguintes notas: ')\n",
    "p1= float(input('Prova 1: '))\n",
    "p2= float(input('Prova 2: '))\n",
    "p3= float(input('Prova 3: '))\n",
    "\n",
    "P=(p1+p2+p3)/3\n",
    "\n",
    "\n",
    "L=int(input('Quantas listas você entregou? '))\n",
    "\n",
    "T=float(input('Digite a nota do trabalho: '))\n",
    "\n",
    "w1=0.4\n",
    "w2=0.1\n",
    "w3=0.5 \n",
    "\n",
    "media= ((w1*P) + (w2*L) + (w3*T))/ (w1+w2+w3)\n",
    "\n",
    "\n",
    "print(f'A média ponderada é: {media}')"
   ]
  },
  {
   "cell_type": "markdown",
   "metadata": {},
   "source": [
    "__4)__ A distância euclideana entre dois pontos é dada pela seguinte equação:\n",
    "\n",
    "<br>\n",
    "\n",
    "$$ d = \\sqrt{(x_1 - x_2)^2 + (y_1 - y_2)^2} $$\n",
    "\n",
    "<br>\n",
    "\n",
    "Monte um código onde irá receber os valores de $x_1$, $y_1$, $x_2$ e $y_2$ em metros (podendo ser valores decimais) e retorne o valor da distância euclidiana em metros também."
   ]
  },
  {
   "cell_type": "code",
   "execution_count": 7,
   "metadata": {},
   "outputs": [
    {
     "name": "stdout",
     "output_type": "stream",
     "text": [
      "Digite os seguintes valores em metros: \n",
      "x1: 5\n",
      "y1: 7\n",
      "x2: 2\n",
      "y2: 8\n",
      "A distância euclidiana é de 3.16 m\n"
     ]
    }
   ],
   "source": [
    "# temos dois pontos\n",
    "# ponto 1 (x1 = 5, y1 = 7)\n",
    "# ponto 2 (x2 = 2, y2 = 8)\n",
    "\n",
    "# d = 3.1622776601683795 metros\n",
    "\n",
    "print('Digite os seguintes valores em metros: ')\n",
    "x1=float(input('x1: '))\n",
    "y1=float(input('y1: '))\n",
    "x2=float(input('x2: '))\n",
    "y2=float(input('y2: '))\n",
    "\n",
    "print(f'A distância euclidiana é de {(((x1-x2)**2) + ((y1 -y2)**2))  **(1/2):.2f} m')"
   ]
  },
  {
   "cell_type": "markdown",
   "metadata": {},
   "source": [
    "__5)__ O desvio padrão é uma métrica de dispersão onde avalia o espalhamento dos dados em uma determinada distribuição. A equação para o cálculo do desvio padrão é dada por:\n",
    "\n",
    "<br>\n",
    "\n",
    "$$ \\sigma = \\sqrt{\\frac{\\Sigma_{i = 1}^n{(x_i - \\bar{x})^2}}{n - 1}}$$\n",
    "\n",
    "<br>\n",
    "\n",
    "Monte um código que receba 10 valores inteiros que variem entre 1 e 10, e retorne os valores da média e desvio padrão destes 10 valores. Para auxiliar no desenvolvimento, siga os passos a seguir:\n",
    "- Receba os 10 números inteiros;\n",
    "- Calcular a média dos múmeros;\n",
    "- Calcule as diferenças em relação a média ao quadrado;\n",
    "- Cacule a soma das diferenças;\n",
    "- Calcule o desvio padrão."
   ]
  },
  {
   "cell_type": "code",
   "execution_count": 10,
   "metadata": {},
   "outputs": [
    {
     "name": "stdout",
     "output_type": "stream",
     "text": [
      "digite o 1º número: 1\n",
      "digite o 2º número: 4\n",
      "digite o 3º número: 6\n",
      "digite o 4º número: 8\n",
      "digite o 5º número: 10\n",
      "digite o 6º número: 12\n",
      "digite o 7º número: 14\n",
      "digite o 8º número: 16\n",
      "digite o 9º número: 18\n",
      "digite o 10º número: 20\n",
      "O desvio-padrão é de: 6.226288353960702\n"
     ]
    }
   ],
   "source": [
    "valores=[]\n",
    "for i in range (10):\n",
    "    val=int(input(f'digite o {i+1}º número: '))\n",
    "    valores.append(val)\n",
    "    \n",
    "media=sum(valores)/len(valores)\n",
    "\n",
    "somatorio=0\n",
    "for xi in valores:\n",
    "    somatorio+= (xi-media)**2\n",
    "\n",
    "desvio_padrao=((somatorio)/(len(valores)-1))**(1/2)\n",
    "\n",
    "print(f'O desvio-padrão é de: {desvio_padrao}')"
   ]
  },
  {
   "cell_type": "code",
   "execution_count": null,
   "metadata": {},
   "outputs": [],
   "source": [
    "# exemplo com 3 valores\n",
    "# valor1 = 5, valor2 = 7, valor3 = 9\n",
    "# media = (5 + 7 + 9)/3 = 7\n",
    "# somatorio = (5 - 7)**2 + (7 - 7)**2 + (9 - 7)**2 = 8\n",
    "# fracao = somatorio/(n-1) = 8/(3-1) = 4\n",
    "# desvio padrão = raiz(fracao) = (4)**(0.5) = 2"
   ]
  },
  {
   "cell_type": "code",
   "execution_count": 33,
   "metadata": {},
   "outputs": [],
   "source": [
    "# valores = [1, 4, 6, 8, 10, 12, 14, 16, 18, 20]\n",
    "# média: 10.9\n",
    "# Desvio padrão : 6.226288354"
   ]
  },
  {
   "cell_type": "markdown",
   "metadata": {},
   "source": [
    "## "
   ]
  }
 ],
 "metadata": {
  "colab": {
   "provenance": []
  },
  "kernelspec": {
   "display_name": "Python 3 (ipykernel)",
   "language": "python",
   "name": "python3"
  },
  "language_info": {
   "codemirror_mode": {
    "name": "ipython",
    "version": 3
   },
   "file_extension": ".py",
   "mimetype": "text/x-python",
   "name": "python",
   "nbconvert_exporter": "python",
   "pygments_lexer": "ipython3",
   "version": "3.9.12"
  },
  "vscode": {
   "interpreter": {
    "hash": "ad2bdc8ecc057115af97d19610ffacc2b4e99fae6737bb82f5d7fb13d2f2c186"
   }
  }
 },
 "nbformat": 4,
 "nbformat_minor": 1
}
