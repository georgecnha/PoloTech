{
 "cells": [
  {
   "cell_type": "markdown",
   "metadata": {},
   "source": [
    "## Aula 04 - Listas e Funções\n",
    "\n",
    "Nesta aula, serão discutidos os seguintes tópicos:\n",
    "- Listas;\n",
    "- Slicing;\n",
    "- Loop em listas;\n",
    "- Operador in;\n",
    "- Funções para Listas;\n",
    "- Funções;"
   ]
  },
  {
   "cell_type": "markdown",
   "metadata": {
    "id": "T8jBDHjIsiwu"
   },
   "source": [
    "## 1. Listas\n",
    "\n",
    "Note que ao longo das aulas anteriores, sempre que precisavamos de dados, era solicitado ao usuário esses tipos de informações. Por exemplo, mas criar um programa para calcular a média de prova de um aluno:"
   ]
  },
  {
   "cell_type": "code",
   "execution_count": 1,
   "metadata": {},
   "outputs": [
    {
     "name": "stdout",
     "output_type": "stream",
     "text": [
      "Digite a nota de sua prova: 8\n",
      "Digite a nota da outra prova: 7\n",
      "Sua média é:  7.5\n"
     ]
    }
   ],
   "source": [
    "# Digitar as notas\n",
    "nota1 = float(input(\"Digite a nota de sua prova: \"))\n",
    "nota2 = float(input(\"Digite a nota da outra prova: \"))\n",
    "\n",
    "# Calcula a media\n",
    "media = (nota1 + nota2)/2\n",
    "\n",
    "# Print da media\n",
    "print(\"Sua média é: \", media)"
   ]
  },
  {
   "cell_type": "markdown",
   "metadata": {
    "id": "JvUwQy5usm6F"
   },
   "source": [
    "Sempre pareceu muito simples certo? Agora imagine para um professor que da aula em 3 turnos numa escola e precisa calcular rapidamente a média de 80 alunos. Começa a ser inviável a utilização de `inputs` para este serviço.\n",
    "\n",
    "Neste ponto, que será introduzido as __listas__.\n",
    "\n",
    "A lista é uma coleção de objetos do _Python_, trazendo de maneira bem simplificada, ~soa variáveis que comportam diversos valores ao mesmo tempo.\n",
    "\n",
    "Abaixo temos algumas formas de criar listas em _Python_:"
   ]
  },
  {
   "cell_type": "code",
   "execution_count": 2,
   "metadata": {},
   "outputs": [],
   "source": [
    "# Duas formas de criar listas vazias\n",
    "lista1 = []\n",
    "\n",
    "lista2 = list()"
   ]
  },
  {
   "cell_type": "code",
   "execution_count": 3,
   "metadata": {},
   "outputs": [
    {
     "data": {
      "text/plain": [
       "[1, 'Sandro', 6.5, 80, 'Data Science']"
      ]
     },
     "execution_count": 3,
     "metadata": {},
     "output_type": "execute_result"
    }
   ],
   "source": [
    "# Criar lista com elementos diferentes\n",
    "lista3 = [1, 'Sandro', 6.5, 80, 'Data Science']\n",
    "lista3"
   ]
  },
  {
   "cell_type": "code",
   "execution_count": 4,
   "metadata": {},
   "outputs": [
    {
     "name": "stdout",
     "output_type": "stream",
     "text": [
      "[1, 'Sandro', 6.5, 80, 'Data Science']\n"
     ]
    }
   ],
   "source": [
    "print(lista3)"
   ]
  },
  {
   "cell_type": "markdown",
   "metadata": {},
   "source": [
    "Note que as listas, suportam diferentes tipos de objetos ao mesmo tempo, como no exemplo acima temos que a lista contenha 2 __inteiros__, 1 __float__ e 2 __strings__."
   ]
  },
  {
   "cell_type": "markdown",
   "metadata": {
    "id": "VQEek59Ds5YY"
   },
   "source": [
    "Uma característica bem importante das listas é sua __indexação__, onde pode-se acessar cada elemento individualmente devido a posição deste elemento estar associada a um __índice__, lembrando que em _Python_, índices começam sempre na posição zero. Vamos retomar ao exemplo anterior na tabela abaixo:\n",
    "\n",
    "<br>\n",
    "\n",
    "|  Lista | 1 | 'Sandro' | 8.5 | 70 | 'Data Science' |\n",
    "|:------:|:-:|:--------:|:---:|:--:|:--------------:|\n",
    "| Índice | 0 |     1    |  2  |  3 |        4       |\n",
    "\n",
    "<br>\n",
    "\n",
    "Portanto, para acessar cada um dos elementos basta utilizar os índices associados:"
   ]
  },
  {
   "cell_type": "code",
   "execution_count": 5,
   "metadata": {},
   "outputs": [
    {
     "name": "stdout",
     "output_type": "stream",
     "text": [
      "1\n",
      "Sandro\n",
      "80\n"
     ]
    }
   ],
   "source": [
    "print(lista3[0])\n",
    "print(lista3[1])\n",
    "print(lista3[3])"
   ]
  },
  {
   "cell_type": "markdown",
   "metadata": {
    "id": "r77HmAA1tOwb"
   },
   "source": [
    "Ainda sobre os índices, não precisamos saber os índices de todos os elementos quando queremos apenas trazer os últimos da lista (imagine que isso seja inviável quando temos uma lista muito grande). Mas pode-se acessar esses elementos utilizando o sinal negativo:"
   ]
  },
  {
   "cell_type": "code",
   "execution_count": 6,
   "metadata": {},
   "outputs": [
    {
     "name": "stdout",
     "output_type": "stream",
     "text": [
      "Data Science\n",
      "80\n",
      "6.5\n"
     ]
    }
   ],
   "source": [
    "print(lista3[-1])\n",
    "print(lista3[-2])\n",
    "print(lista3[-3])"
   ]
  },
  {
   "cell_type": "markdown",
   "metadata": {},
   "source": [
    " Uma última característica da estrutura da lista é que seus elementos são __mutável__, então pode-se alterar determinado valor de uma lista já criada:"
   ]
  },
  {
   "cell_type": "code",
   "execution_count": 7,
   "metadata": {},
   "outputs": [
    {
     "name": "stdout",
     "output_type": "stream",
     "text": [
      "Lista original:  [1, 'Sandro', 6.5, 80, 'Data Science']\n"
     ]
    }
   ],
   "source": [
    "print('Lista original: ', lista3)"
   ]
  },
  {
   "cell_type": "code",
   "execution_count": 8,
   "metadata": {},
   "outputs": [],
   "source": [
    "lista3[-1] = 'Machine Learning'"
   ]
  },
  {
   "cell_type": "code",
   "execution_count": 9,
   "metadata": {},
   "outputs": [
    {
     "name": "stdout",
     "output_type": "stream",
     "text": [
      "Lista alterada:  [1, 'Sandro', 6.5, 80, 'Machine Learning']\n"
     ]
    }
   ],
   "source": [
    "print('Lista alterada: ', lista3)"
   ]
  },
  {
   "cell_type": "markdown",
   "metadata": {},
   "source": [
    "## "
   ]
  },
  {
   "cell_type": "markdown",
   "metadata": {
    "id": "AVnLooiztS31"
   },
   "source": [
    "## 2. Slicing\n",
    "\n",
    "O __Slicing__ (em português fatiamento) é uma operação bem comum quando se trabalha com listas , onde a partir de uma lista original pode-se pegar subconjuntos ,ou fatias destes dados. Veja o exemplo abaixo:"
   ]
  },
  {
   "cell_type": "code",
   "execution_count": 10,
   "metadata": {},
   "outputs": [
    {
     "data": {
      "text/plain": [
       "[0, 2, 4, 6, 8, 10, 12, 14, 16, 18]"
      ]
     },
     "execution_count": 10,
     "metadata": {},
     "output_type": "execute_result"
    }
   ],
   "source": [
    "#Lista de numeros pares\n",
    "pares = [0, 2, 4, 6, 8, 10, 12, 14, 16, 18]\n",
    "pares"
   ]
  },
  {
   "cell_type": "code",
   "execution_count": 11,
   "metadata": {},
   "outputs": [
    {
     "data": {
      "text/plain": [
       "[6, 8, 10]"
      ]
     },
     "execution_count": 11,
     "metadata": {},
     "output_type": "execute_result"
    }
   ],
   "source": [
    "slice1 = pares[3:6]\n",
    "slice1"
   ]
  },
  {
   "cell_type": "markdown",
   "metadata": {},
   "source": [
    "Fizemos uma repartição onde retirou os elementos do índice 3 ao 6 (sendo o 6 excludente, sempre bom ressaltar isto!). Uma outra forma de repartir, onde queremos todos os elementos até determinado ponto, é utilizado os `:`"
   ]
  },
  {
   "cell_type": "code",
   "execution_count": 12,
   "metadata": {},
   "outputs": [
    {
     "data": {
      "text/plain": [
       "[0, 2, 4, 6, 8]"
      ]
     },
     "execution_count": 12,
     "metadata": {},
     "output_type": "execute_result"
    }
   ],
   "source": [
    "metade1 = pares[:5]\n",
    "metade1"
   ]
  },
  {
   "cell_type": "code",
   "execution_count": 13,
   "metadata": {},
   "outputs": [
    {
     "data": {
      "text/plain": [
       "[10, 12, 14, 16, 18]"
      ]
     },
     "execution_count": 13,
     "metadata": {},
     "output_type": "execute_result"
    }
   ],
   "source": [
    "metade2 = pares[5:]\n",
    "metade2"
   ]
  },
  {
   "cell_type": "markdown",
   "metadata": {
    "id": "u7cpe5ckta9O"
   },
   "source": [
    "Além dos índices inicial e final, pode-se também passar um passo para os índices. Veja o exemplo a seguir:"
   ]
  },
  {
   "cell_type": "code",
   "execution_count": 14,
   "metadata": {},
   "outputs": [
    {
     "data": {
      "text/plain": [
       "[0, 1, 2, 3, 4, 5, 6, 7, 8, 9, 10, 11, 12, 13, 14, 15]"
      ]
     },
     "execution_count": 14,
     "metadata": {},
     "output_type": "execute_result"
    }
   ],
   "source": [
    "nums = [0, 1, 2, 3, 4, 5, 6, 7, 8, 9, 10, 11, 12, 13, 14, 15]\n",
    "nums"
   ]
  },
  {
   "cell_type": "code",
   "execution_count": 17,
   "metadata": {},
   "outputs": [
    {
     "data": {
      "text/plain": [
       "[3, 6, 9]"
      ]
     },
     "execution_count": 17,
     "metadata": {},
     "output_type": "execute_result"
    }
   ],
   "source": [
    "multiplos3ate10 = nums[3:10:3]\n",
    "multiplos3ate10"
   ]
  },
  {
   "cell_type": "markdown",
   "metadata": {},
   "source": [
    "## "
   ]
  },
  {
   "cell_type": "markdown",
   "metadata": {
    "id": "lJZFySIgtmBr"
   },
   "source": [
    "## 3. Looping em Listas\n",
    "\n",
    "\n",
    "\n",
    "Vimos como acessar cada elemento de uma lista individualmente, mas não precisamos fazer desta forma já que sabemos como utilizar loopings como por exemplo o _for_.\n",
    "\n",
    "O maior desafio aqui será entender por quanto tempo o looping irá precisar percorrer a lista. Para isso, utiliza-se a função `len()`:"
   ]
  },
  {
   "cell_type": "code",
   "execution_count": 18,
   "metadata": {},
   "outputs": [
    {
     "data": {
      "text/plain": [
       "[1, 3, 5, 7, 9, 11]"
      ]
     },
     "execution_count": 18,
     "metadata": {},
     "output_type": "execute_result"
    }
   ],
   "source": [
    "impares = [1, 3, 5, 7, 9, 11]\n",
    "impares"
   ]
  },
  {
   "cell_type": "code",
   "execution_count": 19,
   "metadata": {},
   "outputs": [
    {
     "data": {
      "text/plain": [
       "6"
      ]
     },
     "execution_count": 19,
     "metadata": {},
     "output_type": "execute_result"
    }
   ],
   "source": [
    "len(impares)"
   ]
  },
  {
   "cell_type": "markdown",
   "metadata": {},
   "source": [
    "Ou seja, a função `len()` retorna a quantidade de elementos dentro de uma lista. Pode-se combinar isto com a função `range` e assim percorrer todos os elementos na nossa lista:"
   ]
  },
  {
   "cell_type": "code",
   "execution_count": 21,
   "metadata": {},
   "outputs": [
    {
     "name": "stdout",
     "output_type": "stream",
     "text": [
      "Indice: 0 | Elemento: 1\n",
      "Indice: 1 | Elemento: 3\n",
      "Indice: 2 | Elemento: 5\n",
      "Indice: 3 | Elemento: 7\n",
      "Indice: 4 | Elemento: 9\n",
      "Indice: 5 | Elemento: 11\n"
     ]
    }
   ],
   "source": [
    "for i in range(len(impares)):\n",
    "    print(f'Indice: {i} | Elemento: {impares[i]}')"
   ]
  },
  {
   "cell_type": "code",
   "execution_count": 22,
   "metadata": {},
   "outputs": [
    {
     "name": "stdout",
     "output_type": "stream",
     "text": [
      "1\n",
      "3\n",
      "5\n",
      "7\n",
      "9\n",
      "11\n"
     ]
    }
   ],
   "source": [
    "for i in range(len(impares)):\n",
    "    print(impares[i])"
   ]
  },
  {
   "cell_type": "markdown",
   "metadata": {},
   "source": [
    "Pórem, existe uma forma ainda mais fácil de percorrer os elementos de uma lista, sem se preocupar o índice de fato. O _for_ não serve apenas para percorrer sequências mas também percorrer elementos de coleções. Dessa forma, pode-se trocar o `range` pela própria lista:"
   ]
  },
  {
   "cell_type": "code",
   "execution_count": 23,
   "metadata": {},
   "outputs": [
    {
     "name": "stdout",
     "output_type": "stream",
     "text": [
      "1\n",
      "3\n",
      "5\n",
      "7\n",
      "9\n",
      "11\n"
     ]
    }
   ],
   "source": [
    "for num in impares:\n",
    "    print(num)"
   ]
  },
  {
   "cell_type": "markdown",
   "metadata": {},
   "source": [
    "> O for serve, primariamente, para percorrer coleções. Ou seja, para iterar coleções. O range age, na prática, como se fosse uma lista contendo os valores determinados por seu parâmetro. Dizemos que a função range gera um iterável, ou seja, um tipo especial de dado que pode ser percorrido através de um loop."
   ]
  },
  {
   "cell_type": "markdown",
   "metadata": {},
   "source": [
    "## "
   ]
  },
  {
   "cell_type": "markdown",
   "metadata": {
    "id": "hNe7Z9KMtuFG"
   },
   "source": [
    "## 4. Operador in\n",
    "\n",
    "O operador __in__ costuma aparecer no _for_ para indicar a lista ou sequência a ser percorrida, mas ele também possui uma funcionalidade de verificar de determinado elemento pertence ou não a uma lista. Observe a saída do código abaixo."
   ]
  },
  {
   "cell_type": "code",
   "execution_count": 24,
   "metadata": {},
   "outputs": [
    {
     "data": {
      "text/plain": [
       "['Python', 'Spark', 'R', 'SQL']"
      ]
     },
     "execution_count": 24,
     "metadata": {},
     "output_type": "execute_result"
    }
   ],
   "source": [
    "lingprog = ['Python', 'Spark', 'R', 'SQL']\n",
    "lingprog"
   ]
  },
  {
   "cell_type": "code",
   "execution_count": 25,
   "metadata": {},
   "outputs": [],
   "source": [
    "existe_python = 'Python' in lingprog\n",
    "existe_java = 'Java' in lingprog"
   ]
  },
  {
   "cell_type": "code",
   "execution_count": 26,
   "metadata": {},
   "outputs": [
    {
     "name": "stdout",
     "output_type": "stream",
     "text": [
      "Python:  True\n",
      "Java:  False\n"
     ]
    }
   ],
   "source": [
    "print('Python: ', existe_python)\n",
    "print('Java: ', existe_java)"
   ]
  },
  {
   "cell_type": "markdown",
   "metadata": {
    "id": "LEP6lJCYt2ce"
   },
   "source": [
    "Normalmente utilizamos esse comando junto de um if quando precisamos checar se um elemento existe:\n",
    "\n"
   ]
  },
  {
   "cell_type": "code",
   "execution_count": 28,
   "metadata": {},
   "outputs": [
    {
     "name": "stdout",
     "output_type": "stream",
     "text": [
      "Digite a linguagem que você quer aprender: Ruby\n",
      "Infelizmente não temos curso dessa linguagem\n"
     ]
    }
   ],
   "source": [
    "linguagem_desejada = input(\"Digite a linguagem que você quer aprender: \")\n",
    "\n",
    "if linguagem_desejada not in lingprog:\n",
    "    print(\"Infelizmente não temos curso dessa linguagem\")\n",
    "else:\n",
    "    print(\"Temos curso dessa linguagem =)\")"
   ]
  },
  {
   "cell_type": "markdown",
   "metadata": {},
   "source": [
    "## "
   ]
  },
  {
   "cell_type": "markdown",
   "metadata": {
    "id": "dx6tuwNvt5UY"
   },
   "source": [
    "## 4. Funções para Listas\n",
    "\n",
    "\n",
    "As listas possuem diversas funções próprias batante úteis e que facilitam a vida no dia a dia de desenvolvimento com _Python_. A seguir iremos comentar sobre algumas das principais funções:\n",
    "\n",
    "<br>\n",
    "\n",
    "### append e insert - Adicionando elementos\n",
    "\n",
    "Podemos adicionar novos elementos na lista de duas maneiras. A primeira delas, mais simples, é o append. Ele adiciona um elemento ao final da lista. Veja o exemplo abaixo:"
   ]
  },
  {
   "cell_type": "code",
   "execution_count": 29,
   "metadata": {},
   "outputs": [
    {
     "data": {
      "text/plain": [
       "[0, 2, 4, 6, 8]"
      ]
     },
     "execution_count": 29,
     "metadata": {},
     "output_type": "execute_result"
    }
   ],
   "source": [
    "pares = [0, 2, 4, 6, 8]\n",
    "pares"
   ]
  },
  {
   "cell_type": "code",
   "execution_count": 30,
   "metadata": {},
   "outputs": [
    {
     "data": {
      "text/plain": [
       "[0, 2, 4, 6, 8, 10]"
      ]
     },
     "execution_count": 30,
     "metadata": {},
     "output_type": "execute_result"
    }
   ],
   "source": [
    "pares.append(10)\n",
    "pares"
   ]
  },
  {
   "cell_type": "markdown",
   "metadata": {
    "id": "SibHjanftfXf"
   },
   "source": [
    "__Observação:__ deve-se tomar bastante cuidado ao utilizar listas como por exemplo, ao atribuir uma lista a uma variável:"
   ]
  },
  {
   "cell_type": "code",
   "execution_count": 31,
   "metadata": {},
   "outputs": [
    {
     "data": {
      "text/plain": [
       "[1, 2, 3]"
      ]
     },
     "execution_count": 31,
     "metadata": {},
     "output_type": "execute_result"
    }
   ],
   "source": [
    "lista1 = [1, 2, 3]\n",
    "lista1"
   ]
  },
  {
   "cell_type": "code",
   "execution_count": 33,
   "metadata": {},
   "outputs": [
    {
     "data": {
      "text/plain": [
       "[1, 2, 3]"
      ]
     },
     "execution_count": 33,
     "metadata": {},
     "output_type": "execute_result"
    }
   ],
   "source": [
    "lista2 = lista1\n",
    "lista2"
   ]
  },
  {
   "cell_type": "markdown",
   "metadata": {},
   "source": [
    "Quando atribui-se uma lista a outra variável, a lista __não é copiada__. Dessa forma, qualquer modificação na variável impacta também na lista original:"
   ]
  },
  {
   "cell_type": "code",
   "execution_count": 34,
   "metadata": {},
   "outputs": [
    {
     "name": "stdout",
     "output_type": "stream",
     "text": [
      "[1, 2, 3, 4]\n",
      "[1, 2, 3, 4]\n"
     ]
    }
   ],
   "source": [
    "lista2.append(4)\n",
    "print(lista1)\n",
    "print(lista2)"
   ]
  },
  {
   "cell_type": "markdown",
   "metadata": {
    "id": "782xhjCkthm0"
   },
   "source": [
    "Modificações aplicadas em `lista2` também afetarão a `lista1`. \n",
    "\n",
    "Isso ocorre porque não foi criada uma nova lista. O _Python_ apenas fez com que ambas as variáveis (`lista1` e `lista2`) referenciassem a mesma estrutura na memória. Quando utilizamos _slices_, isso não ocorre. O _Python_ cria uma lista contendo os valores restritos pelos índices. Sendo assim, uma estratégia fácil para copiar uma lista para outra é utilizar um slice indo da primeira à última posição:"
   ]
  },
  {
   "cell_type": "code",
   "execution_count": 35,
   "metadata": {},
   "outputs": [
    {
     "name": "stdout",
     "output_type": "stream",
     "text": [
      "[1, 2, 3]\n",
      "[1, 2, 3, 4]\n"
     ]
    }
   ],
   "source": [
    "lista1 = [1, 2, 3]\n",
    "#lista2 = lista1.copy()\n",
    "lista2 = lista1[:]\n",
    "lista2.append(4)\n",
    "print(lista1)\n",
    "print(lista2)"
   ]
  },
  {
   "cell_type": "markdown",
   "metadata": {
    "id": "i0ePpzqRuBTm"
   },
   "source": [
    "Outra maneira de adicionar elemento é com a função __insert__: além do elemento, ele recebe a posição do novo elemento, onde o primeiro parâmetro é a posição, e a segundo é o valor:"
   ]
  },
  {
   "cell_type": "code",
   "execution_count": 36,
   "metadata": {},
   "outputs": [
    {
     "data": {
      "text/plain": [
       "[0, 2, 4, 8, 10]"
      ]
     },
     "execution_count": 36,
     "metadata": {},
     "output_type": "execute_result"
    }
   ],
   "source": [
    "pares = [0, 2, 4, 8, 10]\n",
    "pares"
   ]
  },
  {
   "cell_type": "code",
   "execution_count": 37,
   "metadata": {},
   "outputs": [
    {
     "data": {
      "text/plain": [
       "[0, 2, 4, 6, 8, 10]"
      ]
     },
     "execution_count": 37,
     "metadata": {},
     "output_type": "execute_result"
    }
   ],
   "source": [
    "pares.insert(3, 6)\n",
    "pares"
   ]
  },
  {
   "cell_type": "markdown",
   "metadata": {},
   "source": [
    "Note que o valor que ocupava a posição anteriormente não é substituído, mas \"empurrado\" para a próxima posição.\n",
    "\n"
   ]
  },
  {
   "cell_type": "markdown",
   "metadata": {},
   "source": [
    "## "
   ]
  },
  {
   "cell_type": "markdown",
   "metadata": {
    "id": "k-apXhuvuHtX"
   },
   "source": [
    "### remove e pop - Removendo elementos\n",
    "\n",
    "\n",
    "Pode-se  remover um determinado elemento de 2 jeitos: pelo valor utilizando o __remove__ ou pela posição com o __pop__. \n",
    "\n",
    "O __remove__ irá remover o primeiro elemento encontrado na lista com um dado valor. Ex:"
   ]
  },
  {
   "cell_type": "code",
   "execution_count": 38,
   "metadata": {},
   "outputs": [
    {
     "data": {
      "text/plain": [
       "[1, 3, 5, 7, 3, 9]"
      ]
     },
     "execution_count": 38,
     "metadata": {},
     "output_type": "execute_result"
    }
   ],
   "source": [
    "impares = [1, 3, 5, 7, 3, 9]\n",
    "impares"
   ]
  },
  {
   "cell_type": "code",
   "execution_count": 39,
   "metadata": {},
   "outputs": [
    {
     "data": {
      "text/plain": [
       "[1, 5, 7, 3, 9]"
      ]
     },
     "execution_count": 39,
     "metadata": {},
     "output_type": "execute_result"
    }
   ],
   "source": [
    "impares.remove(3)\n",
    "impares"
   ]
  },
  {
   "cell_type": "markdown",
   "metadata": {
    "id": "Yi1XhB3BuLhL"
   },
   "source": [
    "Já a função __pop__ remove o elemento que estiver em uma dada posição, independentemente de seu valor:"
   ]
  },
  {
   "cell_type": "code",
   "execution_count": 41,
   "metadata": {},
   "outputs": [
    {
     "data": {
      "text/plain": [
       "[1, 3, 5, 7, 8, 9]"
      ]
     },
     "execution_count": 41,
     "metadata": {},
     "output_type": "execute_result"
    }
   ],
   "source": [
    "impares = [1, 3, 5, 7, 8, 9]\n",
    "impares"
   ]
  },
  {
   "cell_type": "code",
   "execution_count": 42,
   "metadata": {},
   "outputs": [
    {
     "data": {
      "text/plain": [
       "[1, 3, 5, 7, 9]"
      ]
     },
     "execution_count": 42,
     "metadata": {},
     "output_type": "execute_result"
    }
   ],
   "source": [
    "impares.pop(4)\n",
    "impares"
   ]
  },
  {
   "cell_type": "markdown",
   "metadata": {},
   "source": [
    "Se nenhum valor for passado no pop, ele irá remover necessariamente o último elemento da lista.\n",
    "\n"
   ]
  },
  {
   "cell_type": "markdown",
   "metadata": {},
   "source": [
    "## "
   ]
  },
  {
   "cell_type": "markdown",
   "metadata": {
    "id": "dDIr4hJ8uOi0"
   },
   "source": [
    "### sort -  Ordenando listas\n",
    "\n",
    "\n",
    "Podemos ordenar uma lista facilmente utilizando a função __sort__ para listas:"
   ]
  },
  {
   "cell_type": "code",
   "execution_count": 43,
   "metadata": {},
   "outputs": [
    {
     "name": "stdout",
     "output_type": "stream",
     "text": [
      "[8, 1, 5, 13, 1, 3, 2]\n"
     ]
    }
   ],
   "source": [
    "fibonacci = [8, 1, 5, 13, 1, 3, 2]\n",
    "print(fibonacci)"
   ]
  },
  {
   "cell_type": "code",
   "execution_count": 44,
   "metadata": {},
   "outputs": [
    {
     "data": {
      "text/plain": [
       "[1, 1, 2, 3, 5, 8, 13]"
      ]
     },
     "execution_count": 44,
     "metadata": {},
     "output_type": "execute_result"
    }
   ],
   "source": [
    "fibonacci.sort()\n",
    "fibonacci"
   ]
  },
  {
   "cell_type": "markdown",
   "metadata": {
    "id": "u2wglRuluSaE"
   },
   "source": [
    "Para ordenar a lista de maior para o menor, ou seja, de forma decrescente para passar o parâmetro `reverse = True`:"
   ]
  },
  {
   "cell_type": "code",
   "execution_count": 45,
   "metadata": {},
   "outputs": [
    {
     "data": {
      "text/plain": [
       "[13, 8, 5, 3, 2, 1, 1]"
      ]
     },
     "execution_count": 45,
     "metadata": {},
     "output_type": "execute_result"
    }
   ],
   "source": [
    "fibonacci.sort(reverse = True)\n",
    "fibonacci"
   ]
  },
  {
   "cell_type": "markdown",
   "metadata": {},
   "source": [
    "> Importante: o sort só irá funcionar caso sua lista possua apenas elementos que podem ser comparados entre si (apenas strings ou apenas números, por exemplo). Se uma lista contém tanto strings quanto números, o sort não saberá o que vem primeiro."
   ]
  },
  {
   "cell_type": "markdown",
   "metadata": {
    "id": "8z5oBjgwuulZ"
   },
   "source": [
    "Um problema do __sort__ é que ele irá reordenar a própria lista. Muitas vezes precisamos preservar a lista original, e obter uma nova com a ordenação desejada. Neste caso, podemos utilizar o __sorted__:"
   ]
  },
  {
   "cell_type": "code",
   "execution_count": 46,
   "metadata": {},
   "outputs": [
    {
     "name": "stdout",
     "output_type": "stream",
     "text": [
      "[8, 1, 5, 13, 1, 3, 2]\n",
      "[1, 1, 2, 3, 5, 8, 13]\n"
     ]
    }
   ],
   "source": [
    "fibonacci = [8, 1, 5, 13, 1, 3, 2]\n",
    "fibonacci_ordenado = sorted(fibonacci)\n",
    "print(fibonacci)\n",
    "print(fibonacci_ordenado)"
   ]
  },
  {
   "cell_type": "markdown",
   "metadata": {
    "id": "GeBtWtxvuyJi"
   },
   "source": [
    "O sorted também aceita o parâmetro reverse para aplicar ordem decrescente.\n",
    "\n",
    "Aliás a respeito de ordenar decrescentemente, é possível simplesmente inverter a ordem dos elementos de uma lista utilizando a função __reverse__:"
   ]
  },
  {
   "cell_type": "code",
   "execution_count": 47,
   "metadata": {},
   "outputs": [
    {
     "name": "stdout",
     "output_type": "stream",
     "text": [
      "[1, 5, 'dois', 4, 3.14]\n",
      "[3.14, 4, 'dois', 5, 1]\n"
     ]
    }
   ],
   "source": [
    "lista = [1, 5, 'dois', 4, 3.14]\n",
    "print(lista)\n",
    "lista.reverse()\n",
    "print(lista)"
   ]
  },
  {
   "cell_type": "markdown",
   "metadata": {},
   "source": [
    "## "
   ]
  },
  {
   "cell_type": "markdown",
   "metadata": {
    "id": "7HI0YooWu6xm"
   },
   "source": [
    "### index - Buscar um elemento\n",
    "\n",
    "\n",
    "Pode-se buscar um determinado elemento (descobrir sua posição) utilizando a função __index__. Ela irá informar a primeira posição onde um elemento for encontrado:"
   ]
  },
  {
   "cell_type": "code",
   "execution_count": 48,
   "metadata": {},
   "outputs": [
    {
     "data": {
      "text/plain": [
       "4"
      ]
     },
     "execution_count": 48,
     "metadata": {},
     "output_type": "execute_result"
    }
   ],
   "source": [
    "pi = [3, 1, 4, 1, 5, 9, 2, 6, 5]\n",
    "posicao = pi.index(5)\n",
    "posicao"
   ]
  },
  {
   "cell_type": "markdown",
   "metadata": {},
   "source": [
    "> Atenção: caso o elemento buscado não exista, a função index dará erro. Considere utilizar o in para verificar se o elemento existe na lista antes de usar o index."
   ]
  },
  {
   "cell_type": "markdown",
   "metadata": {},
   "source": [
    "## "
   ]
  },
  {
   "cell_type": "markdown",
   "metadata": {
    "id": "0K_xNqefu87X"
   },
   "source": [
    "### Propriedades das Listas\n",
    "\n",
    "Assim como já vimo a função __len__ que retorna o tamanho da lista verificada, existem outras funções que por exemplo devolvem o maior valor (__max__) ou o menor (__min__)."
   ]
  },
  {
   "cell_type": "code",
   "execution_count": 49,
   "metadata": {},
   "outputs": [
    {
     "name": "stdout",
     "output_type": "stream",
     "text": [
      "9 9 1\n"
     ]
    }
   ],
   "source": [
    "pi = [3, 1, 4, 1, 5, 9, 2, 6, 5]\n",
    "tamanho = len(pi)\n",
    "maior = max(pi)\n",
    "menor = min(pi)\n",
    "print(tamanho, maior, menor)"
   ]
  },
  {
   "cell_type": "markdown",
   "metadata": {},
   "source": [
    "## "
   ]
  },
  {
   "cell_type": "markdown",
   "metadata": {
    "id": "QNPNw5nwvrmh"
   },
   "source": [
    "### Enumerate\n",
    "\n",
    "\n",
    "Considere um problema qualquer onde o índice importa. Por exemplo, suponha que você possua uma lista de números e gostaria de criar uma regra em relação aos índices. Se o índice for par, eu multiplico o número por 2 e se for ímpar eu soma em uma unidade, para fins de `print`.\n",
    "\n",
    "A lógica desse problema poderia ser resolvida usando índice: "
   ]
  },
  {
   "cell_type": "code",
   "execution_count": 50,
   "metadata": {},
   "outputs": [
    {
     "name": "stdout",
     "output_type": "stream",
     "text": [
      "2\n",
      "3\n",
      "6\n",
      "5\n",
      "10\n",
      "7\n",
      "14\n",
      "9\n",
      "18\n",
      "11\n"
     ]
    }
   ],
   "source": [
    "lista_numeros = [1, 2, 3, 4, 5, 6, 7, 8, 9, 10]\n",
    "\n",
    "for i in range(len(lista_numeros)):\n",
    "    if i % 2 == 0:\n",
    "        print(lista_numeros[i]*2)\n",
    "    else:\n",
    "        print(lista_numeros[i] + 1)"
   ]
  },
  {
   "cell_type": "markdown",
   "metadata": {
    "id": "CEj5TlMHv137"
   },
   "source": [
    "Existe uma ferramenta em Python que pode nos ajudar a escrever de maneira mais *pythonica*, sem precisar acessar lista por índice: o **enumerate**. Vamos entender o que ele faz primeiro, e em seguida veremos como deixar o código mais limpo:"
   ]
  },
  {
   "cell_type": "code",
   "execution_count": 51,
   "metadata": {},
   "outputs": [
    {
     "name": "stdout",
     "output_type": "stream",
     "text": [
      "(0, 1)\n",
      "(1, 2)\n",
      "(2, 3)\n",
      "(3, 4)\n",
      "(4, 5)\n",
      "(5, 6)\n",
      "(6, 7)\n",
      "(7, 8)\n",
      "(8, 9)\n",
      "(9, 10)\n"
     ]
    }
   ],
   "source": [
    "for x in enumerate(lista_numeros):\n",
    "    print(x)"
   ]
  },
  {
   "cell_type": "markdown",
   "metadata": {
    "id": "jhz99yxRv6W2"
   },
   "source": [
    "O **enumerate** montou uma estrutura onde cada elemento é uma tupla (uma espécie de lista imutável), sendo o primeiro elemento da tupla um índice da lista, e o segundo o valor associado àquele índice. Ao tratar a tupla como se fosse mais de uma variável, temos o que chamamos de **desempacotamento de tupla**: cada valor da tupla é atribuido para uma variável. \n",
    "\n"
   ]
  },
  {
   "cell_type": "code",
   "execution_count": 52,
   "metadata": {},
   "outputs": [
    {
     "data": {
      "text/plain": [
       "(1, 3, 5, 7)"
      ]
     },
     "execution_count": 52,
     "metadata": {},
     "output_type": "execute_result"
    }
   ],
   "source": [
    "tupla = (1, 3, 5, 7)\n",
    "tupla"
   ]
  },
  {
   "cell_type": "code",
   "execution_count": 53,
   "metadata": {},
   "outputs": [
    {
     "name": "stdout",
     "output_type": "stream",
     "text": [
      "1\n",
      "3\n",
      "5\n",
      "7\n"
     ]
    }
   ],
   "source": [
    "a, b, c, d = tupla\n",
    "print(a)\n",
    "print(b)\n",
    "print(c)\n",
    "print(d)"
   ]
  },
  {
   "cell_type": "markdown",
   "metadata": {
    "id": "ojNgCKpzwMcH"
   },
   "source": [
    "\n",
    "Aplicando o desempacotamento de tupla no *for*, podemos ter, simultaneamente, índice e valor em variáveis separadas, na prática percorrendo a lista tanto por índice quanto por valor. Refazendo o exemplo das maiúsculas/minúsculas:"
   ]
  },
  {
   "cell_type": "code",
   "execution_count": 54,
   "metadata": {},
   "outputs": [
    {
     "name": "stdout",
     "output_type": "stream",
     "text": [
      "2\n",
      "3\n",
      "6\n",
      "5\n",
      "10\n",
      "7\n",
      "14\n",
      "9\n",
      "18\n",
      "11\n"
     ]
    }
   ],
   "source": [
    "for i, vlr in enumerate(lista_numeros):\n",
    "    if i % 2 == 0:\n",
    "        print(vlr*2)\n",
    "    else:\n",
    "        print(vlr + 1)"
   ]
  },
  {
   "cell_type": "markdown",
   "metadata": {},
   "source": [
    "## "
   ]
  },
  {
   "cell_type": "markdown",
   "metadata": {
    "id": "msYqsmkgwXg0"
   },
   "source": [
    "### Zip\n",
    "\n",
    "\n",
    "Vamos pensar em um problema onde precisamos percorrer duas listas simultaneamente. Por exemplo, considere que temos uma lista com os nomes de todos os alunos de uma turma, e outra com as notas, na mesma ordem. Como faríamos para acessar, simultaneamente, o nome de um aluno e a sua nota?\n",
    "\n",
    "Esse é um problema onde, a princípio, utilizaríamos índice. Se usarmos o mesmo índice nas duas listas, estamos na prática percorrendo ambas as listas simultaneamente:"
   ]
  },
  {
   "cell_type": "code",
   "execution_count": 55,
   "metadata": {},
   "outputs": [
    {
     "name": "stdout",
     "output_type": "stream",
     "text": [
      "Aluno Leandro: 10\n",
      "Aluno Maisa: 8.5\n",
      "Aluno Bernardo: 8\n",
      "Aluno Vivian: 9\n"
     ]
    }
   ],
   "source": [
    "alunos = ['Leandro', 'Maisa', 'Bernardo', 'Vivian']\n",
    "notas = [10, 8.5, 8, 9]\n",
    "\n",
    "for i in range(len(alunos)):\n",
    "    print(f'Aluno {alunos[i]}: {notas[i]}')"
   ]
  },
  {
   "cell_type": "markdown",
   "metadata": {
    "id": "vq2l3_rQwcT6"
   },
   "source": [
    "Vamos ver agora o **zip** em ação para compreender como ele funciona:\n"
   ]
  },
  {
   "cell_type": "code",
   "execution_count": 56,
   "metadata": {},
   "outputs": [
    {
     "name": "stdout",
     "output_type": "stream",
     "text": [
      "('Leandro', 10)\n",
      "('Maisa', 8.5)\n",
      "('Bernardo', 8)\n",
      "('Vivian', 9)\n"
     ]
    }
   ],
   "source": [
    "for x in zip(alunos, notas):\n",
    "    print(x)"
   ]
  },
  {
   "cell_type": "markdown",
   "metadata": {
    "id": "X-ma2qSFwgA5"
   },
   "source": [
    "Assim como no **enumerate**, o **zip** montou tuplas. Cada tupla representa 1 posição das listas originais, e cada posição dentro da tupla representa o dado de uma das listas. Ou seja, cada elemento do **zip** contém 1 elemento de cada lista original, na ordem que eles apareceram nas listas originais. Logo, ele permite percorrer 2 listas simultaneamente.\n",
    "\n",
    "Novamente podemos aplicar desempacotamento de tuplas em nosso loop acessar os dados de cada lista individualmente de maneira legível:"
   ]
  },
  {
   "cell_type": "code",
   "execution_count": 57,
   "metadata": {},
   "outputs": [
    {
     "name": "stdout",
     "output_type": "stream",
     "text": [
      "Aluno Leandro: 10\n",
      "Aluno Maisa: 8.5\n",
      "Aluno Bernardo: 8\n",
      "Aluno Vivian: 9\n"
     ]
    }
   ],
   "source": [
    "for aluno, nota in zip(alunos, notas):\n",
    "    print(f'Aluno {aluno}: {nota}')"
   ]
  },
  {
   "cell_type": "markdown",
   "metadata": {},
   "source": [
    "## "
   ]
  },
  {
   "cell_type": "markdown",
   "metadata": {},
   "source": [
    "## 5. Funções"
   ]
  },
  {
   "cell_type": "markdown",
   "metadata": {},
   "source": [
    "__Funções__ em _Python_ é uma aplicação que auxilia na repetitividade de trechos de código. Então, vamos imaginar aquele primeiro exemplo onde pedia as notas das 3 provas de um aluno e depois devolvia o valor da média. Vamos refazer pela última vez este exercício aqui:"
   ]
  },
  {
   "cell_type": "code",
   "execution_count": 58,
   "metadata": {},
   "outputs": [
    {
     "name": "stdout",
     "output_type": "stream",
     "text": [
      "Digite a primeira nota: 7\n",
      "Digite a segunda nota: 8\n",
      "Digite a terceira nota: 9\n",
      "Média:  8.0\n"
     ]
    }
   ],
   "source": [
    "nota1 = float(input('Digite a primeira nota: '))\n",
    "nota2 = float(input('Digite a segunda nota: '))\n",
    "nota3 = float(input('Digite a terceira nota: '))\n",
    "\n",
    "media = (nota1 + nota2 + nota3)/3\n",
    "\n",
    "print('Média: ', media)"
   ]
  },
  {
   "cell_type": "markdown",
   "metadata": {},
   "source": [
    "A função é um \"pedaço de código\" a parte do que estamos desenvolvendo que podemos chamar toda a vez que quiser repetir ou executar determinada função. Então vamos monta uma função nomeada como `calcula_media`:"
   ]
  },
  {
   "cell_type": "code",
   "execution_count": 59,
   "metadata": {},
   "outputs": [],
   "source": [
    "def calcula_media():\n",
    "    nota1 = float(input('Digite a primeira nota: '))\n",
    "    nota2 = float(input('Digite a segunda nota: '))\n",
    "    nota3 = float(input('Digite a terceira nota: '))\n",
    "\n",
    "    media = (nota1 + nota2 + nota3)/3\n",
    "\n",
    "    print('Média: ', media)"
   ]
  },
  {
   "cell_type": "markdown",
   "metadata": {},
   "source": [
    "Agora, vamos acionar a nossa função:"
   ]
  },
  {
   "cell_type": "code",
   "execution_count": 60,
   "metadata": {},
   "outputs": [
    {
     "name": "stdout",
     "output_type": "stream",
     "text": [
      "Digite a primeira nota: 7\n",
      "Digite a segunda nota: 8\n",
      "Digite a terceira nota: 9\n",
      "Média:  8.0\n"
     ]
    }
   ],
   "source": [
    "calcula_media()"
   ]
  },
  {
   "cell_type": "markdown",
   "metadata": {},
   "source": [
    "Dessa forma, agora pode-se utilizar a função quantas vezes a gente quiser. Note, o que foi definido dentro da função é privado a ela, ou seja, não é possível acessar elementos criados dentro dela. Siga o exemplo abaixo:"
   ]
  },
  {
   "cell_type": "code",
   "execution_count": 61,
   "metadata": {},
   "outputs": [],
   "source": [
    "def soma1(a, b, c):\n",
    "    resultado = a + b + c"
   ]
  },
  {
   "cell_type": "code",
   "execution_count": 64,
   "metadata": {},
   "outputs": [
    {
     "ename": "NameError",
     "evalue": "name 'resultado' is not defined",
     "output_type": "error",
     "traceback": [
      "\u001b[1;31m---------------------------------------------------------------------------\u001b[0m",
      "\u001b[1;31mNameError\u001b[0m                                 Traceback (most recent call last)",
      "Input \u001b[1;32mIn [64]\u001b[0m, in \u001b[0;36m<cell line: 2>\u001b[1;34m()\u001b[0m\n\u001b[0;32m      1\u001b[0m soma1(\u001b[38;5;241m5\u001b[39m, \u001b[38;5;241m6\u001b[39m, \u001b[38;5;241m7\u001b[39m)\n\u001b[1;32m----> 2\u001b[0m media \u001b[38;5;241m=\u001b[39m \u001b[43mresultado\u001b[49m\u001b[38;5;241m/\u001b[39m\u001b[38;5;241m3\u001b[39m\n\u001b[0;32m      3\u001b[0m \u001b[38;5;28mprint\u001b[39m(media)\n",
      "\u001b[1;31mNameError\u001b[0m: name 'resultado' is not defined"
     ]
    }
   ],
   "source": [
    "soma1(5, 6, 7)\n",
    "media = resultado/3\n",
    "print(media)"
   ]
  },
  {
   "cell_type": "markdown",
   "metadata": {},
   "source": [
    "Mas para que isso seja válido, é necessário definir um __retorno da função__ que foi criada. Vamos retomar o exemplo agora:"
   ]
  },
  {
   "cell_type": "code",
   "execution_count": 67,
   "metadata": {},
   "outputs": [
    {
     "name": "stdout",
     "output_type": "stream",
     "text": [
      "18\n",
      "10\n",
      "6.0\n"
     ]
    }
   ],
   "source": [
    "def soma2(a, b, c):\n",
    "    soma = a + b + c\n",
    "    return soma\n",
    "\n",
    "s = soma2(5, 6, 7)\n",
    "print(s)\n",
    "media = s/3\n",
    "print(media)"
   ]
  },
  {
   "cell_type": "code",
   "execution_count": 73,
   "metadata": {},
   "outputs": [],
   "source": [
    "def soma3(a = 1, b = 2, c = 3):\n",
    "    soma = a + b + c\n",
    "    return soma"
   ]
  },
  {
   "cell_type": "code",
   "execution_count": 74,
   "metadata": {},
   "outputs": [
    {
     "name": "stdout",
     "output_type": "stream",
     "text": [
      "6\n"
     ]
    }
   ],
   "source": [
    "print(soma3())"
   ]
  },
  {
   "cell_type": "markdown",
   "metadata": {},
   "source": [
    "Podemos até refazer o exercícios das médias onde iremos receber uma __lista de notas__ e iremos devolver para o aluno o valor da média:"
   ]
  },
  {
   "cell_type": "code",
   "execution_count": 68,
   "metadata": {},
   "outputs": [],
   "source": [
    "lista_notas = [9.0, 5.5, 9.5, 4.0, 7.5, 6.5]"
   ]
  },
  {
   "cell_type": "code",
   "execution_count": 69,
   "metadata": {},
   "outputs": [],
   "source": [
    "def media_notas(lista):\n",
    "    soma = 0\n",
    "    \n",
    "    # Soma das notas\n",
    "    for nota in lista:\n",
    "        soma += nota\n",
    "    \n",
    "    # Quantidade de notas\n",
    "    n = len(lista)\n",
    "    \n",
    "    return soma/n"
   ]
  },
  {
   "cell_type": "code",
   "execution_count": 70,
   "metadata": {},
   "outputs": [
    {
     "name": "stdout",
     "output_type": "stream",
     "text": [
      "7.0\n"
     ]
    }
   ],
   "source": [
    "print(media_notas(lista_notas))"
   ]
  },
  {
   "cell_type": "code",
   "execution_count": null,
   "metadata": {},
   "outputs": [],
   "source": [
    "# Return com mais de um elemento\n",
    "def media_notas(lista):\n",
    "    soma = 0\n",
    "    \n",
    "    # Soma das notas\n",
    "    for nota in lista:\n",
    "        soma += nota\n",
    "    \n",
    "    # Quantidade de notas\n",
    "    n = len(lista)\n",
    "    \n",
    "    return soma, n, soma/n"
   ]
  },
  {
   "cell_type": "code",
   "execution_count": null,
   "metadata": {},
   "outputs": [],
   "source": [
    "soma_elementos, num_elementos, media = media_notas(lista_notas)"
   ]
  },
  {
   "cell_type": "markdown",
   "metadata": {},
   "source": [
    "## "
   ]
  },
  {
   "cell_type": "markdown",
   "metadata": {},
   "source": [
    "### Recursividade\n",
    "\n",
    "__Recursividade__ é quando uma função do _Python_ chama outra função dentro do desenvolvimento dela:"
   ]
  },
  {
   "cell_type": "code",
   "execution_count": 75,
   "metadata": {},
   "outputs": [],
   "source": [
    "def soma_notas(lista):\n",
    "    soma = 0\n",
    "    for nota in lista:\n",
    "        soma += nota\n",
    "    return soma\n",
    "\n",
    "def media(lista):\n",
    "    s = soma_notas(lista)\n",
    "    return s/len(lista)"
   ]
  },
  {
   "cell_type": "code",
   "execution_count": 77,
   "metadata": {},
   "outputs": [
    {
     "name": "stdout",
     "output_type": "stream",
     "text": [
      "7.0\n"
     ]
    }
   ],
   "source": [
    "print(media(lista_notas))"
   ]
  },
  {
   "cell_type": "markdown",
   "metadata": {},
   "source": [
    "Mas e se uma função referenciasse ela mesma? Isso também funciona, e chama-se **função recursiva**, ou **recursão**. \n",
    "\n",
    "A ideia vem da matemática. Vejamos um exemplo. Considere a função fatorial. O fatorial de um número n qualquer é igual ao produto entre n e todos os seus antecessores inteiros positivos: n! = n x (n-1) x (n-2) x ... x 2 x 1. \n",
    "\n",
    "Considere o fatorial de 5:\n",
    "5! = 5x**4x3x2x1**\n",
    "\n",
    "Pense agora no fatorial de 4:\n",
    "4! = 4x3x2x1\n",
    "\n",
    "Note que temos destacado em negrito a expressão completa do fatorial de 4 dentro do fatorial de 5. Então é possível reescrecer o fatorial de 5 em função do fatorial de 4:\n",
    "\n",
    "5! = 5x(4!)\n",
    "\n",
    "Porém, dentro do fatorial de 4, temos o fatorial de 3, e assim sucessivamente. Podemos generalizar da seguinte maneira:\n",
    "\n",
    "f(n) = \n",
    "* 1, se n = 1\n",
    "* n * f(n-1), se x > 1\n",
    "\n",
    "Ou seja, imagine que você queira calcular f(4). Como 4 > 1, teremos:\n",
    "f(4) = 4 * f(3)\n",
    "\n",
    "Precisamos expandir f(3):\n",
    "f(4) = 4 * (3 * f(2))\n",
    "\n",
    "E assim sucessivamente:\n",
    "f(4) = 4 * (3 * (2 * f(1)))\n",
    "\n",
    "Opa, f(1) nós conhecemos: está definido lá em cima como 1.\n",
    "Portanto:\n",
    "f(4) = 4 * 3 * 2 * 1\n",
    "f(4) = 24\n",
    "\n",
    "Note que nós decompomos um problema em várias instâncias \"menores\" do problema. Quebramos a formulação de uma multiplicação enorme por vários casos de n x f(n-1). Chamamos essa estratégia de _dividir para conquistar_, e ela envolve identificar 2 etapas bastante claras do problema:\n",
    "* Caso base: é um caso para o qual temos um valor conhecido (no exemplo acima, f(1) = 1)\n",
    "* Caso geral: é a chamada recursiva, onde faremos referência à própria função. \n",
    "\n",
    "Note também que esse comportamento tem o comportamento de _pilha_: se colocamos 3 pratos empilhados sobre a mesa, precisamos tirar primeiro o último que colocamos, certo? Caso contrário, a pilha toda tomba. No caso da recursão, para obter f(4) caímos em f(3), depois f(2), depois f(1), depois f(0) e foi para ele que obtivemos a primeira resposta, que em seguida usamos para calcular f(1), depois calcular f(2), depois f(3) e só então chegamos em f(4). O primeiro passo do problema foi o último a ser resolvido.\n",
    "\n",
    "Em Python, nossa função ficaria assim:"
   ]
  },
  {
   "cell_type": "code",
   "execution_count": 78,
   "metadata": {},
   "outputs": [],
   "source": [
    "def fatorial(n):\n",
    "    if n == 1:\n",
    "        return 1\n",
    "    else:\n",
    "        return n * fatorial (n-1)"
   ]
  },
  {
   "cell_type": "code",
   "execution_count": 80,
   "metadata": {},
   "outputs": [
    {
     "name": "stdout",
     "output_type": "stream",
     "text": [
      "2\n"
     ]
    }
   ],
   "source": [
    "print(fatorial(2))"
   ]
  },
  {
   "cell_type": "markdown",
   "metadata": {},
   "source": [
    "## "
   ]
  },
  {
   "cell_type": "markdown",
   "metadata": {
    "id": "6t7MOGVlwvSG"
   },
   "source": [
    "## Exercícios"
   ]
  },
  {
   "cell_type": "markdown",
   "metadata": {},
   "source": [
    "__1)__ Normalização de Dados, também conhecido na estatística como Z-Score, é quando temos uma distribuição de dados quaisquer em determinada escala e gostariamos de converter-los para uma distribuição com o comportamento de uma distrbuição Normal (também conhecida como Gaussiana).\n",
    "\n",
    "Para fazer a normalização dos dados devemos converte-los de acordo com a seguinte fórmula:\n",
    "\n",
    "$$ Z = \\frac{x - \\mu}{\\sigma} $$\n",
    "\n",
    "Onde $x$ é um dado da nossa distribuição, $\\mu$ é a média desta distribuição e $\\sigma$ é o desvio padrão da distribuição.\n",
    "\n",
    "Vamos dividir o exercício nos seguintes itens:"
   ]
  },
  {
   "cell_type": "markdown",
   "metadata": {},
   "source": [
    "__1.1)__ Desenvolva uma função para calcular a média e o desvio padrão para uma lista de tamanho qualquer (1 ponto)"
   ]
  },
  {
   "cell_type": "code",
   "execution_count": 1,
   "metadata": {},
   "outputs": [
    {
     "data": {
      "text/plain": [
       "(3.0, 1.4142135623730951)"
      ]
     },
     "execution_count": 1,
     "metadata": {},
     "output_type": "execute_result"
    }
   ],
   "source": [
    "def media_e_desvio(lista:list)->float:\n",
    "    media=sum(lista)/len(lista)\n",
    "    somaquad=0\n",
    "    for n in lista:\n",
    "        somaquad+=(n-media)**2\n",
    "        \n",
    "    dp=(somaquad/len(lista))**(1/2)\n",
    "    return media, dp\n",
    "    \n",
    "media_e_desvio([1,2,3,4,5])\n"
   ]
  },
  {
   "cell_type": "markdown",
   "metadata": {},
   "source": [
    "__1.2)__ Desenvolva uma função que faça a normalização segundo a formula do Z e retorne a lista de dados normalizados. (1 ponto)"
   ]
  },
  {
   "cell_type": "code",
   "execution_count": 4,
   "metadata": {},
   "outputs": [
    {
     "data": {
      "text/plain": [
       "[0.4081959811176985,\n",
       " -0.31214986791353444,\n",
       " 2.0890029621905755,\n",
       " -1.5127262829655894,\n",
       " -0.31214986791353444,\n",
       " 0.1680806981072875,\n",
       " -1.0324957169447675,\n",
       " 0.4081959811176985,\n",
       " -0.5522651509239455,\n",
       " 0.6483112641281095]"
      ]
     },
     "execution_count": 4,
     "metadata": {},
     "output_type": "execute_result"
    }
   ],
   "source": [
    "def Z_normal(lista:list)->list:\n",
    "    media=sum(lista)/len(lista)\n",
    "    somaquad=0\n",
    "    for n in lista:\n",
    "        somaquad+=(n-media)**2\n",
    "    dp=(somaquad/(len(lista)-1))**(1/2)\n",
    "    z=[]\n",
    "    for n in lista:\n",
    "        z.append((n-media)/dp)\n",
    "    return z\n",
    "    \n",
    "Z_normal([10,7,17,2,7,9,4,10,6,11])\n"
   ]
  },
  {
   "cell_type": "code",
   "execution_count": null,
   "metadata": {},
   "outputs": [],
   "source": [
    "# exemplo 1\n",
    "# Vetor = [10, 7, 17, 2, 7, 9, 4, 10, 6, 11]\n",
    "# Resultado = [0.4081959811176985,\n",
    "# -0.31214986791353444,\n",
    "# 2.0890029621905755,\n",
    "# -1.5127262829655894,\n",
    "# -0.31214986791353444,\n",
    "# 0.1680806981072875,\n",
    "# -1.0324957169447675,\n",
    "# 0.4081959811176985,\n",
    "# -0.5522651509239455,\n",
    "# 0.6483112641281095]"
   ]
  },
  {
   "cell_type": "code",
   "execution_count": null,
   "metadata": {},
   "outputs": [],
   "source": [
    "# exemplo 2\n",
    "# vetor = [3, 20, 14, 6, 4, 1]\n",
    "# resultado = [-0.675429033697874,\n",
    "# 1.6210296808748976,\n",
    "# 0.8105148404374488,\n",
    "# -0.2701716134791496,\n",
    "# -0.5403432269582992,\n",
    "# -0.9456006471770236]"
   ]
  },
  {
   "cell_type": "markdown",
   "metadata": {},
   "source": [
    "__2)__ O _MinMaxScaler_ é uma técnica de reescalonamento de um conjunto de dados parecida com a normalização ou no caso Z-score. A diferença é que ao invés de utilizar média e desvio padrão, utiliza-se os valores extremos (máximo e mínino), segundo a equação a seguir:\n",
    "\n",
    "$$ S = \\frac{x - min}{max - min} $$\n",
    "\n",
    "Onde X é um determinado elemento da lista, $min$ é o menor valor da lista e $max$ e o maior valor da lista.\n",
    "\n",
    "Desenvolva uma função que ao receber uma lista de dados quaisquer converta para a escala segundo o _MinMaxScaler_ (2 pontos)"
   ]
  },
  {
   "cell_type": "code",
   "execution_count": 5,
   "metadata": {},
   "outputs": [
    {
     "data": {
      "text/plain": [
       "[0.875, 0.375, 0.9375, 0.0, 0.125, 0.875, 1.0, 0.5, 0.625, 0.0]"
      ]
     },
     "execution_count": 5,
     "metadata": {},
     "output_type": "execute_result"
    }
   ],
   "source": [
    "def Min_Max(lista:list)->list:\n",
    "    S=[]\n",
    "    for n in lista:\n",
    "        s= (n-min(lista))/(max(lista) - min(lista))\n",
    "        S.append(s)\n",
    "    return S\n",
    "\n",
    "Min_Max([15,7,16,1,3,15,17,9,11,1])"
   ]
  },
  {
   "cell_type": "code",
   "execution_count": null,
   "metadata": {},
   "outputs": [],
   "source": [
    "# Exemplo 1:\n",
    "# Vetor = [15, 7, 16, 1, 3, 15, 17, 9, 11, 1]\n",
    "# Resultado = [0.875, 0.375, 0.9375, 0.0, 0.125, 0.875, 1.0, 0.5, 0.625, 0.0]\n",
    "\n",
    "# Exemplo 2:\n",
    "# Vetor = [15, 7, 16, 1, 3, 15, 17, 9, 11, 1]\n",
    "# Resultado = [0.0,\n",
    "# 1.0,\n",
    "# 0.9473684210526315,\n",
    "# 0.631578947368421,\n",
    "# 1.0,\n",
    "# 0.5789473684210527,\n",
    "# 0.42105263157894735,\n",
    "# 0.8947368421052632,\n",
    "# 0.7368421052631579,\n",
    "# 0.3157894736842105]"
   ]
  },
  {
   "cell_type": "markdown",
   "metadata": {},
   "source": [
    "__3)__ A regressão linear simples é uma ferramenta estatística onde dados um conjunto de dados x e y, o objetivo é encontrar a melhor equação de reta que descreve aquele conjunto de dados. Para aproximar  essa reta aos dados, pode-se seguir a equação abaixo para aproximar os coeficientes $\\beta_0$ e $\\beta_1$:\n",
    "\n",
    "<br>\n",
    "\n",
    "$$\n",
    "\\large\n",
    "\\begin{cases}\n",
    "\\hat{\\beta}_1=\\frac{\\sum_{i=1}^n (x_i- \\bar{x})(y_i - \\bar{y})}{\\sum_{i=1}^n (x_i - \\bar{x})^2} = \\frac{\\sigma_{xy}}{\\sigma_{xx}} = \\frac{covar(x, y)}{var(x)}\\\\\n",
    "\\hat{\\beta}_0= \\bar{y}-\\hat{\\beta_1}\\bar{x}\n",
    "\\end{cases}\n",
    "$$\n",
    "\n",
    "<br>\n",
    "\n",
    "Onde:\n",
    "- **Covariância** ou variância conjunta, que indica o grau de interdependência entre duas variáveis;\n",
    "- **Variância** é uam medida de o quão disperso está os dados, ou seja o quão distante está cada valor desse conjunto do valor médio;\n",
    "\n",
    "Desenvolva uma função `linear_regression` que recebe duas listas x e y e devolva os valores dos coeficientes $\\beta_0$ e $\\beta_1$ (2 pontos)"
   ]
  },
  {
   "cell_type": "code",
   "execution_count": 8,
   "metadata": {},
   "outputs": [
    {
     "data": {
      "text/plain": [
       "(0.2857142857142865, 1.2330827067669172)"
      ]
     },
     "execution_count": 8,
     "metadata": {},
     "output_type": "execute_result"
    }
   ],
   "source": [
    "def linear_regression(x:list, y:list):\n",
    "    media_x=sum(x)/len(x)\n",
    "    media_y=sum(y)/len(y)\n",
    "    soma_de_cima=0\n",
    "    soma_de_baixo=0\n",
    "    for xi,yi in zip(x,y):\n",
    "        soma_de_cima+=(xi-media_x)*(yi-media_y)\n",
    "        soma_de_baixo+=(xi-media_x)**2\n",
    "    b1=soma_de_cima/soma_de_baixo\n",
    "    b0=media_y - b1*media_x\n",
    "    \n",
    "    return b0,b1\n",
    "\n",
    "linear_regression([0,1,2,3,4,5,6,7,8,9,10,11,12,13,14,15,16,17,18,19],\n",
    "                  [-1,2.5,2,4.5,5,6.5,8,8.5,11,10.5,14,12.5,17,14.5,20,16.5,23,18.5,26,20.5])\n"
   ]
  },
  {
   "cell_type": "code",
   "execution_count": null,
   "metadata": {},
   "outputs": [],
   "source": [
    "# Exemplo 1\n",
    "# X = [ 0,  1,  2,  3,  4,  5,  6,  7,  8,  9, 10, 11, 12, 13, 14, 15, 16, 17, 18, 19]\n",
    "# y = [-1.,  2.5,  2.,  4.5,  5.,  6.5,  8.,  8.5, 11., 10.5, 14., 12.5, 17., 14.5, 20., 16.5, 23., 18.5, 26., 20.5]\n",
    "# b_0 = 0.2857142857142865\n",
    "# b_1 = 1.2330827067669172\n",
    "\n",
    "# Exemplo 2\n",
    "# X = [8, 9, 10, 3, 17, 19, 4, 8, 16, 10]\n",
    "# y = [14, 1, 16, 15, 15, 11, 18, 20, 15, 10]\n",
    "# b_0 = 15.190402476780186\n",
    "# b_1 = -0.1625386996904025"
   ]
  },
  {
   "cell_type": "markdown",
   "metadata": {},
   "source": [
    "Quando fala-se sobre métricas de posição, existem outras métricas além da média que ganham destaque, como por exemplo a __mediana__ e a __moda__\n",
    "\n",
    "__4.1)__ A **mediana** de uma variável é um número tal que há o mesmo número de observações maiores e menores do que ele, ocupando assim a **posição central** da série de observações.\n",
    "\n",
    "Assim, para calcularmos a mediana, basta **ordenarmos os dados, do menor pro maior**, e contar o que está no meio dos dados ordenados (se houver número par de dados, pega-se a média entre os dados que estão \"no meio\")\n",
    "\n",
    "- *Exemplo*\n",
    "\n",
    "i) 3,4,**7**,8,8 **mediana = 7**       (CASO ÍMPAR)\n",
    "\n",
    "ii) 3,4,**7**,**8**,8,9 **mediana = (7+8)/2 = 7,5**   (CASO PAR)\n",
    "\n",
    "<br>\n",
    "\n",
    "Logo, podemos definir: \n",
    "\n",
    "- Mediana de $X = X_{\\frac{n+1}{2}}$ `Se tamanho da amostra ímpar`\n",
    "\n",
    "\n",
    "- Mediana de $X = \\frac{X_{\\frac{n}{2}}+ X_{\\frac{n+1}{2}}}{2}$ `Se tamanho da amostra par`\n",
    "\n",
    "Desenvolva uma função que receba uma lista de tamanho qualquer e devolva o valor da mediana (1 ponto)"
   ]
  },
  {
   "cell_type": "code",
   "execution_count": 10,
   "metadata": {},
   "outputs": [
    {
     "data": {
      "text/plain": [
       "8.5"
      ]
     },
     "execution_count": 10,
     "metadata": {},
     "output_type": "execute_result"
    }
   ],
   "source": [
    "\n",
    "def mediana(x:list):\n",
    "    n=len(x)\n",
    "    x.sort()\n",
    "    if n == 1:\n",
    "        mediana=x[0]\n",
    "    elif n%2 !=0:\n",
    "        mediana= x[n//2]\n",
    "    else:\n",
    "        mediana= (x[n//2 -1] + x[(n//2)])/2\n",
    "       \n",
    "    return mediana\n",
    "        \n",
    "        \n",
    "\n",
    "mediana([15,3,14,8,16,3,7,9,17,1])"
   ]
  },
  {
   "cell_type": "code",
   "execution_count": null,
   "metadata": {},
   "outputs": [],
   "source": [
    "# Exemplo 1\n",
    "# Vetor = [15, 3, 14, 8, 16, 3, 7, 9, 17, 1]\n",
    "# mediana = 8.5\n",
    "\n",
    "# exemplo 2\n",
    "# Vetor = [12, 5, 1, 16, 2, 19, 15, 18, 13, 2, 6]\n",
    "# mediana = 12"
   ]
  },
  {
   "cell_type": "markdown",
   "metadata": {},
   "source": [
    "__4.2)__ A **moda** é o valor que ocorre com **maior frequencia** em um conjunto de dados. Dependendo do conjunto de dados, ele pode ser:\n",
    "\n",
    "- Sem moda: quando nenhum valor se repete \n",
    "\n",
    "- unimodal: Quando existe apenas um valor repetido com maior frequência \n",
    "\n",
    "- multimodal: quando existem mais de um valor com a mesma frequência máxima\n",
    "\n",
    "Desenvolva uma função que receba uma lista de tamanho qualquer e devolva o valor da primeira moda, caso haja uma (1 ponto)"
   ]
  },
  {
   "cell_type": "code",
   "execution_count": 11,
   "metadata": {},
   "outputs": [
    {
     "data": {
      "text/plain": [
       "4"
      ]
     },
     "execution_count": 11,
     "metadata": {},
     "output_type": "execute_result"
    }
   ],
   "source": [
    "def moda(x:list):\n",
    "    x.sort()\n",
    "#Criar lista de coisas a se verificar o count()\n",
    "    lista_resumida =[]\n",
    "    contagem=[]\n",
    "    multimoda=[]\n",
    "    for i in x:\n",
    "        if i not in lista_resumida:\n",
    "            lista_resumida.append(i)\n",
    "    lista_resumida.sort()\n",
    "#Contar cada item\n",
    "    for valor in lista_resumida:\n",
    "        contagem.append(x.count(valor))\n",
    "    \n",
    "#CASO SEM MODA\n",
    "#Se não houver moda, interromper o programa\n",
    "    if max(contagem)<=1:\n",
    "        return None\n",
    "\n",
    "#CASO MULTIMODAL     \n",
    "#Se houver moda, verificar se existe mais de uma\n",
    "    elif contagem.count(max(contagem))>1:\n",
    "        #Se sim, cada moda será armazenada e retornada\n",
    "        for valor in lista_resumida:\n",
    "            if x.count(valor)==max(contagem):\n",
    "                multimoda.append(valor)\n",
    "        if len(multimoda)>1:\n",
    "            return multimoda\n",
    "#CASO UNIMODAL    \n",
    "    if contagem.count(max(contagem))==1:\n",
    "        for valor in lista_resumida:\n",
    "            if (x.count(valor))== max(contagem):\n",
    "                return valor\n",
    "            \n",
    "moda([5,4,3,4,20,17,5,14,13,18,4,1])\n",
    "           \n",
    "        \n",
    "        \n",
    "    "
   ]
  },
  {
   "cell_type": "code",
   "execution_count": 12,
   "metadata": {},
   "outputs": [
    {
     "data": {
      "text/plain": [
       "[3, 19]"
      ]
     },
     "execution_count": 12,
     "metadata": {},
     "output_type": "execute_result"
    }
   ],
   "source": [
    "# Exemplo 1\n",
    "# Vetor = [5, 4, 3, 4, 20, 17, 5, 14, 13, 18, 4, 1]\n",
    "# Moda = 4\n",
    "\n",
    "moda([18, 7, 1, 19, 3, 3, 19, 14, 11, 20, 6, 2])\n",
    "\n",
    "# Exemplo 2\n",
    "# Vetor = [18, 7, 1, 19, 3, 3, 19, 14, 11, 20, 6, 2]\n",
    "# Moda = 3 (e 19)"
   ]
  },
  {
   "cell_type": "markdown",
   "metadata": {},
   "source": [
    "__5)__ Vamos repetir o exercício da distância euclidiana mas agora para o caso de um vetor n dimensional. Ou seja, dados os pontos A e B, temos que:\n",
    "\n",
    "<br>\n",
    "\n",
    "$$ d = \\sqrt{(x_{1,A} - x_{1,B})^2 + (x_{2,A} - x_{2,B})^2 + (x_{3,A} - x_{3,B})^2 + ... + (x_{n,A} - x_{n,B})^2}$$\n",
    "\n",
    "<br>\n",
    "\n",
    "Então dada a equação da distância euclidiana n-dimensional, desenvolva uma função que receba dois vetores distintos A e B com a mesma quantidade de elementos e calcule a distância euclidiana entre eles (2 pontos)"
   ]
  },
  {
   "cell_type": "code",
   "execution_count": 14,
   "metadata": {},
   "outputs": [
    {
     "data": {
      "text/plain": [
       "37.815340802378074"
      ]
     },
     "execution_count": 14,
     "metadata": {},
     "output_type": "execute_result"
    }
   ],
   "source": [
    "def dist_euclidiana(a: list, b: list):\n",
    "    \"\"\"Recebe dois vetores e retorna a distância euclidiana\"\"\"\n",
    "    soma=0\n",
    "    for ai,bi in zip(a,b):\n",
    "        soma+=(ai-bi)**2\n",
    "    return (soma**(1/2))\n",
    "\n",
    "vetor1=[1, 11, 20, 18, 16, 3, 5, 5, 18, 3, 18, 13]\n",
    "vetor2=[15, 3, 1, 19, 14, 14, 3, 20, 19, 17, 2, 12]\n",
    "dist_euclidiana(vetor1, vetor2)"
   ]
  },
  {
   "cell_type": "code",
   "execution_count": null,
   "metadata": {},
   "outputs": [],
   "source": [
    "# Exemplo 1\n",
    "# lista A = [1, 11, 20, 18, 16, 3, 5, 5, 18, 3, 18, 13]\n",
    "# Lista B = [15, 3, 1, 19, 14, 14, 3, 20, 19, 17, 2, 12]\n",
    "# d = 37.815340802378074\n",
    "\n",
    "# Exemplo 2\n",
    "# lista A = [17, 11, 18, 20, 17, 13, 3, 19, 17, 16, 15, 15, 6, 17, 12, 8, 18, 15, 5, 10]\n",
    "# Lista B = [10, 4, 10, 13, 6, 7, 2, 15, 15, 10, 10, 2, 3, 18, 1, 16, 16, 1, 5, 3]\n",
    "# d = 32.60368077380221"
   ]
  },
  {
   "cell_type": "code",
   "execution_count": null,
   "metadata": {},
   "outputs": [],
   "source": []
  }
 ],
 "metadata": {
  "colab": {
   "collapsed_sections": [
    "lJZFySIgtmBr",
    "hNe7Z9KMtuFG",
    "k-apXhuvuHtX",
    "dDIr4hJ8uOi0",
    "7HI0YooWu6xm",
    "0K_xNqefu87X",
    "QNPNw5nwvrmh",
    "msYqsmkgwXg0"
   ],
   "provenance": []
  },
  "kernelspec": {
   "display_name": "Python 3 (ipykernel)",
   "language": "python",
   "name": "python3"
  },
  "language_info": {
   "codemirror_mode": {
    "name": "ipython",
    "version": 3
   },
   "file_extension": ".py",
   "mimetype": "text/x-python",
   "name": "python",
   "nbconvert_exporter": "python",
   "pygments_lexer": "ipython3",
   "version": "3.9.12"
  }
 },
 "nbformat": 4,
 "nbformat_minor": 1
}
