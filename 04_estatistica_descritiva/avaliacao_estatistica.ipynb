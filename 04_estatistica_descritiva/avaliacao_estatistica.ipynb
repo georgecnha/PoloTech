{
 "cells": [
  {
   "cell_type": "markdown",
   "id": "4afe0a44",
   "metadata": {},
   "source": [
    "# 1\n",
    "\n",
    "**Enunciado**\n",
    "\n",
    "Identifique nas alternativas abaixo, a opção que contenha apenas métricas de posição:\n",
    "\n",
    "\n",
    "Alternativas: \n",
    "\n",
    "- [ ] média, desvio padrão\n",
    "\n",
    "- [ ] desvio padrão, variância\n",
    "\n",
    "- [X] mediana, moda\n",
    "\n",
    "- [ ] variância, mediana\n",
    "\n",
    "- [ ] média, correlação de Pearson\n",
    "\n"
   ]
  },
  {
   "cell_type": "markdown",
   "id": "9b7d8a2f",
   "metadata": {},
   "source": [
    "# 2\n",
    "\n",
    "**Enunciado**\n",
    "\n",
    "Dado o boxplot conforme a figura abaixo:\n",
    "![figura](boxplot.webp)\n",
    "\n",
    "\n",
    "Alternativas\n",
    "- [ ] $Q1 + 1.5(Q3 - Q1)$, $Q3 - 1.5(Q3 - Q1)$\n",
    "\n",
    "- [ ] $Q3 + 1(Q3 - Q1)$, $Q1 - 1(Q3 - Q1)$\n",
    "\n",
    "- [ ] $Q3 - 1.5(Q3 - Q1)$, $Q1 + 1.5(Q3 - Q1)$\n",
    "\n",
    "- [X] $Q3 + 1.5(Q3 - Q1)$, $Q1 - 1.5(Q3 - Q1)$\n",
    "\n",
    "- [ ] $1.5Q3 + (Q3 - Q1)$, $1.5Q1 - (Q3 - Q1)$"
   ]
  },
  {
   "cell_type": "markdown",
   "id": "80ac749c",
   "metadata": {},
   "source": [
    "# 3\n",
    "\n",
    "\n",
    "**Enunciado**\n",
    "\n",
    "Rafael queria levar dinheiro na escola para comprar balas, mas sua mãe só deixou que ele levasse duas moedas para a escola. Sabendo que dentro do cofre do Rafael, temos as seguintes moedas:\n",
    "\n",
    "- 10 centavos = 5 moedas\n",
    "- 25 centavos = 3 moedas\n",
    "- 50 centavos = 10 moedas\n",
    "- 01 real = 2 moedas\n",
    "\n",
    "Qual a probabilidade de Rafael retirar respectivamente uma moeda de 1 real e uma moeda de 25 centavos?"
   ]
  },
  {
   "cell_type": "markdown",
   "id": "08d100c8",
   "metadata": {},
   "source": [
    "Solução\n",
    "\n",
    "$P(E) =\\dfrac{ n(E)}{n(S)}$\n",
    "\n",
    "\n",
    "|Coleta 1| Coleta 2|\n",
    "|-|-|\n",
    "|1 real| 25 cents|"
   ]
  },
  {
   "cell_type": "code",
   "execution_count": 1,
   "id": "535fec29",
   "metadata": {},
   "outputs": [
    {
     "name": "stdout",
     "output_type": "stream",
     "text": [
      "1.6\n"
     ]
    }
   ],
   "source": [
    "total = 5 + 3 + 10 + 2\n",
    "p1r = 2/total\n",
    "p25c = 3/(total-1)\n",
    "\n",
    "\n",
    "#Eventos independentes\n",
    "p_e = p1r * p25c \n",
    "\n",
    "print(round((p_e * 100),1))"
   ]
  },
  {
   "cell_type": "markdown",
   "id": "a68337e9",
   "metadata": {},
   "source": [
    "# 4\n",
    "\n",
    "**Enunciado**\n",
    "\n",
    "\n",
    "Em uma filial de um banco, 40% dos clientes que vão ao caixa eletrônico sacam dinheiro do caixa. Utilizando de uma distribuição binomial, qual é a probabilidade de no máximo 12 clientes sacarem dinheiro em um dia que tivemos 30 clientes no caixa eletrônico?"
   ]
  },
  {
   "cell_type": "markdown",
   "id": "4a9e50a2",
   "metadata": {},
   "source": [
    "**Solução**\n",
    "\n",
    "$p = 0,4$\n",
    "\n",
    "$n = 30 $\n",
    "\n",
    "$P (x \\leq 12) =  P(x = 0) + P(x=1) + P(x=2) + ... + P(x=12)$\n",
    "\n",
    "$ P(x = 0) + P(x=1) + P(x=2) + ... + P(x=12) = $\n",
    "\n",
    "\n",
    "$$ P(X = k) = \\binom{n}{k}p^{k}(1-p)^{(n-k)} = \\frac{n!}{k!(n - k)!}p^{k}(1-p)^{(n-k)}$$\n",
    "\n",
    "\n",
    "\n",
    "\n"
   ]
  },
  {
   "cell_type": "code",
   "execution_count": 2,
   "id": "4071df60",
   "metadata": {},
   "outputs": [
    {
     "name": "stdout",
     "output_type": "stream",
     "text": [
      "57.8 %\n"
     ]
    }
   ],
   "source": [
    "from math import factorial\n",
    "import numpy as np\n",
    "\n",
    "def binomial(n, p, k):\n",
    "    C = (factorial(n) / (factorial(n - k) * factorial(k)))\n",
    "    return C * np.power(p, k) * np.power(1 - p, n - k)\n",
    "\n",
    "\n",
    "P = 0\n",
    "\n",
    "for i in range (0,13):\n",
    "    P += binomial(30,0.4,i)\n",
    "\n",
    "print(round(P*100,1),\"%\")"
   ]
  },
  {
   "cell_type": "markdown",
   "id": "367446c9",
   "metadata": {},
   "source": [
    "# 5\n",
    "\n",
    "**Enunciado**\n",
    "\n",
    "Em um centro de distribuição logístico da Amazon, chegam cerca de 1.440 produtos por dia. Sabendo que segue uma distribuição de Poisson, qual a probabilidade de que em um minuto cheguem 3 produtos?"
   ]
  },
  {
   "cell_type": "markdown",
   "id": "ff5ff2e2",
   "metadata": {},
   "source": [
    "**Solução**\n",
    "\n",
    "1 dia = 24 h * 60 min/h = 1440 min \n",
    "\n",
    "Regra de três pra saber o lambda:\n",
    "\n",
    "1440 produtos ------ 1440 min\n",
    "<br>\n",
    "$\\lambda$ ---------------1 min\n",
    "\n",
    "\n",
    "$\\lambda = 1 $\n",
    "\n",
    "\n",
    "$ P(X = k) = \\dfrac{e^{-\\lambda}\\lambda^{k}}{k!} $\n",
    "\n",
    "$ P(x = 3) = \\dfrac{e^{-1}1^{3}}{3!} \\approx 0,061$"
   ]
  },
  {
   "cell_type": "code",
   "execution_count": 3,
   "id": "4c5eb38d",
   "metadata": {},
   "outputs": [
    {
     "name": "stdout",
     "output_type": "stream",
     "text": [
      "P(k = 0) =  6.1 %\n"
     ]
    }
   ],
   "source": [
    "def Poisson(lbd, k):\n",
    "    return np.exp(-lbd) * (lbd**k) / factorial(k)\n",
    "\n",
    "lbd = 1 # 300 chamadas / 60 minutos = 5 chamadas por minuto\n",
    "\n",
    "# frequência procurada\n",
    "k = 3\n",
    "\n",
    "# print do resultado:\n",
    "print(\"P(k = 0) = \", round(Poisson(lbd,k)*100,1), '%')"
   ]
  },
  {
   "cell_type": "markdown",
   "id": "9e3d4a48",
   "metadata": {},
   "source": [
    "# 6 \n",
    "\n",
    "**Enunciado**\n",
    "\n",
    "Suponha que 60% das mulheres que compram kits de gravidez instantâneos estejam, de fato, grávidas. Para um kit de uma marca específica, se a mulher estiver grávida, o teste fornecerá resultado positivo 96% das vezes e negativo 4% das vezes (um “falso negativo\"). Se ela não estiver grávida, o teste resultará positivo em 1% das vezes (um “falso positivo”) e negativo 99% das vezes . Suponha que um teste resulte positivo. Qual a probabilidade de que a mulher esteja realmente grávida?"
   ]
  },
  {
   "cell_type": "markdown",
   "id": "ba124b03",
   "metadata": {},
   "source": [
    "**Solução**\n",
    "\n",
    "Resolve-se com teorema de Bayes:\n",
    "\n",
    "$P(G|Pos)$ – probabilidade de grávida e o teste ter dado positivo\n",
    "\n",
    "$P(Pos|G)$ – probabilidade de o teste ter dado positivo e estar grávida\n",
    "\n",
    "$P(G)$ – probabilidade de estar grávida\n",
    "\n",
    "\n",
    "$P(G|Pos) = \\dfrac{P(G)P(Pos|G)}{P(G)P(Pos|G) + P(G')P(Pos|G')}$\n",
    "\n",
    "\n",
    "$P(G|Pos) = \\dfrac{0,6 * 0,96}{0,6 * 0,96 + 0,4*0,01} \\approx 0,99931034482 $\n",
    "\n",
    "\n"
   ]
  },
  {
   "cell_type": "code",
   "execution_count": 4,
   "id": "c9478f83",
   "metadata": {},
   "outputs": [
    {
     "name": "stdout",
     "output_type": "stream",
     "text": [
      "99.3 %\n"
     ]
    }
   ],
   "source": [
    "pg_pos = ((0.6*0.96)/((0.6*0.96) + (0.4*0.01)))\n",
    "\n",
    "print(round(pg_pos*100,1),'%')"
   ]
  },
  {
   "cell_type": "markdown",
   "id": "b29ecc2f",
   "metadata": {},
   "source": [
    " # 7 \n",
    "\n",
    "**Enunciado**\n",
    "\n",
    "Uma máquina de sorvete está regulada de modo a servir uma média de 80g por casquinha. Se a quantidade servida por casquinha seguir uma distribuição normal com desvio padrão de 8g, qual a porcentagem de casquinhas que conterão mais de 90g de sorvete?"
   ]
  },
  {
   "cell_type": "markdown",
   "id": "0d69e9ea",
   "metadata": {},
   "source": [
    "**Solução**\n",
    "\n",
    "$\\mu = 80 g$\n",
    "\n",
    "$\\sigma = 8g$\n",
    "\n",
    "$X = 90 g$\n",
    "\n"
   ]
  },
  {
   "cell_type": "markdown",
   "id": "922359d8",
   "metadata": {},
   "source": [
    "**Solução**\n",
    "\n",
    "$\n",
    "P(X \\geq 90) = P\\left( \\frac{X-\\mu}{\\sigma}\\geq \\frac{90-\\mu}{\\sigma}\\right) = P\\left( Z \\geq \\frac{90-\\mu}{\\sigma}\\right) = 1 - P\\left( Z < \\frac{90-\\mu}{\\sigma}\\right)\n",
    "$\n",
    "\n",
    "\n",
    "$ P(X \\geq 90)= 1 - P\\left( Z < \\frac{90-\\mu}{\\sigma}\\right)$\n",
    "\n",
    "$P(X \\geq 90)= 1 - P\\left( Z < \\frac{90-80}{8}\\right) = 1 - P(1,25) $"
   ]
  },
  {
   "cell_type": "code",
   "execution_count": 5,
   "id": "c4ed5ff2",
   "metadata": {},
   "outputs": [
    {
     "name": "stdout",
     "output_type": "stream",
     "text": [
      "10.6 %\n"
     ]
    }
   ],
   "source": [
    "import scipy.stats as st\n",
    "\n",
    "z = 1.25\n",
    "\n",
    "px90 = (1-st.norm.cdf(z))\n",
    "\n",
    "print(round(px90*100,1),\"%\")"
   ]
  },
  {
   "cell_type": "markdown",
   "id": "19d4032a",
   "metadata": {},
   "source": [
    "# 8 \n",
    "\n",
    "**Enunciado**\n",
    "\n",
    "O tempo para fabricar um perfume em uma empresa é descrito por uma variável aleatória X, medida em horas, com distribuição normal de média $\\mu = 7$ e desvio padrão $\\sigma = 2$. Qual a probabilidade de que um perfume será finalizado entre 4 e 11 horas?"
   ]
  },
  {
   "cell_type": "markdown",
   "id": "c9e53494",
   "metadata": {},
   "source": [
    "$\n",
    "P(4 \\leq X \\leq 11) = P\\left(\\frac{4-\\mu}{\\sigma} \\leq \\frac{X-\\mu}{\\sigma} \\leq \\frac{11-\\mu}{\\sigma}\\right)\n",
    "= P\\left(Z \\leq \\frac{11-\\mu}{\\sigma}\\right)-P\\left( Z \\leq \\frac{4-\\mu}{\\sigma}\\right)\n",
    "$\n",
    "\n",
    "$P(4 \\leq X \\leq 11) =  P\\left(Z \\leq \\frac{11-7}{2}\\right)-P\\left( Z \\leq \\frac{4-7}{2}\\right)$\n",
    "\n",
    "$P(4 \\leq X \\leq 11) =  P\\left(Z \\leq 2\\right)-P\\left( Z \\leq -1,25\\right)$"
   ]
  },
  {
   "cell_type": "code",
   "execution_count": 6,
   "id": "d74cec99",
   "metadata": {},
   "outputs": [
    {
     "name": "stdout",
     "output_type": "stream",
     "text": [
      "91.0 %\n"
     ]
    }
   ],
   "source": [
    "media = 7\n",
    "dp = 2\n",
    "\n",
    "#Calculando Z1 e Z2\n",
    "z1 = (4-media)/dp\n",
    "z2 = (11-media)/dp\n",
    "\n",
    "\n",
    "p4z11 =  (st.norm.cdf(z2)-st.norm.cdf(z1))\n",
    "\n",
    "print(round(p4z11*100,1), \"%\")"
   ]
  },
  {
   "cell_type": "code",
   "execution_count": 7,
   "id": "5c62dabd",
   "metadata": {},
   "outputs": [
    {
     "name": "stdout",
     "output_type": "stream",
     "text": [
      "91.0 %\n"
     ]
    }
   ],
   "source": [
    "# Outra possível solução, tirando mais proveito do python\n",
    "media = 7\n",
    "dp = 2\n",
    "x1 = 4\n",
    "x2 = 11\n",
    "p4z11 =  (st.norm.cdf(11,media,dp)-st.norm.cdf(4,media,dp))\n",
    "print(round(p4z11*100,1), \"%\")"
   ]
  },
  {
   "cell_type": "code",
   "execution_count": 8,
   "id": "1642582a",
   "metadata": {},
   "outputs": [
    {
     "name": "stdout",
     "output_type": "stream",
     "text": [
      "91.0 %\n"
     ]
    }
   ],
   "source": [
    "# Ainda outra solução, mas com a biblioteca statistics\n",
    "from statistics import NormalDist as nd\n",
    "\n",
    "mu=7\n",
    "sigma=2\n",
    "x2 = 11\n",
    "x1 = 4\n",
    "prob= nd(mu, sigma).cdf(x2) -nd(mu, sigma).cdf(x1)\n",
    "\n",
    "print(round(prob*100,1),\"%\")\n"
   ]
  },
  {
   "cell_type": "markdown",
   "id": "5364fd42",
   "metadata": {},
   "source": [
    "# 9 \n",
    "\n",
    "**Enunciado**\n",
    "\n",
    "Dados os tipos de amostragem e as definições dos mesmos, assinale a alternativa que indique cada tipo de amostragem com a respectiva definição:\n",
    "\n",
    "Tipos de Amostragem:\n",
    "\n",
    "1 - Amostragem Aleatória Simples\n",
    "\n",
    "2 - Amostragem Estratificada\n",
    "\n",
    "3 - Amostragem por Conglomerado\n",
    "\n",
    "Definições:\n",
    "\n",
    "I - Método de amostragem onde a população é dividida em grupos (estratos) segundo algumas características conhecidas sobre a população em estudo;\n",
    "\n",
    "II - Método de amostragem que divide em subpopulações (conglomerados), onde escolhem aleatóriamente por amostragem simples as subpopulações e todos os elementos de uma subpopulação irão fazer parte da amostra;\n",
    "\n",
    "III - Método de amostragem mais simples onde serão escolhidos aleatoriamente elementos com ou sem reposição."
   ]
  },
  {
   "cell_type": "markdown",
   "id": "7ef6144f",
   "metadata": {},
   "source": [
    "Alternativas\n",
    "\n",
    "- [ ] 1-II, 2-I, 3-III\n",
    "\n",
    "- [ ] 1-II, 2-III, 3-I\n",
    "\n",
    "- [X] 1-III, 2-I, 3-II\n",
    "\n",
    "- [ ] 1-I, 2-II, 3-III\n",
    "\n",
    "- [ ] 1-III, 2-II, 3-I"
   ]
  },
  {
   "cell_type": "markdown",
   "id": "6e655366",
   "metadata": {},
   "source": [
    "# 10 \n",
    "\n",
    "**Enunciado**\n",
    "\n",
    "Um fabricante de refrigerante anunciou que o índice de cafeína do seu refrigerante de cola não é maior do que 35mg por lata. Um laboratório realizou 20 análises do índice de cafeína obtendo os resultados (37, 34, 36, 37, 35, 32, 30, 35, 34, 36, 39, 38, 34, 35, 31, 30, 33, 35, 36, 31). Sabe-se que o índice de cafeína do refrigerante de cola dessa marca se distribui normalmente com variância igual a 4. Qual é, respectivamente, a conclusão do teste e o valor crítico para este teste com nível de significância de 5%? Utilize a suposição de que queremos identificar se a média de cafeína, caso não seja 35mg, seja maior que esse valor (caso unicaudal do teste). Obs.: não utilize a função ztest ou t.\n",
    "\n",
    "Alternativas\n",
    "\n",
    "- [x] Não Rejeita H0, X_critico = 34,40 mg\n",
    "\n",
    "- [ ] Rejeita H0, X_critico = 34,40 mg\n",
    "\n",
    "- [ ] Não Rejeita H0, X_critico = 35,74 mg\n",
    "\n",
    "- [ ] Rejeita H0, X_critico = 35,74 mg"
   ]
  },
  {
   "cell_type": "markdown",
   "id": "077c3e2a",
   "metadata": {},
   "source": [
    "**Solução**\n",
    "\n",
    "\n",
    "Teremos um teste de hipótese para uma distribuição que seguem o comportamento de uma distribuição normal, onde as hipóteses a serem testadas são:\n",
    "\n",
    "$H_0: \\mu = 35$<br>\n",
    "$H_1: \\mu > 35$"
   ]
  },
  {
   "cell_type": "code",
   "execution_count": 9,
   "id": "78b6257a",
   "metadata": {},
   "outputs": [
    {
     "name": "stdout",
     "output_type": "stream",
     "text": [
      "Xc= 35.73172930009816   Xobs =  34.4\n",
      "Aceitamos H0\n"
     ]
    }
   ],
   "source": [
    "# Import das libs\n",
    "import numpy as np\n",
    "\n",
    "# Define uma semente aleatória\n",
    "np.random.seed(0)\n",
    "\n",
    "# Define os parâmetros\n",
    "mu = 35    # hipotese a ser testada\n",
    "sigma = 2  # desvio padrao populacional\n",
    "n = 20     # tamanho da amostra\n",
    "Ns = 10000  # numero de simulacoes\n",
    "Xm=[]      # distribuicao da media amostral\n",
    "\n",
    "# loop para gerar diversas amostras para o nosso teste\n",
    "for s in range(1, Ns):\n",
    "    x = np.random.normal(mu, sigma, n) # sorteia uma amostra de tamanho n\n",
    "    Xm.append(np.mean(x))\n",
    "\n",
    "\n",
    "# Amostra\n",
    "X = [37, 34, 36, 37, 35, 32, 30, 35, 34, 36, 39, 38, 34, 35, 31, 30, 33, 35, 36, 31]\n",
    "\n",
    "# Média Amostra\n",
    "xobs = np.mean(X)\n",
    "\n",
    "# Intervalo de confiança\n",
    "alpha = 95\n",
    "\n",
    "# Valor Crítico\n",
    "xc = np.percentile(Xm, alpha)\n",
    "print('Xc=', xc, '  Xobs = ', xobs)\n",
    "\n",
    "# Verifica se aceita ou rejeita H0\n",
    "if(xobs < xc):\n",
    "    print(\"Aceitamos H0\")\n",
    "else:\n",
    "    print(\"Rejeitamos H0\")\n"
   ]
  },
  {
   "cell_type": "markdown",
   "id": "30a0deea",
   "metadata": {},
   "source": [
    "# 11\n",
    "\n",
    "**Enunciado**\n",
    "\n",
    "Para que uma série temporal seja considerada estacionária ou parcialmente estacionária, qual das alternativas abaixo deve ser verdadeira?\n",
    "\n",
    "Alternativas\n",
    "- [X] Média e Variância constante\n",
    "\n",
    "- [ ] Nenhuma das anteriores\n",
    "\n",
    "- [ ] Média constante\n",
    "\n",
    "- [ ] Variância constante"
   ]
  },
  {
   "cell_type": "markdown",
   "id": "f188c8a5",
   "metadata": {},
   "source": [
    "# 12 \n",
    "\n",
    "**Enunciado**\n",
    "\n",
    "Escolha nas alternativas abaixo, qual é a componente de uma série temporal identificada como qualquer alteração irregular e inexplicável?\n",
    "\n",
    "Alternativas\n",
    "\n",
    "- [ ] Ciclos\n",
    "\n",
    "- [ ] Sazonalidade\n",
    "\n",
    "- [ ] Tendência\n",
    "\n",
    "- [X] Ruído Aleatório"
   ]
  }
 ],
 "metadata": {
  "kernelspec": {
   "display_name": "Python 3 (ipykernel)",
   "language": "python",
   "name": "python3"
  },
  "language_info": {
   "codemirror_mode": {
    "name": "ipython",
    "version": 3
   },
   "file_extension": ".py",
   "mimetype": "text/x-python",
   "name": "python",
   "nbconvert_exporter": "python",
   "pygments_lexer": "ipython3",
   "version": "3.9.16"
  }
 },
 "nbformat": 4,
 "nbformat_minor": 5
}
