{
 "cells": [
  {
   "cell_type": "markdown",
   "metadata": {
    "id": "xM6t4yKfJNcU"
   },
   "source": [
    "# Análise das médias de carros brasileiros de 2022 - Tabela FIPE\n",
    "\n",
    "---\n",
    "\n",
    "Autores: \n",
    "  - George Pontes da Cunha\n",
    "  - João Estevan Leoncio da Silva Barbosa\n",
    "  - Matheus Keoma Steinbach\n",
    "  - Vitor Fernando de Souza Rodrigues\n",
    "  - Willian Wallace Ribeiro Alves da Silva\n",
    "\n",
    "e-mails / github: \n",
    "  - george.pontes02@gmail.com / https://github.com/georgecnha\n",
    "  - jestevan12@gmail.com / https://github.com/joaoestevanbarbosa\n",
    "  - keoma.steinbach@gmail.com / https://github.com/matheuskeomas\n",
    "  - vitorfbaiano@gmail.com / https://github.com/VitorFRodrigues/\n",
    "  - willianwra09@gmail.com / https://github.com/willianwrasilva\n",
    "\n",
    "---"
   ]
  },
  {
   "cell_type": "markdown",
   "metadata": {
    "id": "1ZtSgljsJVUV"
   },
   "source": [
    "## 1.Introdução\n",
    "\n",
    "Nos últimos anos a Pandemia tem ocasionado grandes estragos em escala global. Seja nas mais diversas áreas, o ser humano passou por grandes adaptações. No setor econômico não foi diferente, grandes cadeias de fornecimento foram paralizadas por um tempo o que acabou ocasionando atrasos e custos inevitáveis.\n",
    "\n",
    "Atualmente ainda estamos sentindo dos reflexos nos preços dos itens básicos e voláteis e o mesmo aconteceu com o custo dos veículos. A cadeia de produção de matéria prima como aço e semicondutores (*chips*) tem elevado o custo final os veículos.\n",
    "\n",
    "Neste trabalho, vamos analisar o custo dos veículos de acordo com a tabela [FIPE](https://veiculos.fipe.org.br/). Os dados foram retirados semi tratados do [kaggle](https://https://www.kaggle.com/datasets/vagnerbessa/average-car-prices-bazil)."
   ]
  },
  {
   "cell_type": "markdown",
   "metadata": {
    "id": "Famh5plSKjet"
   },
   "source": [
    "## 2.Objetivos\n",
    "\n",
    "### 2.1.Objetivo Geral\n",
    "\n",
    "Como objetivo geral, temos a intenção de criar um algoritmo de machine learning (ML) para utilizar das informações dos veículos levantados pela tabela para prever custos de outros.\n",
    "\n",
    "### 2.2.Objetivos Específicos\n",
    "\n",
    "- Realizar preparação e limpeza dos dados;\n",
    "- Fazer uma análise exploratória;\n",
    "- Aplicar função de correlação em busca de features úteis para o algoritmo;\n",
    "- Criar dois pipelines com algoritmos de ML e realizar comparações entre estes.\n"
   ]
  },
  {
   "cell_type": "markdown",
   "metadata": {
    "id": "HLMSagd6Kufz"
   },
   "source": [
    "## 3.Preparação e Limpeza dos Dados\n",
    "\n",
    "Vamos iniciar importando as bibliotecas e os dados que serão utilizados para esta seção."
   ]
  },
  {
   "cell_type": "code",
   "execution_count": 74,
   "metadata": {
    "id": "NfaHgCKxP8W0"
   },
   "outputs": [],
   "source": [
    "import pandas as pd\n",
    "import numpy as np\n",
    "import matplotlib.pyplot as plt\n",
    "import seaborn as sns\n",
    "\n",
    "# Remoção de warnings que possam aparecer durante execução do Notebook\n",
    "import warnings\n",
    "warnings.filterwarnings('ignore')"
   ]
  },
  {
   "cell_type": "code",
   "execution_count": 75,
   "metadata": {
    "colab": {
     "base_uri": "https://localhost:8080/",
     "height": 357
    },
    "id": "8Jjr2-hLQCrj",
    "outputId": "74edf34d-02fe-4dff-df28-d6f0368d6c87"
   },
   "outputs": [
    {
     "data": {
      "text/html": [
       "<div>\n",
       "<style scoped>\n",
       "    .dataframe tbody tr th:only-of-type {\n",
       "        vertical-align: middle;\n",
       "    }\n",
       "\n",
       "    .dataframe tbody tr th {\n",
       "        vertical-align: top;\n",
       "    }\n",
       "\n",
       "    .dataframe thead th {\n",
       "        text-align: right;\n",
       "    }\n",
       "</style>\n",
       "<table border=\"1\" class=\"dataframe\">\n",
       "  <thead>\n",
       "    <tr style=\"text-align: right;\">\n",
       "      <th></th>\n",
       "      <th>year_of_reference</th>\n",
       "      <th>month_of_reference</th>\n",
       "      <th>fipe_code</th>\n",
       "      <th>authentication</th>\n",
       "      <th>brand</th>\n",
       "      <th>model</th>\n",
       "      <th>fuel</th>\n",
       "      <th>gear</th>\n",
       "      <th>engine_size</th>\n",
       "      <th>year_model</th>\n",
       "      <th>avg_price_brl</th>\n",
       "      <th>age_years</th>\n",
       "    </tr>\n",
       "  </thead>\n",
       "  <tbody>\n",
       "    <tr>\n",
       "      <th>0</th>\n",
       "      <td>2022</td>\n",
       "      <td>January</td>\n",
       "      <td>038001-6</td>\n",
       "      <td>vwmrywl5qs</td>\n",
       "      <td>Acura</td>\n",
       "      <td>NSX 3.0</td>\n",
       "      <td>Gasoline</td>\n",
       "      <td>manual</td>\n",
       "      <td>3.0</td>\n",
       "      <td>1995</td>\n",
       "      <td>43779.0</td>\n",
       "      <td>28</td>\n",
       "    </tr>\n",
       "    <tr>\n",
       "      <th>1</th>\n",
       "      <td>2022</td>\n",
       "      <td>January</td>\n",
       "      <td>038001-6</td>\n",
       "      <td>t9mt723qhz</td>\n",
       "      <td>Acura</td>\n",
       "      <td>NSX 3.0</td>\n",
       "      <td>Gasoline</td>\n",
       "      <td>manual</td>\n",
       "      <td>3.0</td>\n",
       "      <td>1994</td>\n",
       "      <td>42244.0</td>\n",
       "      <td>29</td>\n",
       "    </tr>\n",
       "    <tr>\n",
       "      <th>2</th>\n",
       "      <td>2022</td>\n",
       "      <td>January</td>\n",
       "      <td>038001-6</td>\n",
       "      <td>tr5wv4z21g</td>\n",
       "      <td>Acura</td>\n",
       "      <td>NSX 3.0</td>\n",
       "      <td>Gasoline</td>\n",
       "      <td>manual</td>\n",
       "      <td>3.0</td>\n",
       "      <td>1993</td>\n",
       "      <td>40841.0</td>\n",
       "      <td>30</td>\n",
       "    </tr>\n",
       "    <tr>\n",
       "      <th>3</th>\n",
       "      <td>2022</td>\n",
       "      <td>January</td>\n",
       "      <td>038001-6</td>\n",
       "      <td>s2xxsjz3mt</td>\n",
       "      <td>Acura</td>\n",
       "      <td>NSX 3.0</td>\n",
       "      <td>Gasoline</td>\n",
       "      <td>manual</td>\n",
       "      <td>3.0</td>\n",
       "      <td>1992</td>\n",
       "      <td>39028.0</td>\n",
       "      <td>31</td>\n",
       "    </tr>\n",
       "    <tr>\n",
       "      <th>4</th>\n",
       "      <td>2022</td>\n",
       "      <td>January</td>\n",
       "      <td>038001-6</td>\n",
       "      <td>rtm9gj7zk8</td>\n",
       "      <td>Acura</td>\n",
       "      <td>NSX 3.0</td>\n",
       "      <td>Gasoline</td>\n",
       "      <td>manual</td>\n",
       "      <td>3.0</td>\n",
       "      <td>1991</td>\n",
       "      <td>35678.0</td>\n",
       "      <td>32</td>\n",
       "    </tr>\n",
       "  </tbody>\n",
       "</table>\n",
       "</div>"
      ],
      "text/plain": [
       "   year_of_reference month_of_reference fipe_code authentication  brand  \\\n",
       "0               2022            January  038001-6     vwmrywl5qs  Acura   \n",
       "1               2022            January  038001-6     t9mt723qhz  Acura   \n",
       "2               2022            January  038001-6     tr5wv4z21g  Acura   \n",
       "3               2022            January  038001-6     s2xxsjz3mt  Acura   \n",
       "4               2022            January  038001-6     rtm9gj7zk8  Acura   \n",
       "\n",
       "     model      fuel    gear  engine_size  year_model  avg_price_brl  \\\n",
       "0  NSX 3.0  Gasoline  manual          3.0        1995        43779.0   \n",
       "1  NSX 3.0  Gasoline  manual          3.0        1994        42244.0   \n",
       "2  NSX 3.0  Gasoline  manual          3.0        1993        40841.0   \n",
       "3  NSX 3.0  Gasoline  manual          3.0        1992        39028.0   \n",
       "4  NSX 3.0  Gasoline  manual          3.0        1991        35678.0   \n",
       "\n",
       "   age_years  \n",
       "0         28  \n",
       "1         29  \n",
       "2         30  \n",
       "3         31  \n",
       "4         32  "
      ]
     },
     "execution_count": 75,
     "metadata": {},
     "output_type": "execute_result"
    }
   ],
   "source": [
    "dados = pd.read_csv('datasets/fipe_2022.csv') \n",
    "dados.head()"
   ]
  },
  {
   "cell_type": "markdown",
   "metadata": {
    "id": "25b-tzZUQzLO"
   },
   "source": [
    "A descrição dos dados é informada no [Kaggle](https://https://www.kaggle.com/datasets/vagnerbessa/average-car-prices-bazil). A título informativo, segue abaixo descrição básica do que cada coluna (feature) informa:\n",
    "\n",
    "- ```year_of_reference```: ano de referência da observação, ou seja, o ano a que os dados correspondem.\n",
    "- ```month_of_reference```: mês de referência da observação, ou seja, o mês a que os dados correspondem. O preço médio é calculado pela FIPE a cada mês.\n",
    "- ```fipe_code```: id único correspondente a um modelo para facilitar a busca na página da FIPE.\n",
    "- ```authentication```: código único que autentica a consulta no site da FIPE.\n",
    "- ```brand```: marca do carro.\n",
    "- ```model```: descrição do carro contendo o nome e demais informações descritivas, conforme tabela FIPE.\n",
    "- ```fuel```: combustível utilizado pelo carro. Alguns dos carros a gasolina são na verdade álcool e gasolina (flex), o que é comum no Brasil.\n",
    "- ```gear```: a maneira como as marchas são trocadas.\n",
    "- ```engine_size```: Tamanho do motor em centímetros cúbicos.\n",
    "- ```year_model```: esses valores correspondem ao ano de referência, podendo não ser iguais ao ano de fabricação, que no caso corresponderá a um ano anterior ao ```year_model```. Observações com ```year_model = year_of_reference``` significam que o carro é do ano de referência, ou seja, um carro 2021 com ```year_of_reference = 2021``` e ```moth_of_reference = July``` significa que a observação (principalmente o preço médio) corresponde a um carro novo do ano de 2021, do mês de julho. O mesmo modelo pode ter um preço médio diferente para meses diferentes.\n",
    "- ```avg_price_brl```: preço médio do carro, medido pela FIPE, em Real."
   ]
  },
  {
   "cell_type": "code",
   "execution_count": 76,
   "metadata": {
    "colab": {
     "base_uri": "https://localhost:8080/"
    },
    "id": "cCeKTgQlQmsl",
    "outputId": "85099865-ea13-47f9-b73d-0b1f47e4475e"
   },
   "outputs": [
    {
     "name": "stdout",
     "output_type": "stream",
     "text": [
      "<class 'pandas.core.frame.DataFrame'>\n",
      "RangeIndex: 290275 entries, 0 to 290274\n",
      "Data columns (total 12 columns):\n",
      " #   Column              Non-Null Count   Dtype  \n",
      "---  ------              --------------   -----  \n",
      " 0   year_of_reference   290275 non-null  int64  \n",
      " 1   month_of_reference  290275 non-null  object \n",
      " 2   fipe_code           290275 non-null  object \n",
      " 3   authentication      290275 non-null  object \n",
      " 4   brand               290275 non-null  object \n",
      " 5   model               290275 non-null  object \n",
      " 6   fuel                290275 non-null  object \n",
      " 7   gear                290275 non-null  object \n",
      " 8   engine_size         290275 non-null  float64\n",
      " 9   year_model          290275 non-null  int64  \n",
      " 10  avg_price_brl       290275 non-null  float64\n",
      " 11  age_years           290275 non-null  int64  \n",
      "dtypes: float64(2), int64(3), object(7)\n",
      "memory usage: 26.6+ MB\n"
     ]
    }
   ],
   "source": [
    "dados.info()"
   ]
  },
  {
   "cell_type": "markdown",
   "metadata": {
    "id": "wG2Q-T2mRP43"
   },
   "source": [
    "Conforme visto nas informações básicas do dataframe, não há dados nulos e temos 7 colunas do tipo objeto e 5 do tipo numéricas. Como tratamento inicial iremos:\n",
    "\n",
    "1. Remover ```year_of_reference``` por possuir apenas o valor ```2022```;\n",
    "1. Remover ```fipe_code``` e ```authentication``` por se tratarem de dados do tipo identificadores os quais não serão úteis ao algoritmo ML;\n",
    "1. Remoção de Outliers das features numéricas."
   ]
  },
  {
   "cell_type": "code",
   "execution_count": 77,
   "metadata": {
    "colab": {
     "base_uri": "https://localhost:8080/",
     "height": 206
    },
    "id": "wvzU7pTsTLIO",
    "outputId": "5c169ef3-7fc8-4d85-b9ce-36d1aa3bc713"
   },
   "outputs": [
    {
     "data": {
      "text/html": [
       "<div>\n",
       "<style scoped>\n",
       "    .dataframe tbody tr th:only-of-type {\n",
       "        vertical-align: middle;\n",
       "    }\n",
       "\n",
       "    .dataframe tbody tr th {\n",
       "        vertical-align: top;\n",
       "    }\n",
       "\n",
       "    .dataframe thead th {\n",
       "        text-align: right;\n",
       "    }\n",
       "</style>\n",
       "<table border=\"1\" class=\"dataframe\">\n",
       "  <thead>\n",
       "    <tr style=\"text-align: right;\">\n",
       "      <th></th>\n",
       "      <th>month_of_reference</th>\n",
       "      <th>brand</th>\n",
       "      <th>model</th>\n",
       "      <th>fuel</th>\n",
       "      <th>gear</th>\n",
       "      <th>engine_size</th>\n",
       "      <th>year_model</th>\n",
       "      <th>avg_price_brl</th>\n",
       "      <th>age_years</th>\n",
       "    </tr>\n",
       "  </thead>\n",
       "  <tbody>\n",
       "    <tr>\n",
       "      <th>0</th>\n",
       "      <td>January</td>\n",
       "      <td>Acura</td>\n",
       "      <td>NSX 3.0</td>\n",
       "      <td>Gasoline</td>\n",
       "      <td>manual</td>\n",
       "      <td>3.0</td>\n",
       "      <td>1995</td>\n",
       "      <td>43779.0</td>\n",
       "      <td>28</td>\n",
       "    </tr>\n",
       "    <tr>\n",
       "      <th>1</th>\n",
       "      <td>January</td>\n",
       "      <td>Acura</td>\n",
       "      <td>NSX 3.0</td>\n",
       "      <td>Gasoline</td>\n",
       "      <td>manual</td>\n",
       "      <td>3.0</td>\n",
       "      <td>1994</td>\n",
       "      <td>42244.0</td>\n",
       "      <td>29</td>\n",
       "    </tr>\n",
       "    <tr>\n",
       "      <th>2</th>\n",
       "      <td>January</td>\n",
       "      <td>Acura</td>\n",
       "      <td>NSX 3.0</td>\n",
       "      <td>Gasoline</td>\n",
       "      <td>manual</td>\n",
       "      <td>3.0</td>\n",
       "      <td>1993</td>\n",
       "      <td>40841.0</td>\n",
       "      <td>30</td>\n",
       "    </tr>\n",
       "    <tr>\n",
       "      <th>3</th>\n",
       "      <td>January</td>\n",
       "      <td>Acura</td>\n",
       "      <td>NSX 3.0</td>\n",
       "      <td>Gasoline</td>\n",
       "      <td>manual</td>\n",
       "      <td>3.0</td>\n",
       "      <td>1992</td>\n",
       "      <td>39028.0</td>\n",
       "      <td>31</td>\n",
       "    </tr>\n",
       "    <tr>\n",
       "      <th>4</th>\n",
       "      <td>January</td>\n",
       "      <td>Acura</td>\n",
       "      <td>NSX 3.0</td>\n",
       "      <td>Gasoline</td>\n",
       "      <td>manual</td>\n",
       "      <td>3.0</td>\n",
       "      <td>1991</td>\n",
       "      <td>35678.0</td>\n",
       "      <td>32</td>\n",
       "    </tr>\n",
       "  </tbody>\n",
       "</table>\n",
       "</div>"
      ],
      "text/plain": [
       "  month_of_reference  brand    model      fuel    gear  engine_size  \\\n",
       "0            January  Acura  NSX 3.0  Gasoline  manual          3.0   \n",
       "1            January  Acura  NSX 3.0  Gasoline  manual          3.0   \n",
       "2            January  Acura  NSX 3.0  Gasoline  manual          3.0   \n",
       "3            January  Acura  NSX 3.0  Gasoline  manual          3.0   \n",
       "4            January  Acura  NSX 3.0  Gasoline  manual          3.0   \n",
       "\n",
       "   year_model  avg_price_brl  age_years  \n",
       "0        1995        43779.0         28  \n",
       "1        1994        42244.0         29  \n",
       "2        1993        40841.0         30  \n",
       "3        1992        39028.0         31  \n",
       "4        1991        35678.0         32  "
      ]
     },
     "execution_count": 77,
     "metadata": {},
     "output_type": "execute_result"
    }
   ],
   "source": [
    "# Remoção de features desnecessárias\n",
    "dados_limpos = dados.drop(['year_of_reference', 'fipe_code', 'authentication'], axis=1)\n",
    "dados_limpos.head()"
   ]
  },
  {
   "cell_type": "markdown",
   "metadata": {
    "id": "HBYgrKP4-AoJ"
   },
   "source": [
    "A respeito da remoção dos outliers, este será feito na seção a seguir."
   ]
  },
  {
   "cell_type": "markdown",
   "metadata": {
    "id": "70cN5mQLK19S"
   },
   "source": [
    "## 4.Análise Exploratória"
   ]
  },
  {
   "cell_type": "markdown",
   "metadata": {
    "id": "QkK5M0jjG_Wl"
   },
   "source": [
    "### 4.1.Visualização de dados"
   ]
  },
  {
   "cell_type": "markdown",
   "metadata": {
    "id": "PjEC2fQh-Oqy"
   },
   "source": [
    "Começamos com uma visualização em histograma da distribuição de entradas, frente a algumas das nossas principais métricas de avaliação monetária dos veículos. \n",
    "\n",
    "Onde já se observa a relação inversalmente proporcional de Ano e Idade e presença maior dos motores na casa dos 2.0."
   ]
  },
  {
   "cell_type": "code",
   "execution_count": 78,
   "metadata": {
    "colab": {
     "base_uri": "https://localhost:8080/",
     "height": 304
    },
    "id": "uSiN-_Qr10dN",
    "outputId": "d0e3f03e-358a-4974-ef03-475655523944"
   },
   "outputs": [
    {
     "data": {
      "image/png": "[encoded data removed]",
      "text/plain": [
       "<Figure size 1008x216 with 3 Axes>"
      ]
     },
     "metadata": {},
     "output_type": "display_data"
    }
   ],
   "source": [
    "sns.set(rc={'axes.facecolor':'none','axes.grid':False,'xtick.labelsize':12,'ytick.labelsize':12})\n",
    "fig, axes = plt.subplots(1, 3, figsize=(14,3))\n",
    "year_model = dados_limpos.year_model.hist(ax=axes[1], color=\"#132B57\", grid=False, ).set_title('Ano do Modelo')\n",
    "age_years = dados_limpos.age_years.hist(ax=axes[2], color=\"#132B57\", grid=False).set_title('Idade do Veículo')\n",
    "engine_size = dados_limpos.engine_size.hist(ax=axes[0], color=\"#132B57\", grid=False).set_title('Tamanho do Motor')"
   ]
  },
  {
   "cell_type": "markdown",
   "metadata": {
    "id": "rVitxeHc-NcR"
   },
   "source": [
    "A fim de identicar a presença de outliers na medida de preço médio visualizamos a distribuição por histograma, box-plot. Nessa análise inicial vemos a presença grande de outliers nessa medida."
   ]
  },
  {
   "cell_type": "code",
   "execution_count": 79,
   "metadata": {
    "colab": {
     "base_uri": "https://localhost:8080/",
     "height": 471
    },
    "id": "g-SeRUr54ng0",
    "outputId": "e2debed7-6d14-461e-ddbb-1d7b891a2482"
   },
   "outputs": [
    {
     "data": {
      "text/plain": [
       "<AxesSubplot:title={'center':'Preço Médio: Box e Whisker Plot'}, xlabel='avg_price_brl'>"
      ]
     },
     "execution_count": 79,
     "metadata": {},
     "output_type": "execute_result"
    },
    {
     "data": {
      "image/png": "[encoded data removed]",
      "text/plain": [
       "<Figure size 1080x360 with 2 Axes>"
      ]
     },
     "metadata": {},
     "output_type": "display_data"
    }
   ],
   "source": [
    "plt.figure(figsize=(15,5))\n",
    "\n",
    "plt.subplot(1,2,1)\n",
    "plt.title('Preço Médio: Histograma', fontdict={'fontsize':12})\n",
    "sns.distplot(dados.avg_price_brl, color=\"#132B57\", kde_kws={'linewidth':3})\n",
    "\n",
    "plt.subplot(1,2,2)\n",
    "plt.title('Preço Médio: Box e Whisker Plot', fontdict={'fontsize':12})\n",
    "sns.boxplot(dados.avg_price_brl, color=\"#132B57\")"
   ]
  },
  {
   "cell_type": "markdown",
   "metadata": {
    "id": "8On_2xAYDZ8c"
   },
   "source": [
    "Estamos priorizando acertar o preço dos carros mais populares, por conta disto, vamos remover os modelos que estão muito caros ou muito baratos (outliers).\n",
    "\n",
    "**Inserir limpeza de outliers abaixo**"
   ]
  },
  {
   "cell_type": "code",
   "execution_count": 80,
   "metadata": {
    "colab": {
     "base_uri": "https://localhost:8080/"
    },
    "id": "d-VzjyF0Gmcn",
    "outputId": "ac49c310-f535-4ad8-84e8-6928fcddf905"
   },
   "outputs": [
    {
     "name": "stdout",
     "output_type": "stream",
     "text": [
      "Quantidades linhas antes: 290275\n",
      "Quantidades linhas depois: 258277\n",
      "Diferença: 31998\n"
     ]
    }
   ],
   "source": [
    "# Remoção de Outliers utilizando a feature 'avg_price_brl' como base\n",
    "\n",
    "# Separação de quartis\n",
    "Q1 = np.percentile(dados_limpos['avg_price_brl'], 25)\n",
    "\n",
    "Q3 = np.percentile(dados_limpos['avg_price_brl'], 75)\n",
    "IQR = Q3 - Q1\n",
    "\n",
    "antes = dados_limpos.shape[0]\n",
    "print(f\"Quantidades linhas antes: {antes}\")\n",
    "\n",
    "# Limite Superior\n",
    "upper = np.where(dados_limpos['avg_price_brl'] >= (Q3+1.5*IQR))\n",
    "# Limite inferior\n",
    "lower = np.where(dados_limpos['avg_price_brl'] <= (Q1-1.5*IQR))\n",
    "\n",
    "# Remoção de Outliers\n",
    "dados_limpos.drop(upper[0], inplace = True)\n",
    "dados_limpos.drop(lower[0], inplace = True)\n",
    "\n",
    "depois = dados_limpos.shape[0]\n",
    "print(f\"Quantidades linhas depois: {depois}\")\n",
    "print(f\"Diferença: {antes - depois}\")"
   ]
  },
  {
   "cell_type": "code",
   "execution_count": 81,
   "metadata": {
    "colab": {
     "base_uri": "https://localhost:8080/",
     "height": 462
    },
    "id": "RoFix4i3HiOU",
    "outputId": "2fc732b9-e60d-47c9-fc75-c4ce98aa8122"
   },
   "outputs": [
    {
     "data": {
      "text/plain": [
       "<AxesSubplot:title={'center':'Preço Médio: Box e Whisker Plot'}, xlabel='avg_price_brl'>"
      ]
     },
     "execution_count": 81,
     "metadata": {},
     "output_type": "execute_result"
    },
    {
     "data": {
      "image/png": "[encoded data removed]",
      "text/plain": [
       "<Figure size 1080x360 with 2 Axes>"
      ]
     },
     "metadata": {},
     "output_type": "display_data"
    }
   ],
   "source": [
    "plt.figure(figsize=(15,5))\n",
    "\n",
    "plt.subplot(1,2,1)\n",
    "plt.title('Preço Médio: Histograma', fontdict={'fontsize':12})\n",
    "sns.distplot(dados_limpos.avg_price_brl, color=\"#132B57\", kde_kws={'linewidth':3})\n",
    "\n",
    "plt.subplot(1,2,2)\n",
    "plt.title('Preço Médio: Box e Whisker Plot', fontdict={'fontsize':12})\n",
    "sns.boxplot(dados_limpos.avg_price_brl, color=\"#132B57\")"
   ]
  },
  {
   "cell_type": "markdown",
   "metadata": {
    "id": "wvQILIjx9ovP"
   },
   "source": [
    "Seguimos com a visualzição dos dados após a limpeza nos gráficos abaixo."
   ]
  },
  {
   "cell_type": "code",
   "execution_count": 82,
   "metadata": {
    "colab": {
     "base_uri": "https://localhost:8080/",
     "height": 431
    },
    "id": "rwUl_oMU52wS",
    "outputId": "77518490-fbe0-459a-da8b-abadbf223531"
   },
   "outputs": [
    {
     "data": {
      "text/plain": [
       "<AxesSubplot:title={'center':'Preço Médio: Box e Whisker Plot-Outliers Removidos'}, xlabel='avg_price_brl'>"
      ]
     },
     "execution_count": 82,
     "metadata": {},
     "output_type": "execute_result"
    },
    {
     "data": {
      "image/png": "[encoded data removed]",
      "text/plain": [
       "<Figure size 1080x720 with 2 Axes>"
      ]
     },
     "metadata": {},
     "output_type": "display_data"
    }
   ],
   "source": [
    "sns.set(rc={'axes.facecolor':'none','axes.grid':False,'xtick.labelsize':12,'ytick.labelsize':12})\n",
    "plt.figure(figsize=(15,10))\n",
    "\n",
    "plt.subplot(2,2,1)\n",
    "plt.title('Preço Médio: Histograma-Outliers Removidos', fontdict={'fontsize':12})\n",
    "sns.distplot(dados_limpos.avg_price_brl, color=\"#132B57\")\n",
    "\n",
    "plt.subplot(2,2,2)\n",
    "plt.title('Preço Médio: Box e Whisker Plot-Outliers Removidos', fontdict={'fontsize':12})\n",
    "sns.boxplot(dados_limpos.avg_price_brl, color=\"#132B57\")"
   ]
  },
  {
   "cell_type": "markdown",
   "metadata": {
    "id": "FqqSGUOtz21c"
   },
   "source": [
    "### 4.2.Mapa de calor de correlação\n",
    "\n",
    "Vamos dar inicio a nossa análise realizando um mapa de calor, buscando correlação entre as colunas numéricas."
   ]
  },
  {
   "cell_type": "code",
   "execution_count": 83,
   "metadata": {
    "colab": {
     "base_uri": "https://localhost:8080/",
     "height": 477
    },
    "id": "j9or2SeD4Oi2",
    "outputId": "0255410e-acb0-4e73-da4e-2ccb95f86c30"
   },
   "outputs": [
    {
     "data": {
      "image/png": "[encoded data removed]",
      "text/plain": [
       "<Figure size 720x360 with 2 Axes>"
      ]
     },
     "metadata": {},
     "output_type": "display_data"
    }
   ],
   "source": [
    "plt.figure(figsize=(10,5))\n",
    "corr = dados_limpos.corr(method='pearson').round(4)\n",
    "sns.heatmap(corr, annot=True, cmap='seismic')\n",
    "plt.title(\"Mapa de calor: Correlação\", fontdict={'fontsize':15})\n",
    "plt.show()"
   ]
  },
  {
   "cell_type": "markdown",
   "metadata": {
    "id": "2DDR8Jf603-P"
   },
   "source": [
    "A partir do mapa de calor podemos concluir os seguintes pontos:\n",
    "- A idade do modelo e o ano são 100% codependentes;\n",
    "- O preço do veículo depende bastante do modelo e da idade;\n",
    "- O tamanho do motor tem baixa correlação com a idade e preço médio;"
   ]
  },
  {
   "cell_type": "markdown",
   "metadata": {
    "id": "BWdkDH-b1mVb"
   },
   "source": [
    "### 4.3. Manipulação dos valores categóricos."
   ]
  },
  {
   "cell_type": "markdown",
   "metadata": {
    "id": "j2i0PMmr1u9-"
   },
   "source": [
    "Para utilizarmos os itens categóricos, utilizaremos a biblioteca ```Label Encoder```.\n",
    "\n",
    "O Label Encoder é uma ferramenta para converter variáveis categóricas que possuem alguma relação de ordem. Ele mapeia os dados de texto em dados numéricos de ```0``` (zero) até ```n-1```, onde ```n``` representa o número de ocorrências diferentes.\n"
   ]
  },
  {
   "cell_type": "code",
   "execution_count": 84,
   "metadata": {
    "id": "Bb1ihi2m3duZ"
   },
   "outputs": [],
   "source": [
    "## Separação das colunas em dados categóricos e numéricos\n",
    "\n",
    "categoricos_df = dados_limpos[['month_of_reference', 'brand', 'model', 'fuel', 'gear']]\n",
    "numericos_df = dados_limpos[['engine_size', 'year_model', 'avg_price_brl']]"
   ]
  },
  {
   "cell_type": "code",
   "execution_count": 85,
   "metadata": {
    "id": "3WXgld4d4wOS"
   },
   "outputs": [],
   "source": [
    "# Importando o label encoder\n",
    "from sklearn.preprocessing import LabelEncoder\n",
    "\n",
    "le = LabelEncoder()\n",
    "\n",
    "#Separando os dados categóricos em um único dataframe \n",
    "cat_df = dados_limpos[categoricos_df.columns]\n",
    "\n",
    "# Realizando transformação de dados categóricos\n",
    "for i in categoricos_df:\n",
    "    categoricos_df[i] = le.fit_transform(dados_limpos[i])\n",
    "\n",
    "#Unindo os dados numéricos com os categóricos\n",
    "numericos_df = dados_limpos[numericos_df.columns]\n",
    "dados_limpos = pd.concat([numericos_df, categoricos_df], axis=1)"
   ]
  },
  {
   "cell_type": "code",
   "execution_count": 86,
   "metadata": {
    "colab": {
     "base_uri": "https://localhost:8080/",
     "height": 206
    },
    "id": "8soKVcFZ6VDs",
    "outputId": "0e74d61b-8dc1-45f5-fe9d-d2558a6938a4"
   },
   "outputs": [
    {
     "data": {
      "text/html": [
       "<div>\n",
       "<style scoped>\n",
       "    .dataframe tbody tr th:only-of-type {\n",
       "        vertical-align: middle;\n",
       "    }\n",
       "\n",
       "    .dataframe tbody tr th {\n",
       "        vertical-align: top;\n",
       "    }\n",
       "\n",
       "    .dataframe thead th {\n",
       "        text-align: right;\n",
       "    }\n",
       "</style>\n",
       "<table border=\"1\" class=\"dataframe\">\n",
       "  <thead>\n",
       "    <tr style=\"text-align: right;\">\n",
       "      <th></th>\n",
       "      <th>engine_size</th>\n",
       "      <th>year_model</th>\n",
       "      <th>avg_price_brl</th>\n",
       "      <th>month_of_reference</th>\n",
       "      <th>brand</th>\n",
       "      <th>model</th>\n",
       "      <th>fuel</th>\n",
       "      <th>gear</th>\n",
       "    </tr>\n",
       "  </thead>\n",
       "  <tbody>\n",
       "    <tr>\n",
       "      <th>0</th>\n",
       "      <td>3.0</td>\n",
       "      <td>1995</td>\n",
       "      <td>43779.0</td>\n",
       "      <td>4</td>\n",
       "      <td>0</td>\n",
       "      <td>3290</td>\n",
       "      <td>2</td>\n",
       "      <td>1</td>\n",
       "    </tr>\n",
       "    <tr>\n",
       "      <th>1</th>\n",
       "      <td>3.0</td>\n",
       "      <td>1994</td>\n",
       "      <td>42244.0</td>\n",
       "      <td>4</td>\n",
       "      <td>0</td>\n",
       "      <td>3290</td>\n",
       "      <td>2</td>\n",
       "      <td>1</td>\n",
       "    </tr>\n",
       "    <tr>\n",
       "      <th>2</th>\n",
       "      <td>3.0</td>\n",
       "      <td>1993</td>\n",
       "      <td>40841.0</td>\n",
       "      <td>4</td>\n",
       "      <td>0</td>\n",
       "      <td>3290</td>\n",
       "      <td>2</td>\n",
       "      <td>1</td>\n",
       "    </tr>\n",
       "    <tr>\n",
       "      <th>3</th>\n",
       "      <td>3.0</td>\n",
       "      <td>1992</td>\n",
       "      <td>39028.0</td>\n",
       "      <td>4</td>\n",
       "      <td>0</td>\n",
       "      <td>3290</td>\n",
       "      <td>2</td>\n",
       "      <td>1</td>\n",
       "    </tr>\n",
       "    <tr>\n",
       "      <th>4</th>\n",
       "      <td>3.0</td>\n",
       "      <td>1991</td>\n",
       "      <td>35678.0</td>\n",
       "      <td>4</td>\n",
       "      <td>0</td>\n",
       "      <td>3290</td>\n",
       "      <td>2</td>\n",
       "      <td>1</td>\n",
       "    </tr>\n",
       "  </tbody>\n",
       "</table>\n",
       "</div>"
      ],
      "text/plain": [
       "   engine_size  year_model  avg_price_brl  month_of_reference  brand  model  \\\n",
       "0          3.0        1995        43779.0                   4      0   3290   \n",
       "1          3.0        1994        42244.0                   4      0   3290   \n",
       "2          3.0        1993        40841.0                   4      0   3290   \n",
       "3          3.0        1992        39028.0                   4      0   3290   \n",
       "4          3.0        1991        35678.0                   4      0   3290   \n",
       "\n",
       "   fuel  gear  \n",
       "0     2     1  \n",
       "1     2     1  \n",
       "2     2     1  \n",
       "3     2     1  \n",
       "4     2     1  "
      ]
     },
     "execution_count": 86,
     "metadata": {},
     "output_type": "execute_result"
    }
   ],
   "source": [
    "dados_limpos.head()"
   ]
  },
  {
   "cell_type": "markdown",
   "metadata": {
    "id": "buInM8Zt3MbL"
   },
   "source": [
    "A título de curiosidade, vamos fazer novamente um mapa de calor incluindo os dados categóricos transformados."
   ]
  },
  {
   "cell_type": "code",
   "execution_count": 87,
   "metadata": {
    "colab": {
     "base_uri": "https://localhost:8080/",
     "height": 625
    },
    "id": "O5VT7J0b3VA3",
    "outputId": "a44e3c1b-bc0c-41a4-f304-a28bef6cc91b"
   },
   "outputs": [
    {
     "data": {
      "image/png": "[encoded data removed]",
      "text/plain": [
       "<Figure size 720x360 with 2 Axes>"
      ]
     },
     "metadata": {},
     "output_type": "display_data"
    }
   ],
   "source": [
    "plt.figure(figsize=(10,5))\n",
    "corr = dados_limpos.corr(method='pearson').round(4)\n",
    "sns.heatmap(corr, annot=True, cmap='seismic')\n",
    "plt.title(\"Mapa de calor: Correlação\", fontdict={'fontsize':15})\n",
    "plt.show()"
   ]
  },
  {
   "cell_type": "markdown",
   "metadata": {
    "id": "WGFF5APy4VDJ"
   },
   "source": [
    "Vemos que após aplicação do mapa de calor, o ```avg_price_brl``` (nosso target) possui uma correlação mais forte com os dados que originalmente eram numéricos. \n",
    "\n",
    "Vamos optar por manter as features ```fuel``` e ```gear``` enquanto que os demais serão removidos."
   ]
  },
  {
   "cell_type": "code",
   "execution_count": 88,
   "metadata": {
    "id": "JPW_8dm65ye2"
   },
   "outputs": [],
   "source": [
    "dados_limpos = dados_limpos.drop(['month_of_reference', 'brand', 'model'], axis=1)"
   ]
  },
  {
   "cell_type": "markdown",
   "metadata": {
    "id": "MABFDJaRK5sJ"
   },
   "source": [
    "## 5.Aplicação algoritmos ML"
   ]
  },
  {
   "cell_type": "markdown",
   "metadata": {
    "id": "baVqpF1O6RJZ"
   },
   "source": [
    "### 5.1. Separação de dados de entrada/saída e treinos/teste"
   ]
  },
  {
   "cell_type": "markdown",
   "metadata": {
    "id": "IAKDskCV6osf"
   },
   "source": [
    "Separando os dados de entrada/saída"
   ]
  },
  {
   "cell_type": "code",
   "execution_count": 89,
   "metadata": {
    "id": "QmZkFJKz6wa5"
   },
   "outputs": [],
   "source": [
    "# Separação de dados de entrada e dados de saída\n",
    "X = dados_limpos.drop(columns=[\"avg_price_brl\"], axis=1)\n",
    "y = dados_limpos[\"avg_price_brl\"]"
   ]
  },
  {
   "cell_type": "markdown",
   "metadata": {
    "id": "7PUMOvWk7Rg_"
   },
   "source": [
    "Importações\n",
    "\n"
   ]
  },
  {
   "cell_type": "code",
   "execution_count": 90,
   "metadata": {
    "id": "61gJOt1V7RJT"
   },
   "outputs": [],
   "source": [
    "# Bibliotecas de processamento de dados\n",
    "from sklearn.preprocessing import StandardScaler\n",
    "\n",
    "# Bibliotecas de averiguação de modelo e ajuste\n",
    "from sklearn.model_selection import GridSearchCV, StratifiedKFold, train_test_split, RandomizedSearchCV\n",
    "from sklearn.metrics import r2_score, mean_absolute_error, mean_squared_error\n",
    "\n",
    "# Pipeline e modelos de ML a serem usados neste trabalho\n",
    "from sklearn.pipeline import Pipeline\n",
    "from sklearn.tree import DecisionTreeRegressor\n",
    "from sklearn.ensemble import RandomForestRegressor"
   ]
  },
  {
   "cell_type": "markdown",
   "metadata": {
    "id": "0QADWkwB7UlN"
   },
   "source": [
    "Separação em dados de treino e teste."
   ]
  },
  {
   "cell_type": "code",
   "execution_count": 91,
   "metadata": {
    "id": "ezteOz8F-hAN"
   },
   "outputs": [],
   "source": [
    "X_train, X_test, y_train, y_test = train_test_split(X, y, test_size = 0.2)"
   ]
  },
  {
   "cell_type": "markdown",
   "metadata": {
    "id": "3R9fpyErDn7v"
   },
   "source": [
    "Definição de SEED para random states futuros"
   ]
  },
  {
   "cell_type": "code",
   "execution_count": 92,
   "metadata": {
    "id": "nzhKoWQ4Dnku"
   },
   "outputs": [],
   "source": [
    "seed=42"
   ]
  },
  {
   "cell_type": "markdown",
   "metadata": {
    "id": "kBviQSH8Ldjs"
   },
   "source": [
    "Criação de função genérica para inserção de modelos"
   ]
  },
  {
   "cell_type": "code",
   "execution_count": 93,
   "metadata": {
    "id": "ddIYNriZLdVt"
   },
   "outputs": [],
   "source": [
    "model_preds = []\n",
    "from joblib import parallel_backend  #Processamento paralelo\n",
    "\n",
    "def fit_model(model, model_name, name_tag, seed, ParamsGrid, n_split=10, Scoring=\"neg_mean_absolute_error\", verb=10):\n",
    "              \n",
    "    pipe = Pipeline([(\"std_scaler\", StandardScaler()),\n",
    "                 (name_tag, model(random_state=seed))])\n",
    "\n",
    "    splitter = StratifiedKFold(n_splits=n_split, shuffle=True, random_state=seed)\n",
    "    \n",
    "    parallel_backend('threading', n_jobs=2) #Processamento paralelo\n",
    "    \n",
    "    grid = RandomizedSearchCV(estimator=pipe,\n",
    "                            param_distributions=ParamsGrid,\n",
    "                            scoring=Scoring, \n",
    "                            cv=splitter, \n",
    "                            verbose=verb,\n",
    "                            random_state=seed)\n",
    "    \n",
    "\n",
    "    grid.fit(X_train, y_train)\n",
    "\n",
    "    y_pred = grid.predict(X_test)\n",
    "\n",
    "    r2 = round(r2_score(y_test, y_pred),4)\n",
    "    adj_r2 = round(1 - (1-r2)*(len(y)-1)/(len(y)-X.shape[1]-1),4)\n",
    "    mse = round(mean_squared_error(y_test, y_pred),4)\n",
    "    mae = round(mean_absolute_error(y_test, y_pred),4)\n",
    "    rmse = round(np.sqrt(mean_squared_error(y_test, y_pred)),4)\n",
    "    model_preds.append([model_name, r2, adj_r2, mse, mae, rmse])\n",
    "\n",
    "    print(f\"\\nMelhores Parâmetros\\n{grid.best_params_}\")\n",
    "    print(f\"\\nMelhor Estimador\\n{grid.best_estimator_}\")\n",
    "    \n",
    "    print(\"\\nMÉTRICAS\\n\")\n",
    "    print(\"The R-Squared Value (r2) is: \", r2)\n",
    "    print(\"Adjusted R-Squared Value (adj_r2) is: \", adj_r2)\n",
    "    print(\"The Mean Squared error (MSE) is: \", mse)\n",
    "    print(\"Root Mean Squared Error (RMSE)  is: \", rmse) \n",
    "    print(\"Mean Absolute Error (MAE) is: \", mae)\n",
    "    \n",
    "    #Salvando o modelo em questão\n",
    "    from joblib import dump, load\n",
    "    if model_name == \"Decision Tree Regressor\":\n",
    "        dump(grid, 'modelo_dtr.joblib')\n",
    "    elif model_name == \"Random Forest Regressor\":\n",
    "        dump(grid, 'modelo_rfr.joblib')\n",
    "        \n",
    "        \n",
    "def model_eval():\n",
    "    preds = pd.DataFrame(model_preds)\n",
    "    preds.columns = [\"Mod_Name\", \"R2 Value\", \"adj_R2\", \"MSE\", \"RMSE\", \"MAE\"]\n",
    "    return preds.sort_values(by=\"R2 Value\", ascending=False)"
   ]
  },
  {
   "cell_type": "markdown",
   "metadata": {
    "id": "0zIEmAXp7x-v"
   },
   "source": [
    "### 5.2. Decision Tree Regressor"
   ]
  },
  {
   "cell_type": "markdown",
   "metadata": {
    "id": "srK8ThXh8VrM"
   },
   "source": [
    "Primeiro modelo que iremos treinar será o [Decision Tree Regressor](https://scikit-learn.org/stable/modules/generated/sklearn.tree.DecisionTreeRegressor.html).\n",
    "\n",
    "Vamos criar o pipeline e já realizar uma otimização dos hiperparâmetros do modelo conforme informado a seguir."
   ]
  },
  {
   "cell_type": "code",
   "execution_count": 94,
   "metadata": {
    "id": "6HxYKEtXNNES"
   },
   "outputs": [],
   "source": [
    "params_grid_dtr = {\"dtr__splitter\" : [\"best\", \"random\"],\n",
    "                   \"dtr__max_depth\" : range(4, 15),\n",
    "                   \"dtr__min_samples_leaf\" : range(1,5)}   \n",
    "\n",
    "#params_grid_dtr = {\"dtr__criterion\" : [\"squared_error\", \"absolute_error\"],\n",
    "#                   \"dtr__splitter\" : [\"best\", \"random\"],\n",
    "#                   \"dtr__max_depth\" : range(4, 15),\n",
    "#                   \"dtr__min_samples_leaf\" : range\n",
    "\n",
    "# params_grid_dtr = {\"dtr__criterion\" : [\"absolute_error\"],\n",
    "#                  \"dtr__splitter\" : [\"best\"],\n",
    "#                  \"dtr__max_depth\" : range(4, 5),\n",
    "#                  \"dtr__min_samples_leaf\" : range(1,2)}"
   ]
  },
  {
   "cell_type": "code",
   "execution_count": 95,
   "metadata": {
    "colab": {
     "base_uri": "https://localhost:8080/"
    },
    "id": "QlBsLIfMNEua",
    "outputId": "f398571b-b8f0-44f6-dbc8-a7e501777d45",
    "scrolled": false
   },
   "outputs": [
    {
     "name": "stdout",
     "output_type": "stream",
     "text": [
      "Fitting 10 folds for each of 10 candidates, totalling 100 fits\n",
      "[CV 1/10; 1/10] START dtr__max_depth=13, dtr__min_samples_leaf=3, dtr__splitter=best[CV 2/10; 1/10] START dtr__max_depth=13, dtr__min_samples_leaf=3, dtr__splitter=best\n",
      "\n",
      "[CV 1/10; 1/10] END dtr__max_depth=13, dtr__min_samples_leaf=3, dtr__splitter=best; total time=   0.2s\n",
      "[CV 3/10; 1/10] START dtr__max_depth=13, dtr__min_samples_leaf=3, dtr__splitter=best\n",
      "[CV 2/10; 1/10] END dtr__max_depth=13, dtr__min_samples_leaf=3, dtr__splitter=best; total time=   0.2s\n",
      "[CV 4/10; 1/10] START dtr__max_depth=13, dtr__min_samples_leaf=3, dtr__splitter=best\n",
      "[CV 4/10; 1/10] END dtr__max_depth=13, dtr__min_samples_leaf=3, dtr__splitter=best; total time=   0.2s[CV 3/10; 1/10] END dtr__max_depth=13, dtr__min_samples_leaf=3, dtr__splitter=best; total time=   0.2s\n",
      "\n",
      "[CV 5/10; 1/10] START dtr__max_depth=13, dtr__min_samples_leaf=3, dtr__splitter=best\n",
      "[CV 6/10; 1/10] START dtr__max_depth=13, dtr__min_samples_leaf=3, dtr__splitter=best\n",
      "[CV 6/10; 1/10] END dtr__max_depth=13, dtr__min_samples_leaf=3, dtr__splitter=best; total time=   0.2s\n",
      "[CV 7/10; 1/10] START dtr__max_depth=13, dtr__min_samples_leaf=3, dtr__splitter=best\n",
      "[CV 5/10; 1/10] END dtr__max_depth=13, dtr__min_samples_leaf=3, dtr__splitter=best; total time=   0.2s\n",
      "[CV 8/10; 1/10] START dtr__max_depth=13, dtr__min_samples_leaf=3, dtr__splitter=best\n",
      "[CV 8/10; 1/10] END dtr__max_depth=13, dtr__min_samples_leaf=3, dtr__splitter=best; total time=   0.2s\n",
      "[CV 9/10; 1/10] START dtr__max_depth=13, dtr__min_samples_leaf=3, dtr__splitter=best\n",
      "[CV 7/10; 1/10] END dtr__max_depth=13, dtr__min_samples_leaf=3, dtr__splitter=best; total time=   0.2s\n",
      "[CV 10/10; 1/10] START dtr__max_depth=13, dtr__min_samples_leaf=3, dtr__splitter=best\n",
      "[CV 9/10; 1/10] END dtr__max_depth=13, dtr__min_samples_leaf=3, dtr__splitter=best; total time=   0.2s\n",
      "[CV 1/10; 2/10] START dtr__max_depth=4, dtr__min_samples_leaf=1, dtr__splitter=best\n",
      "[CV 10/10; 1/10] END dtr__max_depth=13, dtr__min_samples_leaf=3, dtr__splitter=best; total time=   0.2s\n",
      "[CV 2/10; 2/10] START dtr__max_depth=4, dtr__min_samples_leaf=1, dtr__splitter=best\n",
      "[CV 1/10; 2/10] END dtr__max_depth=4, dtr__min_samples_leaf=1, dtr__splitter=best; total time=   0.1s\n",
      "[CV 3/10; 2/10] START dtr__max_depth=4, dtr__min_samples_leaf=1, dtr__splitter=best\n",
      "[CV 2/10; 2/10] END dtr__max_depth=4, dtr__min_samples_leaf=1, dtr__splitter=best; total time=   0.1s\n",
      "[CV 4/10; 2/10] START dtr__max_depth=4, dtr__min_samples_leaf=1, dtr__splitter=best\n",
      "[CV 3/10; 2/10] END dtr__max_depth=4, dtr__min_samples_leaf=1, dtr__splitter=best; total time=   0.1s\n",
      "[CV 5/10; 2/10] START dtr__max_depth=4, dtr__min_samples_leaf=1, dtr__splitter=best\n",
      "[CV 4/10; 2/10] END dtr__max_depth=4, dtr__min_samples_leaf=1, dtr__splitter=best; total time=   0.1s\n",
      "[CV 6/10; 2/10] START dtr__max_depth=4, dtr__min_samples_leaf=1, dtr__splitter=best\n",
      "[CV 6/10; 2/10] END dtr__max_depth=4, dtr__min_samples_leaf=1, dtr__splitter=best; total time=   0.2s\n",
      "[CV 7/10; 2/10] START dtr__max_depth=4, dtr__min_samples_leaf=1, dtr__splitter=best\n",
      "[CV 5/10; 2/10] END dtr__max_depth=4, dtr__min_samples_leaf=1, dtr__splitter=best; total time=   0.2s\n",
      "[CV 8/10; 2/10] START dtr__max_depth=4, dtr__min_samples_leaf=1, dtr__splitter=best\n",
      "[CV 8/10; 2/10] END dtr__max_depth=4, dtr__min_samples_leaf=1, dtr__splitter=best; total time=   0.1s\n",
      "[CV 9/10; 2/10] START dtr__max_depth=4, dtr__min_samples_leaf=1, dtr__splitter=best\n",
      "[CV 7/10; 2/10] END dtr__max_depth=4, dtr__min_samples_leaf=1, dtr__splitter=best; total time=   0.2s\n",
      "[CV 10/10; 2/10] START dtr__max_depth=4, dtr__min_samples_leaf=1, dtr__splitter=best\n",
      "[CV 9/10; 2/10] END dtr__max_depth=4, dtr__min_samples_leaf=1, dtr__splitter=best; total time=   0.1s\n",
      "[CV 1/10; 3/10] START dtr__max_depth=7, dtr__min_samples_leaf=2, dtr__splitter=best\n",
      "[CV 10/10; 2/10] END dtr__max_depth=4, dtr__min_samples_leaf=1, dtr__splitter=best; total time=   0.1s\n",
      "[CV 2/10; 3/10] START dtr__max_depth=7, dtr__min_samples_leaf=2, dtr__splitter=best\n",
      "[CV 1/10; 3/10] END dtr__max_depth=7, dtr__min_samples_leaf=2, dtr__splitter=best; total time=   0.2s\n",
      "[CV 3/10; 3/10] START dtr__max_depth=7, dtr__min_samples_leaf=2, dtr__splitter=best\n",
      "[CV 2/10; 3/10] END dtr__max_depth=7, dtr__min_samples_leaf=2, dtr__splitter=best; total time=   0.2s\n",
      "[CV 4/10; 3/10] START dtr__max_depth=7, dtr__min_samples_leaf=2, dtr__splitter=best\n",
      "[CV 3/10; 3/10] END dtr__max_depth=7, dtr__min_samples_leaf=2, dtr__splitter=best; total time=   0.2s\n",
      "[CV 5/10; 3/10] START dtr__max_depth=7, dtr__min_samples_leaf=2, dtr__splitter=best\n",
      "[CV 4/10; 3/10] END dtr__max_depth=7, dtr__min_samples_leaf=2, dtr__splitter=best; total time=   0.2s\n",
      "[CV 6/10; 3/10] START dtr__max_depth=7, dtr__min_samples_leaf=2, dtr__splitter=best\n",
      "[CV 5/10; 3/10] END dtr__max_depth=7, dtr__min_samples_leaf=2, dtr__splitter=best; total time=   0.3s\n",
      "[CV 7/10; 3/10] START dtr__max_depth=7, dtr__min_samples_leaf=2, dtr__splitter=best\n",
      "[CV 6/10; 3/10] END dtr__max_depth=7, dtr__min_samples_leaf=2, dtr__splitter=best; total time=   0.2s\n",
      "[CV 8/10; 3/10] START dtr__max_depth=7, dtr__min_samples_leaf=2, dtr__splitter=best\n",
      "[CV 7/10; 3/10] END dtr__max_depth=7, dtr__min_samples_leaf=2, dtr__splitter=best; total time=   0.1s\n",
      "[CV 9/10; 3/10] START dtr__max_depth=7, dtr__min_samples_leaf=2, dtr__splitter=best\n",
      "[CV 8/10; 3/10] END dtr__max_depth=7, dtr__min_samples_leaf=2, dtr__splitter=best; total time=   0.1s\n",
      "[CV 10/10; 3/10] START dtr__max_depth=7, dtr__min_samples_leaf=2, dtr__splitter=best\n",
      "[CV 10/10; 3/10] END dtr__max_depth=7, dtr__min_samples_leaf=2, dtr__splitter=best; total time=   0.4s\n",
      "[CV 1/10; 4/10] START dtr__max_depth=6, dtr__min_samples_leaf=4, dtr__splitter=best\n",
      "[CV 9/10; 3/10] END dtr__max_depth=7, dtr__min_samples_leaf=2, dtr__splitter=best; total time=   0.4s\n",
      "[CV 2/10; 4/10] START dtr__max_depth=6, dtr__min_samples_leaf=4, dtr__splitter=best\n",
      "[CV 2/10; 4/10] END dtr__max_depth=6, dtr__min_samples_leaf=4, dtr__splitter=best; total time=   0.6s[CV 1/10; 4/10] END dtr__max_depth=6, dtr__min_samples_leaf=4, dtr__splitter=best; total time=   0.7s\n",
      "[CV 3/10; 4/10] START dtr__max_depth=6, dtr__min_samples_leaf=4, dtr__splitter=best\n",
      "\n",
      "[CV 4/10; 4/10] START dtr__max_depth=6, dtr__min_samples_leaf=4, dtr__splitter=best\n",
      "[CV 3/10; 4/10] END dtr__max_depth=6, dtr__min_samples_leaf=4, dtr__splitter=best; total time=   0.2s\n",
      "[CV 5/10; 4/10] START dtr__max_depth=6, dtr__min_samples_leaf=4, dtr__splitter=best\n",
      "[CV 4/10; 4/10] END dtr__max_depth=6, dtr__min_samples_leaf=4, dtr__splitter=best; total time=   0.2s\n",
      "[CV 6/10; 4/10] START dtr__max_depth=6, dtr__min_samples_leaf=4, dtr__splitter=best\n",
      "[CV 6/10; 4/10] END dtr__max_depth=6, dtr__min_samples_leaf=4, dtr__splitter=best; total time=   0.3s[CV 5/10; 4/10] END dtr__max_depth=6, dtr__min_samples_leaf=4, dtr__splitter=best; total time=   0.3s\n",
      "[CV 7/10; 4/10] START dtr__max_depth=6, dtr__min_samples_leaf=4, dtr__splitter=best\n",
      "\n",
      "[CV 8/10; 4/10] START dtr__max_depth=6, dtr__min_samples_leaf=4, dtr__splitter=best\n",
      "[CV 8/10; 4/10] END dtr__max_depth=6, dtr__min_samples_leaf=4, dtr__splitter=best; total time=   0.2s[CV 7/10; 4/10] END dtr__max_depth=6, dtr__min_samples_leaf=4, dtr__splitter=best; total time=   0.2s\n",
      "[CV 9/10; 4/10] START dtr__max_depth=6, dtr__min_samples_leaf=4, dtr__splitter=best\n",
      "\n",
      "[CV 10/10; 4/10] START dtr__max_depth=6, dtr__min_samples_leaf=4, dtr__splitter=best\n",
      "[CV 10/10; 4/10] END dtr__max_depth=6, dtr__min_samples_leaf=4, dtr__splitter=best; total time=   0.1s[CV 9/10; 4/10] END dtr__max_depth=6, dtr__min_samples_leaf=4, dtr__splitter=best; total time=   0.1s\n",
      "[CV 1/10; 5/10] START dtr__max_depth=5, dtr__min_samples_leaf=3, dtr__splitter=best\n",
      "\n",
      "[CV 2/10; 5/10] START dtr__max_depth=5, dtr__min_samples_leaf=3, dtr__splitter=best\n",
      "[CV 1/10; 5/10] END dtr__max_depth=5, dtr__min_samples_leaf=3, dtr__splitter=best; total time=   0.1s\n",
      "[CV 3/10; 5/10] START dtr__max_depth=5, dtr__min_samples_leaf=3, dtr__splitter=best\n",
      "[CV 2/10; 5/10] END dtr__max_depth=5, dtr__min_samples_leaf=3, dtr__splitter=best; total time=   0.1s\n",
      "[CV 4/10; 5/10] START dtr__max_depth=5, dtr__min_samples_leaf=3, dtr__splitter=best\n",
      "[CV 3/10; 5/10] END dtr__max_depth=5, dtr__min_samples_leaf=3, dtr__splitter=best; total time=   0.1s\n",
      "[CV 5/10; 5/10] START dtr__max_depth=5, dtr__min_samples_leaf=3, dtr__splitter=best\n",
      "[CV 4/10; 5/10] END dtr__max_depth=5, dtr__min_samples_leaf=3, dtr__splitter=best; total time=   0.1s\n",
      "[CV 6/10; 5/10] START dtr__max_depth=5, dtr__min_samples_leaf=3, dtr__splitter=best\n",
      "[CV 6/10; 5/10] END dtr__max_depth=5, dtr__min_samples_leaf=3, dtr__splitter=best; total time=   0.1s\n",
      "[CV 7/10; 5/10] START dtr__max_depth=5, dtr__min_samples_leaf=3, dtr__splitter=best\n",
      "[CV 5/10; 5/10] END dtr__max_depth=5, dtr__min_samples_leaf=3, dtr__splitter=best; total time=   0.1s\n",
      "[CV 8/10; 5/10] START dtr__max_depth=5, dtr__min_samples_leaf=3, dtr__splitter=best\n",
      "[CV 8/10; 5/10] END dtr__max_depth=5, dtr__min_samples_leaf=3, dtr__splitter=best; total time=   0.1s[CV 7/10; 5/10] END dtr__max_depth=5, dtr__min_samples_leaf=3, dtr__splitter=best; total time=   0.1s\n",
      "[CV 9/10; 5/10] START dtr__max_depth=5, dtr__min_samples_leaf=3, dtr__splitter=best\n",
      "\n",
      "[CV 10/10; 5/10] START dtr__max_depth=5, dtr__min_samples_leaf=3, dtr__splitter=best\n",
      "[CV 10/10; 5/10] END dtr__max_depth=5, dtr__min_samples_leaf=3, dtr__splitter=best; total time=   0.1s\n",
      "[CV 1/10; 6/10] START dtr__max_depth=12, dtr__min_samples_leaf=2, dtr__splitter=random\n",
      "[CV 9/10; 5/10] END dtr__max_depth=5, dtr__min_samples_leaf=3, dtr__splitter=best; total time=   0.1s\n",
      "[CV 2/10; 6/10] START dtr__max_depth=12, dtr__min_samples_leaf=2, dtr__splitter=random\n",
      "[CV 1/10; 6/10] END dtr__max_depth=12, dtr__min_samples_leaf=2, dtr__splitter=random; total time=   0.1s\n",
      "[CV 3/10; 6/10] START dtr__max_depth=12, dtr__min_samples_leaf=2, dtr__splitter=random\n",
      "[CV 2/10; 6/10] END dtr__max_depth=12, dtr__min_samples_leaf=2, dtr__splitter=random; total time=   0.1s\n",
      "[CV 4/10; 6/10] START dtr__max_depth=12, dtr__min_samples_leaf=2, dtr__splitter=random\n",
      "[CV 4/10; 6/10] END dtr__max_depth=12, dtr__min_samples_leaf=2, dtr__splitter=random; total time=   0.1s\n",
      "[CV 5/10; 6/10] START dtr__max_depth=12, dtr__min_samples_leaf=2, dtr__splitter=random\n",
      "[CV 3/10; 6/10] END dtr__max_depth=12, dtr__min_samples_leaf=2, dtr__splitter=random; total time=   0.1s\n",
      "[CV 6/10; 6/10] START dtr__max_depth=12, dtr__min_samples_leaf=2, dtr__splitter=random\n",
      "[CV 6/10; 6/10] END dtr__max_depth=12, dtr__min_samples_leaf=2, dtr__splitter=random; total time=   0.1s\n",
      "[CV 7/10; 6/10] START dtr__max_depth=12, dtr__min_samples_leaf=2, dtr__splitter=random\n",
      "[CV 5/10; 6/10] END dtr__max_depth=12, dtr__min_samples_leaf=2, dtr__splitter=random; total time=   0.1s\n",
      "[CV 8/10; 6/10] START dtr__max_depth=12, dtr__min_samples_leaf=2, dtr__splitter=random\n",
      "[CV 7/10; 6/10] END dtr__max_depth=12, dtr__min_samples_leaf=2, dtr__splitter=random; total time=   0.1s\n",
      "[CV 9/10; 6/10] START dtr__max_depth=12, dtr__min_samples_leaf=2, dtr__splitter=random\n",
      "[CV 8/10; 6/10] END dtr__max_depth=12, dtr__min_samples_leaf=2, dtr__splitter=random; total time=   0.1s\n",
      "[CV 10/10; 6/10] START dtr__max_depth=12, dtr__min_samples_leaf=2, dtr__splitter=random\n",
      "[CV 10/10; 6/10] END dtr__max_depth=12, dtr__min_samples_leaf=2, dtr__splitter=random; total time=   0.1s\n",
      "[CV 1/10; 7/10] START dtr__max_depth=5, dtr__min_samples_leaf=2, dtr__splitter=best\n",
      "[CV 9/10; 6/10] END dtr__max_depth=12, dtr__min_samples_leaf=2, dtr__splitter=random; total time=   0.2s\n",
      "[CV 2/10; 7/10] START dtr__max_depth=5, dtr__min_samples_leaf=2, dtr__splitter=best\n",
      "[CV 1/10; 7/10] END dtr__max_depth=5, dtr__min_samples_leaf=2, dtr__splitter=best; total time=   0.1s\n",
      "[CV 3/10; 7/10] START dtr__max_depth=5, dtr__min_samples_leaf=2, dtr__splitter=best\n",
      "[CV 2/10; 7/10] END dtr__max_depth=5, dtr__min_samples_leaf=2, dtr__splitter=best; total time=   0.1s\n",
      "[CV 4/10; 7/10] START dtr__max_depth=5, dtr__min_samples_leaf=2, dtr__splitter=best\n",
      "[CV 3/10; 7/10] END dtr__max_depth=5, dtr__min_samples_leaf=2, dtr__splitter=best; total time=   0.1s\n",
      "[CV 5/10; 7/10] START dtr__max_depth=5, dtr__min_samples_leaf=2, dtr__splitter=best\n",
      "[CV 4/10; 7/10] END dtr__max_depth=5, dtr__min_samples_leaf=2, dtr__splitter=best; total time=   0.1s\n",
      "[CV 6/10; 7/10] START dtr__max_depth=5, dtr__min_samples_leaf=2, dtr__splitter=best\n",
      "[CV 5/10; 7/10] END dtr__max_depth=5, dtr__min_samples_leaf=2, dtr__splitter=best; total time=   0.1s\n",
      "[CV 7/10; 7/10] START dtr__max_depth=5, dtr__min_samples_leaf=2, dtr__splitter=best\n",
      "[CV 6/10; 7/10] END dtr__max_depth=5, dtr__min_samples_leaf=2, dtr__splitter=best; total time=   0.1s\n",
      "[CV 8/10; 7/10] START dtr__max_depth=5, dtr__min_samples_leaf=2, dtr__splitter=best\n",
      "[CV 7/10; 7/10] END dtr__max_depth=5, dtr__min_samples_leaf=2, dtr__splitter=best; total time=   0.1s\n",
      "[CV 9/10; 7/10] START dtr__max_depth=5, dtr__min_samples_leaf=2, dtr__splitter=best\n",
      "[CV 8/10; 7/10] END dtr__max_depth=5, dtr__min_samples_leaf=2, dtr__splitter=best; total time=   0.1s\n",
      "[CV 10/10; 7/10] START dtr__max_depth=5, dtr__min_samples_leaf=2, dtr__splitter=best\n",
      "[CV 9/10; 7/10] END dtr__max_depth=5, dtr__min_samples_leaf=2, dtr__splitter=best; total time=   0.1s\n",
      "[CV 1/10; 8/10] START dtr__max_depth=6, dtr__min_samples_leaf=2, dtr__splitter=best\n",
      "[CV 10/10; 7/10] END dtr__max_depth=5, dtr__min_samples_leaf=2, dtr__splitter=best; total time=   0.1s\n",
      "[CV 2/10; 8/10] START dtr__max_depth=6, dtr__min_samples_leaf=2, dtr__splitter=best\n",
      "[CV 1/10; 8/10] END dtr__max_depth=6, dtr__min_samples_leaf=2, dtr__splitter=best; total time=   0.1s\n",
      "[CV 3/10; 8/10] START dtr__max_depth=6, dtr__min_samples_leaf=2, dtr__splitter=best\n",
      "[CV 2/10; 8/10] END dtr__max_depth=6, dtr__min_samples_leaf=2, dtr__splitter=best; total time=   0.1s\n",
      "[CV 4/10; 8/10] START dtr__max_depth=6, dtr__min_samples_leaf=2, dtr__splitter=best\n",
      "[CV 3/10; 8/10] END dtr__max_depth=6, dtr__min_samples_leaf=2, dtr__splitter=best; total time=   0.1s\n",
      "[CV 5/10; 8/10] START dtr__max_depth=6, dtr__min_samples_leaf=2, dtr__splitter=best\n",
      "[CV 4/10; 8/10] END dtr__max_depth=6, dtr__min_samples_leaf=2, dtr__splitter=best; total time=   0.1s\n",
      "[CV 6/10; 8/10] START dtr__max_depth=6, dtr__min_samples_leaf=2, dtr__splitter=best\n",
      "[CV 5/10; 8/10] END dtr__max_depth=6, dtr__min_samples_leaf=2, dtr__splitter=best; total time=   0.1s\n",
      "[CV 7/10; 8/10] START dtr__max_depth=6, dtr__min_samples_leaf=2, dtr__splitter=best\n",
      "[CV 6/10; 8/10] END dtr__max_depth=6, dtr__min_samples_leaf=2, dtr__splitter=best; total time=   0.1s\n",
      "[CV 8/10; 8/10] START dtr__max_depth=6, dtr__min_samples_leaf=2, dtr__splitter=best\n",
      "[CV 7/10; 8/10] END dtr__max_depth=6, dtr__min_samples_leaf=2, dtr__splitter=best; total time=   0.1s\n",
      "[CV 9/10; 8/10] START dtr__max_depth=6, dtr__min_samples_leaf=2, dtr__splitter=best\n",
      "[CV 8/10; 8/10] END dtr__max_depth=6, dtr__min_samples_leaf=2, dtr__splitter=best; total time=   0.1s\n",
      "[CV 10/10; 8/10] START dtr__max_depth=6, dtr__min_samples_leaf=2, dtr__splitter=best\n",
      "[CV 9/10; 8/10] END dtr__max_depth=6, dtr__min_samples_leaf=2, dtr__splitter=best; total time=   0.1s\n",
      "[CV 1/10; 9/10] START dtr__max_depth=4, dtr__min_samples_leaf=3, dtr__splitter=best\n",
      "[CV 10/10; 8/10] END dtr__max_depth=6, dtr__min_samples_leaf=2, dtr__splitter=best; total time=   0.1s\n",
      "[CV 2/10; 9/10] START dtr__max_depth=4, dtr__min_samples_leaf=3, dtr__splitter=best\n",
      "[CV 2/10; 9/10] END dtr__max_depth=4, dtr__min_samples_leaf=3, dtr__splitter=best; total time=   0.1s\n",
      "[CV 3/10; 9/10] START dtr__max_depth=4, dtr__min_samples_leaf=3, dtr__splitter=best\n",
      "[CV 1/10; 9/10] END dtr__max_depth=4, dtr__min_samples_leaf=3, dtr__splitter=best; total time=   0.1s\n",
      "[CV 4/10; 9/10] START dtr__max_depth=4, dtr__min_samples_leaf=3, dtr__splitter=best\n",
      "[CV 3/10; 9/10] END dtr__max_depth=4, dtr__min_samples_leaf=3, dtr__splitter=best; total time=   0.1s\n",
      "[CV 5/10; 9/10] START dtr__max_depth=4, dtr__min_samples_leaf=3, dtr__splitter=best\n",
      "[CV 4/10; 9/10] END dtr__max_depth=4, dtr__min_samples_leaf=3, dtr__splitter=best; total time=   0.1s\n",
      "[CV 6/10; 9/10] START dtr__max_depth=4, dtr__min_samples_leaf=3, dtr__splitter=best\n",
      "[CV 5/10; 9/10] END dtr__max_depth=4, dtr__min_samples_leaf=3, dtr__splitter=best; total time=   0.1s\n",
      "[CV 7/10; 9/10] START dtr__max_depth=4, dtr__min_samples_leaf=3, dtr__splitter=best\n",
      "[CV 6/10; 9/10] END dtr__max_depth=4, dtr__min_samples_leaf=3, dtr__splitter=best; total time=   0.1s\n",
      "[CV 8/10; 9/10] START dtr__max_depth=4, dtr__min_samples_leaf=3, dtr__splitter=best\n",
      "[CV 7/10; 9/10] END dtr__max_depth=4, dtr__min_samples_leaf=3, dtr__splitter=best; total time=   0.1s\n",
      "[CV 9/10; 9/10] START dtr__max_depth=4, dtr__min_samples_leaf=3, dtr__splitter=best\n",
      "[CV 8/10; 9/10] END dtr__max_depth=4, dtr__min_samples_leaf=3, dtr__splitter=best; total time=   0.1s\n",
      "[CV 10/10; 9/10] START dtr__max_depth=4, dtr__min_samples_leaf=3, dtr__splitter=best\n",
      "[CV 9/10; 9/10] END dtr__max_depth=4, dtr__min_samples_leaf=3, dtr__splitter=best; total time=   0.2s\n",
      "[CV 1/10; 10/10] START dtr__max_depth=12, dtr__min_samples_leaf=3, dtr__splitter=best\n",
      "[CV 10/10; 9/10] END dtr__max_depth=4, dtr__min_samples_leaf=3, dtr__splitter=best; total time=   0.2s\n",
      "[CV 2/10; 10/10] START dtr__max_depth=12, dtr__min_samples_leaf=3, dtr__splitter=best\n",
      "[CV 1/10; 10/10] END dtr__max_depth=12, dtr__min_samples_leaf=3, dtr__splitter=best; total time=   0.2s\n",
      "[CV 3/10; 10/10] START dtr__max_depth=12, dtr__min_samples_leaf=3, dtr__splitter=best\n",
      "[CV 2/10; 10/10] END dtr__max_depth=12, dtr__min_samples_leaf=3, dtr__splitter=best; total time=   0.2s\n",
      "[CV 4/10; 10/10] START dtr__max_depth=12, dtr__min_samples_leaf=3, dtr__splitter=best\n",
      "[CV 3/10; 10/10] END dtr__max_depth=12, dtr__min_samples_leaf=3, dtr__splitter=best; total time=   0.2s\n",
      "[CV 5/10; 10/10] START dtr__max_depth=12, dtr__min_samples_leaf=3, dtr__splitter=best\n",
      "[CV 4/10; 10/10] END dtr__max_depth=12, dtr__min_samples_leaf=3, dtr__splitter=best; total time=   0.2s\n",
      "[CV 6/10; 10/10] START dtr__max_depth=12, dtr__min_samples_leaf=3, dtr__splitter=best\n",
      "[CV 5/10; 10/10] END dtr__max_depth=12, dtr__min_samples_leaf=3, dtr__splitter=best; total time=   0.4s\n",
      "[CV 7/10; 10/10] START dtr__max_depth=12, dtr__min_samples_leaf=3, dtr__splitter=best\n",
      "[CV 6/10; 10/10] END dtr__max_depth=12, dtr__min_samples_leaf=3, dtr__splitter=best; total time=   0.4s\n",
      "[CV 8/10; 10/10] START dtr__max_depth=12, dtr__min_samples_leaf=3, dtr__splitter=best\n",
      "[CV 7/10; 10/10] END dtr__max_depth=12, dtr__min_samples_leaf=3, dtr__splitter=best; total time=   0.2s[CV 8/10; 10/10] END dtr__max_depth=12, dtr__min_samples_leaf=3, dtr__splitter=best; total time=   0.2s\n",
      "[CV 9/10; 10/10] START dtr__max_depth=12, dtr__min_samples_leaf=3, dtr__splitter=best\n",
      "\n",
      "[CV 10/10; 10/10] START dtr__max_depth=12, dtr__min_samples_leaf=3, dtr__splitter=best\n",
      "[CV 9/10; 10/10] END dtr__max_depth=12, dtr__min_samples_leaf=3, dtr__splitter=best; total time=   0.2s\n",
      "[CV 10/10; 10/10] END dtr__max_depth=12, dtr__min_samples_leaf=3, dtr__splitter=best; total time=   0.2s\n",
      "\n",
      "Melhores Parâmetros\n",
      "{'dtr__splitter': 'best', 'dtr__min_samples_leaf': 3, 'dtr__max_depth': 13}\n",
      "\n",
      "Melhor Estimador\n",
      "Pipeline(steps=[('std_scaler', StandardScaler()),\n",
      "                ('dtr',\n",
      "                 DecisionTreeRegressor(max_depth=13, min_samples_leaf=3,\n",
      "                                       random_state=42))])\n",
      "\n",
      "MÉTRICAS\n",
      "\n",
      "The R-Squared Value (r2) is:  0.8377\n",
      "Adjusted R-Squared Value (adj_r2) is:  0.8377\n",
      "The Mean Squared error (MSE) is:  424086475.2659\n",
      "Root Mean Squared Error (RMSE)  is:  20593.36\n",
      "Mean Absolute Error (MAE) is:  12270.3795\n"
     ]
    }
   ],
   "source": [
    "fit_model(DecisionTreeRegressor, \"Decision Tree Regressor\", \"dtr\", seed, params_grid_dtr, 10, \"neg_mean_absolute_error\", 10)"
   ]
  },
  {
   "cell_type": "raw",
   "metadata": {},
   "source": [
    "SAÍDA:\n",
    "\n",
    "Melhores Parâmetros\n",
    "{'dtr__splitter': 'best', 'dtr__min_samples_leaf': 3, 'dtr__max_depth': 13}\n",
    "\n",
    "Melhor Estimador\n",
    "Pipeline(steps=[('std_scaler', StandardScaler()),\n",
    "                ('dtr',\n",
    "                 DecisionTreeRegressor(max_depth=13, min_samples_leaf=3,\n",
    "                                       random_state=42))])\n",
    "\n",
    "MÉTRICAS\n",
    "\n",
    "The R-Squared Value (r2) is:  0.8377\n",
    "Adjusted R-Squared Value (adj_r2) is:  0.8377\n",
    "The Mean Squared error (MSE) is:  424086475.2659\n",
    "Root Mean Squared Error (RMSE)  is:  20593.36\n",
    "Mean Absolute Error (MAE) is:  12270.3795"
   ]
  },
  {
   "cell_type": "markdown",
   "metadata": {
    "id": "PwThPgFGCxio"
   },
   "source": [
    "### 5.3. Random Forest Regressor "
   ]
  },
  {
   "cell_type": "markdown",
   "metadata": {
    "id": "fil0XqRrDNTH"
   },
   "source": [
    "Próximo modelo que iremos treinar será o [Random Forest Regressor](https://scikit-learn.org/stable/modules/generated/sklearn.ensemble.RandomForestRegressor.html).\n",
    "\n",
    "Vamos criar o pipeline e já realizar uma otimização dos hiperparâmetros do modelo conforme informado a seguir."
   ]
  },
  {
   "cell_type": "code",
   "execution_count": 96,
   "metadata": {
    "id": "w4-0ILUTPV2x"
   },
   "outputs": [],
   "source": [
    "params_grid_rfr = {\"rfr__n_estimators\" : np.arange(100, 1100, 100),\n",
    "                   \"rfr__max_depth\" : range(4, 15),\n",
    "                   \"rfr__min_samples_leaf\" : range(1,5)}   \n",
    "\n",
    "#params_grid_rfr = {\"rfr__criterion\" : [\"squared_error\"],\n",
    "#                  \"rfr__max_depth\" : range(4, 5),\n",
    "#                  \"rfr__min_samples_leaf\" : range(1,2)}"
   ]
  },
  {
   "cell_type": "code",
   "execution_count": 97,
   "metadata": {
    "colab": {
     "base_uri": "https://localhost:8080/"
    },
    "id": "Orbq-qhuPXpR",
    "outputId": "d21f2a22-9a64-436c-a6d8-88610ca62508"
   },
   "outputs": [
    {
     "name": "stdout",
     "output_type": "stream",
     "text": [
      "Fitting 10 folds for each of 10 candidates, totalling 100 fits\n",
      "[CV 1/10; 1/10] START rfr__max_depth=10, rfr__min_samples_leaf=3, rfr__n_estimators=600[CV 2/10; 1/10] START rfr__max_depth=10, rfr__min_samples_leaf=3, rfr__n_estimators=600\n",
      "\n",
      "[CV 1/10; 1/10] END rfr__max_depth=10, rfr__min_samples_leaf=3, rfr__n_estimators=600; total time= 1.7min\n",
      "[CV 3/10; 1/10] START rfr__max_depth=10, rfr__min_samples_leaf=3, rfr__n_estimators=600\n",
      "[CV 2/10; 1/10] END rfr__max_depth=10, rfr__min_samples_leaf=3, rfr__n_estimators=600; total time= 1.7min\n",
      "[CV 4/10; 1/10] START rfr__max_depth=10, rfr__min_samples_leaf=3, rfr__n_estimators=600\n",
      "[CV 3/10; 1/10] END rfr__max_depth=10, rfr__min_samples_leaf=3, rfr__n_estimators=600; total time= 1.7min\n",
      "[CV 5/10; 1/10] START rfr__max_depth=10, rfr__min_samples_leaf=3, rfr__n_estimators=600\n",
      "[CV 4/10; 1/10] END rfr__max_depth=10, rfr__min_samples_leaf=3, rfr__n_estimators=600; total time= 1.7min\n",
      "[CV 6/10; 1/10] START rfr__max_depth=10, rfr__min_samples_leaf=3, rfr__n_estimators=600\n",
      "[CV 5/10; 1/10] END rfr__max_depth=10, rfr__min_samples_leaf=3, rfr__n_estimators=600; total time= 1.6min\n",
      "[CV 7/10; 1/10] START rfr__max_depth=10, rfr__min_samples_leaf=3, rfr__n_estimators=600\n",
      "[CV 6/10; 1/10] END rfr__max_depth=10, rfr__min_samples_leaf=3, rfr__n_estimators=600; total time= 1.6min\n",
      "[CV 8/10; 1/10] START rfr__max_depth=10, rfr__min_samples_leaf=3, rfr__n_estimators=600\n",
      "[CV 7/10; 1/10] END rfr__max_depth=10, rfr__min_samples_leaf=3, rfr__n_estimators=600; total time= 1.3min\n",
      "[CV 9/10; 1/10] START rfr__max_depth=10, rfr__min_samples_leaf=3, rfr__n_estimators=600\n",
      "[CV 8/10; 1/10] END rfr__max_depth=10, rfr__min_samples_leaf=3, rfr__n_estimators=600; total time= 1.3min\n",
      "[CV 10/10; 1/10] START rfr__max_depth=10, rfr__min_samples_leaf=3, rfr__n_estimators=600\n",
      "[CV 9/10; 1/10] END rfr__max_depth=10, rfr__min_samples_leaf=3, rfr__n_estimators=600; total time= 1.3min\n",
      "[CV 1/10; 2/10] START rfr__max_depth=5, rfr__min_samples_leaf=4, rfr__n_estimators=900\n",
      "[CV 10/10; 1/10] END rfr__max_depth=10, rfr__min_samples_leaf=3, rfr__n_estimators=600; total time= 1.3min\n",
      "[CV 2/10; 2/10] START rfr__max_depth=5, rfr__min_samples_leaf=4, rfr__n_estimators=900\n",
      "[CV 1/10; 2/10] END rfr__max_depth=5, rfr__min_samples_leaf=4, rfr__n_estimators=900; total time= 1.4min\n",
      "[CV 3/10; 2/10] START rfr__max_depth=5, rfr__min_samples_leaf=4, rfr__n_estimators=900\n",
      "[CV 2/10; 2/10] END rfr__max_depth=5, rfr__min_samples_leaf=4, rfr__n_estimators=900; total time= 1.4min\n",
      "[CV 4/10; 2/10] START rfr__max_depth=5, rfr__min_samples_leaf=4, rfr__n_estimators=900\n",
      "[CV 3/10; 2/10] END rfr__max_depth=5, rfr__min_samples_leaf=4, rfr__n_estimators=900; total time= 1.4min\n",
      "[CV 5/10; 2/10] START rfr__max_depth=5, rfr__min_samples_leaf=4, rfr__n_estimators=900\n",
      "[CV 4/10; 2/10] END rfr__max_depth=5, rfr__min_samples_leaf=4, rfr__n_estimators=900; total time= 1.4min\n",
      "[CV 6/10; 2/10] START rfr__max_depth=5, rfr__min_samples_leaf=4, rfr__n_estimators=900\n",
      "[CV 5/10; 2/10] END rfr__max_depth=5, rfr__min_samples_leaf=4, rfr__n_estimators=900; total time= 1.4min\n",
      "[CV 7/10; 2/10] START rfr__max_depth=5, rfr__min_samples_leaf=4, rfr__n_estimators=900\n",
      "[CV 6/10; 2/10] END rfr__max_depth=5, rfr__min_samples_leaf=4, rfr__n_estimators=900; total time= 1.4min\n",
      "[CV 8/10; 2/10] START rfr__max_depth=5, rfr__min_samples_leaf=4, rfr__n_estimators=900\n",
      "[CV 7/10; 2/10] END rfr__max_depth=5, rfr__min_samples_leaf=4, rfr__n_estimators=900; total time= 1.4min\n",
      "[CV 9/10; 2/10] START rfr__max_depth=5, rfr__min_samples_leaf=4, rfr__n_estimators=900\n",
      "[CV 8/10; 2/10] END rfr__max_depth=5, rfr__min_samples_leaf=4, rfr__n_estimators=900; total time= 1.4min\n",
      "[CV 10/10; 2/10] START rfr__max_depth=5, rfr__min_samples_leaf=4, rfr__n_estimators=900\n",
      "[CV 9/10; 2/10] END rfr__max_depth=5, rfr__min_samples_leaf=4, rfr__n_estimators=900; total time= 1.4min\n",
      "[CV 1/10; 3/10] START rfr__max_depth=12, rfr__min_samples_leaf=3, rfr__n_estimators=800\n",
      "[CV 10/10; 2/10] END rfr__max_depth=5, rfr__min_samples_leaf=4, rfr__n_estimators=900; total time= 1.4min\n",
      "[CV 2/10; 3/10] START rfr__max_depth=12, rfr__min_samples_leaf=3, rfr__n_estimators=800\n",
      "[CV 1/10; 3/10] END rfr__max_depth=12, rfr__min_samples_leaf=3, rfr__n_estimators=800; total time= 1.8min\n",
      "[CV 3/10; 3/10] START rfr__max_depth=12, rfr__min_samples_leaf=3, rfr__n_estimators=800\n",
      "[CV 2/10; 3/10] END rfr__max_depth=12, rfr__min_samples_leaf=3, rfr__n_estimators=800; total time= 1.8min\n",
      "[CV 4/10; 3/10] START rfr__max_depth=12, rfr__min_samples_leaf=3, rfr__n_estimators=800\n",
      "[CV 3/10; 3/10] END rfr__max_depth=12, rfr__min_samples_leaf=3, rfr__n_estimators=800; total time= 1.8min\n",
      "[CV 5/10; 3/10] START rfr__max_depth=12, rfr__min_samples_leaf=3, rfr__n_estimators=800\n",
      "[CV 4/10; 3/10] END rfr__max_depth=12, rfr__min_samples_leaf=3, rfr__n_estimators=800; total time= 1.8min\n",
      "[CV 6/10; 3/10] START rfr__max_depth=12, rfr__min_samples_leaf=3, rfr__n_estimators=800\n",
      "[CV 5/10; 3/10] END rfr__max_depth=12, rfr__min_samples_leaf=3, rfr__n_estimators=800; total time= 1.8min\n",
      "[CV 7/10; 3/10] START rfr__max_depth=12, rfr__min_samples_leaf=3, rfr__n_estimators=800\n",
      "[CV 6/10; 3/10] END rfr__max_depth=12, rfr__min_samples_leaf=3, rfr__n_estimators=800; total time= 1.8min\n",
      "[CV 8/10; 3/10] START rfr__max_depth=12, rfr__min_samples_leaf=3, rfr__n_estimators=800\n",
      "[CV 7/10; 3/10] END rfr__max_depth=12, rfr__min_samples_leaf=3, rfr__n_estimators=800; total time= 1.8min\n",
      "[CV 9/10; 3/10] START rfr__max_depth=12, rfr__min_samples_leaf=3, rfr__n_estimators=800\n",
      "[CV 8/10; 3/10] END rfr__max_depth=12, rfr__min_samples_leaf=3, rfr__n_estimators=800; total time= 1.8min\n",
      "[CV 10/10; 3/10] START rfr__max_depth=12, rfr__min_samples_leaf=3, rfr__n_estimators=800\n",
      "[CV 9/10; 3/10] END rfr__max_depth=12, rfr__min_samples_leaf=3, rfr__n_estimators=800; total time= 1.8min\n",
      "[CV 1/10; 4/10] START rfr__max_depth=10, rfr__min_samples_leaf=2, rfr__n_estimators=600\n",
      "[CV 10/10; 3/10] END rfr__max_depth=12, rfr__min_samples_leaf=3, rfr__n_estimators=800; total time= 1.8min\n",
      "[CV 2/10; 4/10] START rfr__max_depth=10, rfr__min_samples_leaf=2, rfr__n_estimators=600\n",
      "[CV 1/10; 4/10] END rfr__max_depth=10, rfr__min_samples_leaf=2, rfr__n_estimators=600; total time= 1.2min\n",
      "[CV 3/10; 4/10] START rfr__max_depth=10, rfr__min_samples_leaf=2, rfr__n_estimators=600\n",
      "[CV 2/10; 4/10] END rfr__max_depth=10, rfr__min_samples_leaf=2, rfr__n_estimators=600; total time= 1.2min\n",
      "[CV 4/10; 4/10] START rfr__max_depth=10, rfr__min_samples_leaf=2, rfr__n_estimators=600\n",
      "[CV 3/10; 4/10] END rfr__max_depth=10, rfr__min_samples_leaf=2, rfr__n_estimators=600; total time= 1.3min\n",
      "[CV 5/10; 4/10] START rfr__max_depth=10, rfr__min_samples_leaf=2, rfr__n_estimators=600\n",
      "[CV 4/10; 4/10] END rfr__max_depth=10, rfr__min_samples_leaf=2, rfr__n_estimators=600; total time= 1.3min\n",
      "[CV 6/10; 4/10] START rfr__max_depth=10, rfr__min_samples_leaf=2, rfr__n_estimators=600\n",
      "[CV 5/10; 4/10] END rfr__max_depth=10, rfr__min_samples_leaf=2, rfr__n_estimators=600; total time= 1.3min\n",
      "[CV 7/10; 4/10] START rfr__max_depth=10, rfr__min_samples_leaf=2, rfr__n_estimators=600\n",
      "[CV 6/10; 4/10] END rfr__max_depth=10, rfr__min_samples_leaf=2, rfr__n_estimators=600; total time= 1.3min\n",
      "[CV 8/10; 4/10] START rfr__max_depth=10, rfr__min_samples_leaf=2, rfr__n_estimators=600\n",
      "[CV 7/10; 4/10] END rfr__max_depth=10, rfr__min_samples_leaf=2, rfr__n_estimators=600; total time= 1.3min\n",
      "[CV 9/10; 4/10] START rfr__max_depth=10, rfr__min_samples_leaf=2, rfr__n_estimators=600\n",
      "[CV 8/10; 4/10] END rfr__max_depth=10, rfr__min_samples_leaf=2, rfr__n_estimators=600; total time= 1.2min\n",
      "[CV 10/10; 4/10] START rfr__max_depth=10, rfr__min_samples_leaf=2, rfr__n_estimators=600\n",
      "[CV 9/10; 4/10] END rfr__max_depth=10, rfr__min_samples_leaf=2, rfr__n_estimators=600; total time= 1.3min\n",
      "[CV 1/10; 5/10] START rfr__max_depth=12, rfr__min_samples_leaf=1, rfr__n_estimators=800\n",
      "[CV 10/10; 4/10] END rfr__max_depth=10, rfr__min_samples_leaf=2, rfr__n_estimators=600; total time= 1.3min\n",
      "[CV 2/10; 5/10] START rfr__max_depth=12, rfr__min_samples_leaf=1, rfr__n_estimators=800\n",
      "[CV 1/10; 5/10] END rfr__max_depth=12, rfr__min_samples_leaf=1, rfr__n_estimators=800; total time= 1.8min\n",
      "[CV 3/10; 5/10] START rfr__max_depth=12, rfr__min_samples_leaf=1, rfr__n_estimators=800\n",
      "[CV 2/10; 5/10] END rfr__max_depth=12, rfr__min_samples_leaf=1, rfr__n_estimators=800; total time= 1.8min\n",
      "[CV 4/10; 5/10] START rfr__max_depth=12, rfr__min_samples_leaf=1, rfr__n_estimators=800\n",
      "[CV 3/10; 5/10] END rfr__max_depth=12, rfr__min_samples_leaf=1, rfr__n_estimators=800; total time= 1.8min\n",
      "[CV 5/10; 5/10] START rfr__max_depth=12, rfr__min_samples_leaf=1, rfr__n_estimators=800\n",
      "[CV 4/10; 5/10] END rfr__max_depth=12, rfr__min_samples_leaf=1, rfr__n_estimators=800; total time= 1.8min\n",
      "[CV 6/10; 5/10] START rfr__max_depth=12, rfr__min_samples_leaf=1, rfr__n_estimators=800\n",
      "[CV 5/10; 5/10] END rfr__max_depth=12, rfr__min_samples_leaf=1, rfr__n_estimators=800; total time= 1.8min\n",
      "[CV 7/10; 5/10] START rfr__max_depth=12, rfr__min_samples_leaf=1, rfr__n_estimators=800\n",
      "[CV 6/10; 5/10] END rfr__max_depth=12, rfr__min_samples_leaf=1, rfr__n_estimators=800; total time= 1.8min\n",
      "[CV 8/10; 5/10] START rfr__max_depth=12, rfr__min_samples_leaf=1, rfr__n_estimators=800\n",
      "[CV 7/10; 5/10] END rfr__max_depth=12, rfr__min_samples_leaf=1, rfr__n_estimators=800; total time= 1.8min\n",
      "[CV 9/10; 5/10] START rfr__max_depth=12, rfr__min_samples_leaf=1, rfr__n_estimators=800\n",
      "[CV 8/10; 5/10] END rfr__max_depth=12, rfr__min_samples_leaf=1, rfr__n_estimators=800; total time= 1.8min\n",
      "[CV 10/10; 5/10] START rfr__max_depth=12, rfr__min_samples_leaf=1, rfr__n_estimators=800\n",
      "[CV 9/10; 5/10] END rfr__max_depth=12, rfr__min_samples_leaf=1, rfr__n_estimators=800; total time= 1.8min\n",
      "[CV 1/10; 6/10] START rfr__max_depth=11, rfr__min_samples_leaf=2, rfr__n_estimators=200\n",
      "[CV 10/10; 5/10] END rfr__max_depth=12, rfr__min_samples_leaf=1, rfr__n_estimators=800; total time= 1.8min\n",
      "[CV 2/10; 6/10] START rfr__max_depth=11, rfr__min_samples_leaf=2, rfr__n_estimators=200\n",
      "[CV 1/10; 6/10] END rfr__max_depth=11, rfr__min_samples_leaf=2, rfr__n_estimators=200; total time=  25.5s\n",
      "[CV 3/10; 6/10] START rfr__max_depth=11, rfr__min_samples_leaf=2, rfr__n_estimators=200\n",
      "[CV 2/10; 6/10] END rfr__max_depth=11, rfr__min_samples_leaf=2, rfr__n_estimators=200; total time=  26.0s\n",
      "[CV 4/10; 6/10] START rfr__max_depth=11, rfr__min_samples_leaf=2, rfr__n_estimators=200\n",
      "[CV 3/10; 6/10] END rfr__max_depth=11, rfr__min_samples_leaf=2, rfr__n_estimators=200; total time=  26.3s\n",
      "[CV 5/10; 6/10] START rfr__max_depth=11, rfr__min_samples_leaf=2, rfr__n_estimators=200\n",
      "[CV 4/10; 6/10] END rfr__max_depth=11, rfr__min_samples_leaf=2, rfr__n_estimators=200; total time=  26.1s\n",
      "[CV 6/10; 6/10] START rfr__max_depth=11, rfr__min_samples_leaf=2, rfr__n_estimators=200\n",
      "[CV 5/10; 6/10] END rfr__max_depth=11, rfr__min_samples_leaf=2, rfr__n_estimators=200; total time=  26.0s\n",
      "[CV 7/10; 6/10] START rfr__max_depth=11, rfr__min_samples_leaf=2, rfr__n_estimators=200\n",
      "[CV 6/10; 6/10] END rfr__max_depth=11, rfr__min_samples_leaf=2, rfr__n_estimators=200; total time=  25.9s\n",
      "[CV 8/10; 6/10] START rfr__max_depth=11, rfr__min_samples_leaf=2, rfr__n_estimators=200\n",
      "[CV 7/10; 6/10] END rfr__max_depth=11, rfr__min_samples_leaf=2, rfr__n_estimators=200; total time=  25.8s\n",
      "[CV 9/10; 6/10] START rfr__max_depth=11, rfr__min_samples_leaf=2, rfr__n_estimators=200\n",
      "[CV 8/10; 6/10] END rfr__max_depth=11, rfr__min_samples_leaf=2, rfr__n_estimators=200; total time=  26.1s\n",
      "[CV 10/10; 6/10] START rfr__max_depth=11, rfr__min_samples_leaf=2, rfr__n_estimators=200\n",
      "[CV 9/10; 6/10] END rfr__max_depth=11, rfr__min_samples_leaf=2, rfr__n_estimators=200; total time=  25.8s\n",
      "[CV 1/10; 7/10] START rfr__max_depth=8, rfr__min_samples_leaf=3, rfr__n_estimators=500\n",
      "[CV 10/10; 6/10] END rfr__max_depth=11, rfr__min_samples_leaf=2, rfr__n_estimators=200; total time=  26.4s\n",
      "[CV 2/10; 7/10] START rfr__max_depth=8, rfr__min_samples_leaf=3, rfr__n_estimators=500\n",
      "[CV 1/10; 7/10] END rfr__max_depth=8, rfr__min_samples_leaf=3, rfr__n_estimators=500; total time=  58.4s\n",
      "[CV 3/10; 7/10] START rfr__max_depth=8, rfr__min_samples_leaf=3, rfr__n_estimators=500\n",
      "[CV 2/10; 7/10] END rfr__max_depth=8, rfr__min_samples_leaf=3, rfr__n_estimators=500; total time=  58.7s\n",
      "[CV 4/10; 7/10] START rfr__max_depth=8, rfr__min_samples_leaf=3, rfr__n_estimators=500\n",
      "[CV 3/10; 7/10] END rfr__max_depth=8, rfr__min_samples_leaf=3, rfr__n_estimators=500; total time=  59.2s\n",
      "[CV 5/10; 7/10] START rfr__max_depth=8, rfr__min_samples_leaf=3, rfr__n_estimators=500\n",
      "[CV 4/10; 7/10] END rfr__max_depth=8, rfr__min_samples_leaf=3, rfr__n_estimators=500; total time= 1.0min\n",
      "[CV 6/10; 7/10] START rfr__max_depth=8, rfr__min_samples_leaf=3, rfr__n_estimators=500\n",
      "[CV 5/10; 7/10] END rfr__max_depth=8, rfr__min_samples_leaf=3, rfr__n_estimators=500; total time=  58.0s\n",
      "[CV 7/10; 7/10] START rfr__max_depth=8, rfr__min_samples_leaf=3, rfr__n_estimators=500\n",
      "[CV 6/10; 7/10] END rfr__max_depth=8, rfr__min_samples_leaf=3, rfr__n_estimators=500; total time=  58.8s\n",
      "[CV 8/10; 7/10] START rfr__max_depth=8, rfr__min_samples_leaf=3, rfr__n_estimators=500\n",
      "[CV 7/10; 7/10] END rfr__max_depth=8, rfr__min_samples_leaf=3, rfr__n_estimators=500; total time=  59.5s\n",
      "[CV 9/10; 7/10] START rfr__max_depth=8, rfr__min_samples_leaf=3, rfr__n_estimators=500\n",
      "[CV 8/10; 7/10] END rfr__max_depth=8, rfr__min_samples_leaf=3, rfr__n_estimators=500; total time= 1.0min\n",
      "[CV 10/10; 7/10] START rfr__max_depth=8, rfr__min_samples_leaf=3, rfr__n_estimators=500\n",
      "[CV 9/10; 7/10] END rfr__max_depth=8, rfr__min_samples_leaf=3, rfr__n_estimators=500; total time=  58.7s\n",
      "[CV 1/10; 8/10] START rfr__max_depth=6, rfr__min_samples_leaf=1, rfr__n_estimators=300\n",
      "[CV 10/10; 7/10] END rfr__max_depth=8, rfr__min_samples_leaf=3, rfr__n_estimators=500; total time=  59.6s\n",
      "[CV 2/10; 8/10] START rfr__max_depth=6, rfr__min_samples_leaf=1, rfr__n_estimators=300\n",
      "[CV 1/10; 8/10] END rfr__max_depth=6, rfr__min_samples_leaf=1, rfr__n_estimators=300; total time=  30.3s\n",
      "[CV 3/10; 8/10] START rfr__max_depth=6, rfr__min_samples_leaf=1, rfr__n_estimators=300\n",
      "[CV 2/10; 8/10] END rfr__max_depth=6, rfr__min_samples_leaf=1, rfr__n_estimators=300; total time=  30.8s\n",
      "[CV 4/10; 8/10] START rfr__max_depth=6, rfr__min_samples_leaf=1, rfr__n_estimators=300\n",
      "[CV 3/10; 8/10] END rfr__max_depth=6, rfr__min_samples_leaf=1, rfr__n_estimators=300; total time=  30.8s\n",
      "[CV 5/10; 8/10] START rfr__max_depth=6, rfr__min_samples_leaf=1, rfr__n_estimators=300\n",
      "[CV 4/10; 8/10] END rfr__max_depth=6, rfr__min_samples_leaf=1, rfr__n_estimators=300; total time=  30.7s\n",
      "[CV 6/10; 8/10] START rfr__max_depth=6, rfr__min_samples_leaf=1, rfr__n_estimators=300\n",
      "[CV 5/10; 8/10] END rfr__max_depth=6, rfr__min_samples_leaf=1, rfr__n_estimators=300; total time=  30.6s\n",
      "[CV 7/10; 8/10] START rfr__max_depth=6, rfr__min_samples_leaf=1, rfr__n_estimators=300\n",
      "[CV 6/10; 8/10] END rfr__max_depth=6, rfr__min_samples_leaf=1, rfr__n_estimators=300; total time=  31.5s\n",
      "[CV 8/10; 8/10] START rfr__max_depth=6, rfr__min_samples_leaf=1, rfr__n_estimators=300\n",
      "[CV 7/10; 8/10] END rfr__max_depth=6, rfr__min_samples_leaf=1, rfr__n_estimators=300; total time=  31.2s\n",
      "[CV 9/10; 8/10] START rfr__max_depth=6, rfr__min_samples_leaf=1, rfr__n_estimators=300\n",
      "[CV 8/10; 8/10] END rfr__max_depth=6, rfr__min_samples_leaf=1, rfr__n_estimators=300; total time=  30.7s\n",
      "[CV 10/10; 8/10] START rfr__max_depth=6, rfr__min_samples_leaf=1, rfr__n_estimators=300\n",
      "[CV 9/10; 8/10] END rfr__max_depth=6, rfr__min_samples_leaf=1, rfr__n_estimators=300; total time=  30.8s\n",
      "[CV 1/10; 9/10] START rfr__max_depth=14, rfr__min_samples_leaf=4, rfr__n_estimators=900\n",
      "[CV 10/10; 8/10] END rfr__max_depth=6, rfr__min_samples_leaf=1, rfr__n_estimators=300; total time=  31.3s\n",
      "[CV 2/10; 9/10] START rfr__max_depth=14, rfr__min_samples_leaf=4, rfr__n_estimators=900\n",
      "[CV 1/10; 9/10] END rfr__max_depth=14, rfr__min_samples_leaf=4, rfr__n_estimators=900; total time= 2.0min\n",
      "[CV 3/10; 9/10] START rfr__max_depth=14, rfr__min_samples_leaf=4, rfr__n_estimators=900\n",
      "[CV 2/10; 9/10] END rfr__max_depth=14, rfr__min_samples_leaf=4, rfr__n_estimators=900; total time= 2.0min\n",
      "[CV 4/10; 9/10] START rfr__max_depth=14, rfr__min_samples_leaf=4, rfr__n_estimators=900\n",
      "[CV 3/10; 9/10] END rfr__max_depth=14, rfr__min_samples_leaf=4, rfr__n_estimators=900; total time= 2.0min\n",
      "[CV 5/10; 9/10] START rfr__max_depth=14, rfr__min_samples_leaf=4, rfr__n_estimators=900\n",
      "[CV 4/10; 9/10] END rfr__max_depth=14, rfr__min_samples_leaf=4, rfr__n_estimators=900; total time= 2.1min\n",
      "[CV 6/10; 9/10] START rfr__max_depth=14, rfr__min_samples_leaf=4, rfr__n_estimators=900\n",
      "[CV 5/10; 9/10] END rfr__max_depth=14, rfr__min_samples_leaf=4, rfr__n_estimators=900; total time= 2.1min\n",
      "[CV 7/10; 9/10] START rfr__max_depth=14, rfr__min_samples_leaf=4, rfr__n_estimators=900\n",
      "[CV 6/10; 9/10] END rfr__max_depth=14, rfr__min_samples_leaf=4, rfr__n_estimators=900; total time= 2.1min\n",
      "[CV 8/10; 9/10] START rfr__max_depth=14, rfr__min_samples_leaf=4, rfr__n_estimators=900\n",
      "[CV 7/10; 9/10] END rfr__max_depth=14, rfr__min_samples_leaf=4, rfr__n_estimators=900; total time= 2.1min\n",
      "[CV 9/10; 9/10] START rfr__max_depth=14, rfr__min_samples_leaf=4, rfr__n_estimators=900\n",
      "[CV 8/10; 9/10] END rfr__max_depth=14, rfr__min_samples_leaf=4, rfr__n_estimators=900; total time= 2.1min\n",
      "[CV 10/10; 9/10] START rfr__max_depth=14, rfr__min_samples_leaf=4, rfr__n_estimators=900\n",
      "[CV 9/10; 9/10] END rfr__max_depth=14, rfr__min_samples_leaf=4, rfr__n_estimators=900; total time= 2.2min\n",
      "[CV 1/10; 10/10] START rfr__max_depth=14, rfr__min_samples_leaf=1, rfr__n_estimators=600\n",
      "[CV 10/10; 9/10] END rfr__max_depth=14, rfr__min_samples_leaf=4, rfr__n_estimators=900; total time= 2.2min\n",
      "[CV 2/10; 10/10] START rfr__max_depth=14, rfr__min_samples_leaf=1, rfr__n_estimators=600\n",
      "[CV 1/10; 10/10] END rfr__max_depth=14, rfr__min_samples_leaf=1, rfr__n_estimators=600; total time= 1.4min\n",
      "[CV 3/10; 10/10] START rfr__max_depth=14, rfr__min_samples_leaf=1, rfr__n_estimators=600\n",
      "[CV 2/10; 10/10] END rfr__max_depth=14, rfr__min_samples_leaf=1, rfr__n_estimators=600; total time= 1.4min\n",
      "[CV 4/10; 10/10] START rfr__max_depth=14, rfr__min_samples_leaf=1, rfr__n_estimators=600\n",
      "[CV 3/10; 10/10] END rfr__max_depth=14, rfr__min_samples_leaf=1, rfr__n_estimators=600; total time= 1.3min\n",
      "[CV 5/10; 10/10] START rfr__max_depth=14, rfr__min_samples_leaf=1, rfr__n_estimators=600\n",
      "[CV 4/10; 10/10] END rfr__max_depth=14, rfr__min_samples_leaf=1, rfr__n_estimators=600; total time= 1.3min\n",
      "[CV 6/10; 10/10] START rfr__max_depth=14, rfr__min_samples_leaf=1, rfr__n_estimators=600\n",
      "[CV 5/10; 10/10] END rfr__max_depth=14, rfr__min_samples_leaf=1, rfr__n_estimators=600; total time= 1.3min\n",
      "[CV 7/10; 10/10] START rfr__max_depth=14, rfr__min_samples_leaf=1, rfr__n_estimators=600\n",
      "[CV 6/10; 10/10] END rfr__max_depth=14, rfr__min_samples_leaf=1, rfr__n_estimators=600; total time= 1.4min\n",
      "[CV 8/10; 10/10] START rfr__max_depth=14, rfr__min_samples_leaf=1, rfr__n_estimators=600\n",
      "[CV 7/10; 10/10] END rfr__max_depth=14, rfr__min_samples_leaf=1, rfr__n_estimators=600; total time= 1.4min\n",
      "[CV 9/10; 10/10] START rfr__max_depth=14, rfr__min_samples_leaf=1, rfr__n_estimators=600\n",
      "[CV 8/10; 10/10] END rfr__max_depth=14, rfr__min_samples_leaf=1, rfr__n_estimators=600; total time= 1.4min\n",
      "[CV 10/10; 10/10] START rfr__max_depth=14, rfr__min_samples_leaf=1, rfr__n_estimators=600\n",
      "[CV 9/10; 10/10] END rfr__max_depth=14, rfr__min_samples_leaf=1, rfr__n_estimators=600; total time= 1.3min\n",
      "[CV 10/10; 10/10] END rfr__max_depth=14, rfr__min_samples_leaf=1, rfr__n_estimators=600; total time= 1.3min\n",
      "\n",
      "Melhores Parâmetros\n",
      "{'rfr__n_estimators': 600, 'rfr__min_samples_leaf': 1, 'rfr__max_depth': 14}\n",
      "\n",
      "Melhor Estimador\n",
      "Pipeline(steps=[('std_scaler', StandardScaler()),\n",
      "                ('rfr',\n",
      "                 RandomForestRegressor(max_depth=14, n_estimators=600,\n",
      "                                       random_state=42))])\n",
      "\n",
      "MÉTRICAS\n",
      "\n",
      "The R-Squared Value (r2) is:  0.8389\n",
      "Adjusted R-Squared Value (adj_r2) is:  0.8389\n",
      "The Mean Squared error (MSE) is:  420965346.9389\n",
      "Root Mean Squared Error (RMSE)  is:  20517.4401\n",
      "Mean Absolute Error (MAE) is:  12207.3958\n"
     ]
    }
   ],
   "source": [
    "fit_model(RandomForestRegressor, \"Random Forest Regressor\",\"rfr\", seed, params_grid_rfr, 10, \"neg_mean_absolute_error\", 10)"
   ]
  },
  {
   "cell_type": "raw",
   "metadata": {},
   "source": [
    "SAÍDA\n",
    "\n",
    "Melhor Estimador\n",
    "Pipeline(steps=[('std_scaler', StandardScaler()),\n",
    "                ('rfr',\n",
    "                 RandomForestRegressor(max_depth=14, n_estimators=600,\n",
    "                                       random_state=42))])\n",
    "\n",
    "MÉTRICAS\n",
    "\n",
    "The R-Squared Value (r2) is:  0.8389\n",
    "Adjusted R-Squared Value (adj_r2) is:  0.8389\n",
    "The Mean Squared error (MSE) is:  420965346.9389\n",
    "Root Mean Squared Error (RMSE)  is:  20517.4401\n",
    "Mean Absolute Error (MAE) is:  12207.3958"
   ]
  },
  {
   "cell_type": "markdown",
   "metadata": {
    "id": "b6miwQRCIrWE"
   },
   "source": [
    "### 5.4. Comparações"
   ]
  },
  {
   "cell_type": "markdown",
   "metadata": {
    "id": "C03pjpNHSKlh"
   },
   "source": [
    "Seguem abaixo as métricas de avaliação dos modelos."
   ]
  },
  {
   "cell_type": "code",
   "execution_count": 98,
   "metadata": {
    "colab": {
     "base_uri": "https://localhost:8080/",
     "height": 112
    },
    "id": "2NrJ2Ph3Pq3j",
    "outputId": "a54b5f03-f03d-4f3c-df2a-a16451c67243"
   },
   "outputs": [
    {
     "data": {
      "text/html": [
       "<div>\n",
       "<style scoped>\n",
       "    .dataframe tbody tr th:only-of-type {\n",
       "        vertical-align: middle;\n",
       "    }\n",
       "\n",
       "    .dataframe tbody tr th {\n",
       "        vertical-align: top;\n",
       "    }\n",
       "\n",
       "    .dataframe thead th {\n",
       "        text-align: right;\n",
       "    }\n",
       "</style>\n",
       "<table border=\"1\" class=\"dataframe\">\n",
       "  <thead>\n",
       "    <tr style=\"text-align: right;\">\n",
       "      <th></th>\n",
       "      <th>Mod_Name</th>\n",
       "      <th>R2 Value</th>\n",
       "      <th>adj_R2</th>\n",
       "      <th>MSE</th>\n",
       "      <th>RMSE</th>\n",
       "      <th>MAE</th>\n",
       "    </tr>\n",
       "  </thead>\n",
       "  <tbody>\n",
       "    <tr>\n",
       "      <th>1</th>\n",
       "      <td>Random Forest Regressor</td>\n",
       "      <td>0.8389</td>\n",
       "      <td>0.8389</td>\n",
       "      <td>4.209653e+08</td>\n",
       "      <td>12207.3958</td>\n",
       "      <td>20517.4401</td>\n",
       "    </tr>\n",
       "    <tr>\n",
       "      <th>0</th>\n",
       "      <td>Decision Tree Regressor</td>\n",
       "      <td>0.8377</td>\n",
       "      <td>0.8377</td>\n",
       "      <td>4.240865e+08</td>\n",
       "      <td>12270.3795</td>\n",
       "      <td>20593.3600</td>\n",
       "    </tr>\n",
       "  </tbody>\n",
       "</table>\n",
       "</div>"
      ],
      "text/plain": [
       "                  Mod_Name  R2 Value  adj_R2           MSE        RMSE  \\\n",
       "1  Random Forest Regressor    0.8389  0.8389  4.209653e+08  12207.3958   \n",
       "0  Decision Tree Regressor    0.8377  0.8377  4.240865e+08  12270.3795   \n",
       "\n",
       "          MAE  \n",
       "1  20517.4401  \n",
       "0  20593.3600  "
      ]
     },
     "execution_count": 98,
     "metadata": {},
     "output_type": "execute_result"
    }
   ],
   "source": [
    "comparacao = model_eval()\n",
    "comparacao"
   ]
  },
  {
   "cell_type": "code",
   "execution_count": null,
   "metadata": {},
   "outputs": [],
   "source": [
    "melhor_modelo = comparacao['Mod_Name'][1]\n",
    "print(f'Melhor modelo: {melhor_modelo}')"
   ]
  },
  {
   "cell_type": "raw",
   "metadata": {},
   "source": [
    "Melhor modelo: Random Forest Regressor"
   ]
  },
  {
   "cell_type": "markdown",
   "metadata": {
    "id": "R3aBkny8LAqM"
   },
   "source": [
    "## 6.Conclusões\n",
    "\n"
   ]
  },
  {
   "cell_type": "markdown",
   "metadata": {},
   "source": [
    "Durante a última reunião concluímos que o modelo ainda não é satisfatório, pois ao analisar o erro médio absoluto e o erro quadrático médio, obtemos valores na casa dos 20 mil reais e 12 mil reais, respectivamente, de modo que torna inviável colocar o modelo em produção por hora. "
   ]
  },
  {
   "cell_type": "markdown",
   "metadata": {
    "id": "rE-Zifi0LEmH"
   },
   "source": [
    "## 7.Referências\n",
    "\n",
    "1. [FIPE](https://veiculos.fipe.org.br/)\n",
    "2. [Dataset](https://www.kaggle.com/datasets/vagnerbessa/average-car-prices-bazil)\n",
    "3. [Decision Tree Regressor](https://scikit-learn.org/stable/modules/generated/sklearn.tree.DecisionTreeRegressor.html)\n",
    "4. [Random Forest Regressor](https://scikit-learn.org/stable/modules/generated/sklearn.ensemble.RandomForestRegressor.html)"
   ]
  }
 ],
 "metadata": {
  "colab": {
   "provenance": [],
   "toc_visible": true
  },
  "kernelspec": {
   "display_name": "Python 3 (ipykernel)",
   "language": "python",
   "name": "python3"
  },
  "language_info": {
   "codemirror_mode": {
    "name": "ipython",
    "version": 3
   },
   "file_extension": ".py",
   "mimetype": "text/x-python",
   "name": "python",
   "nbconvert_exporter": "python",
   "pygments_lexer": "ipython3",
   "version": "3.9.13"
  },
  "vscode": {
   "interpreter": {
    "hash": "ee8e54142690d532759cbd4a4eccce66b1ee2ae89a4f13af99084ba6f2158cae"
   }
  }
 },
 "nbformat": 4,
 "nbformat_minor": 1
}
